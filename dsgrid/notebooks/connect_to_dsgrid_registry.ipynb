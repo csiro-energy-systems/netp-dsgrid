{
 "cells": [
  {
   "cell_type": "markdown",
   "id": "93935e00",
   "metadata": {},
   "source": [
    "## 1. initialize"
   ]
  },
  {
   "cell_type": "code",
   "execution_count": 1,
   "id": "59c46803",
   "metadata": {
    "ExecuteTime": {
     "end_time": "2022-06-18T01:50:06.525028Z",
     "start_time": "2022-06-18T01:50:06.376406Z"
    }
   },
   "outputs": [],
   "source": [
    "from pathlib import Path\n",
    "import os\n",
    "import getpass\n",
    "import shutil\n",
    "\n",
    "from pyspark.sql import SparkSession\n",
    "from pyspark import SparkConf, SparkContext"
   ]
  },
  {
   "cell_type": "code",
   "execution_count": 2,
   "id": "e604690d",
   "metadata": {
    "ExecuteTime": {
     "end_time": "2022-06-18T01:50:06.535063Z",
     "start_time": "2022-06-18T01:50:06.526821Z"
    }
   },
   "outputs": [
    {
     "data": {
      "text/plain": [
       "environ{'PATH': '/usr/local/sbin:/usr/local/bin:/usr/sbin:/usr/bin',\n",
       "        'HOME': '/home/hadoop',\n",
       "        'LOGNAME': 'hadoop',\n",
       "        'USER': 'hadoop',\n",
       "        'SHELL': '/bin/bash',\n",
       "        'JAVA_HOME': '/etc/alternatives/jre',\n",
       "        'SPARK_HOME': '/usr/lib/spark',\n",
       "        'LC_CTYPE': 'C.UTF-8',\n",
       "        'PYDEVD_USE_FRAME_EVAL': 'NO',\n",
       "        'JPY_PARENT_PID': '16982',\n",
       "        'TERM': 'xterm-color',\n",
       "        'CLICOLOR': '1',\n",
       "        'PAGER': 'cat',\n",
       "        'GIT_PAGER': 'cat',\n",
       "        'MPLBACKEND': 'module://matplotlib_inline.backend_inline'}"
      ]
     },
     "execution_count": 2,
     "metadata": {},
     "output_type": "execute_result"
    }
   ],
   "source": [
    "os.environ"
   ]
  },
  {
   "cell_type": "markdown",
   "id": "5c7e730c",
   "metadata": {},
   "source": [
    "## 2. start spark cluster"
   ]
  },
  {
   "cell_type": "code",
   "execution_count": 3,
   "id": "c0fac86c",
   "metadata": {
    "ExecuteTime": {
     "end_time": "2022-06-18T01:50:06.540732Z",
     "start_time": "2022-06-18T01:50:06.536377Z"
    }
   },
   "outputs": [],
   "source": [
    "# tweak setting here:\n",
    "def init_spark(cluster=None, name=\"dsgrid\", tz=\"UTC\"):\n",
    "    \"\"\"Initialize a SparkSession.\"\"\"\n",
    "    conf = SparkConf().setAppName(name)\n",
    "    \n",
    "    if cluster is None:\n",
    "        spark = SparkSession.builder.master(\"local\").appName(name).getOrCreate()\n",
    "    elif cluster == \"AWS\":\n",
    "        pass\n",
    "        # does not need to setMaster for AWS cluster\n",
    "    else:\n",
    "        conf = conf.setMaster(cluster)\n",
    "    conf = conf.setAll([\n",
    "#             (\"spark.sql.shuffle.partitions\", \"200\"),\n",
    "#             (\"spark.executor.instances\", \"7\"),\n",
    "#             (\"spark.executor.cores\", \"5\"),\n",
    "#             (\"spark.executor.memory\", \"10g\"),\n",
    "#             (\"spark.driver.memory\", \"10g\"),\n",
    "#             (\"spark.dynamicAllocation.enabled\", True),\n",
    "#             (\"spark.shuffle.service.enabled\", True),\n",
    "        (\"spark.sql.session.timeZone\", tz),\n",
    "    ])\n",
    "    spark = (\n",
    "            SparkSession.builder.config(conf=conf)\n",
    "            .getOrCreate()\n",
    "        )\n",
    "    return spark"
   ]
  },
  {
   "cell_type": "markdown",
   "id": "45a0e446",
   "metadata": {},
   "source": [
    "To launch a standalone cluster or a cluster on Eagle, follow **instructions** here: \\\n",
    "https://github.com/dsgrid/dsgrid/tree/main/dev#spark-standalone-cluster\n",
    "\n",
    "accordingly, uncomment and update the cluster name below:"
   ]
  },
  {
   "cell_type": "code",
   "execution_count": 4,
   "id": "fd3c099a",
   "metadata": {
    "ExecuteTime": {
     "end_time": "2022-06-18T01:50:32.268777Z",
     "start_time": "2022-06-18T01:50:06.542223Z"
    }
   },
   "outputs": [
    {
     "name": "stderr",
     "output_type": "stream",
     "text": [
      "Setting default log level to \"WARN\".\n",
      "To adjust logging level use sc.setLogLevel(newLevel). For SparkR, use setLogLevel(newLevel).\n",
      "22/06/18 01:50:11 WARN Client: Neither spark.yarn.jars nor spark.yarn.archive is set, falling back to uploading libraries under SPARK_HOME.\n"
     ]
    },
    {
     "data": {
      "text/html": [
       "\n",
       "        <div>\n",
       "            <p><b>SparkContext</b></p>\n",
       "\n",
       "            <p><a href=\"http://ip-172-18-27-10.us-west-2.compute.internal:4040\">Spark UI</a></p>\n",
       "\n",
       "            <dl>\n",
       "              <dt>Version</dt>\n",
       "                <dd><code>v3.2.0-amzn-0</code></dd>\n",
       "              <dt>Master</dt>\n",
       "                <dd><code>yarn</code></dd>\n",
       "              <dt>AppName</dt>\n",
       "                <dd><code>dsgrid-load</code></dd>\n",
       "            </dl>\n",
       "        </div>\n",
       "        "
      ],
      "text/plain": [
       "<SparkContext master=yarn appName=dsgrid-load>"
      ]
     },
     "execution_count": 4,
     "metadata": {},
     "output_type": "execute_result"
    }
   ],
   "source": [
    "main_tz = \"EST\" # <--- UTC, EST\n",
    "\n",
    "### STAND-ALONE CLUSTER\n",
    "# cluster = \"spark://lliu2-34727s:7077\"\n",
    "# name = \"stand-alone\"\n",
    "\n",
    "### CLUSTER ON HPC - Type in nodename\n",
    "# NODENAME = \"r103u23\" # <--- change after deploying cluster\n",
    "# cluster = f\"spark://{NODENAME}.ib0.cm.hpc.nrel.gov:7077\" \n",
    "# name = \"HPC\"\n",
    "\n",
    "### CLUSTER ON HPC - Get cluster from file dropped by prep_spark_cluster_notebook.py\n",
    "# import toml\n",
    "# config = toml.load(\"cluster.toml\")\n",
    "# cluster = config[\"cluster\"]\n",
    "# name = \"HPC\"\n",
    "\n",
    "### LOCAL MODE\n",
    "# cluster = None \n",
    "# name = \"local\"\n",
    "\n",
    "### AWS MODE\n",
    "cluster = \"AWS\"\n",
    "name = \"AWS\"\n",
    "\n",
    "# Initialize\n",
    "spark = init_spark(cluster, 'dsgrid-load', tz=main_tz)\n",
    "\n",
    "# get Spark Context UI\n",
    "sc = spark.sparkContext\n",
    "sc"
   ]
  },
  {
   "cell_type": "markdown",
   "id": "5c91e3b2",
   "metadata": {},
   "source": [
    "#### The *Spark UI* above works only for local mode. For HPC cluster Spark UI, use:\n",
    "http://localhost:8080"
   ]
  },
  {
   "cell_type": "code",
   "execution_count": 5,
   "id": "1f4214f4",
   "metadata": {
    "ExecuteTime": {
     "end_time": "2022-06-18T01:50:32.313239Z",
     "start_time": "2022-06-18T01:50:32.271384Z"
    }
   },
   "outputs": [
    {
     "name": "stdout",
     "output_type": "stream",
     "text": [
      "('spark.app.id', 'application_1655516815883_0001')\n",
      "('spark.app.name', 'dsgrid-load')\n",
      "('spark.app.startTime', '1655517008666')\n",
      "('spark.blacklist.decommissioning.enabled', 'true')\n",
      "('spark.blacklist.decommissioning.timeout', '1h')\n",
      "('spark.decommissioning.timeout.threshold', '20')\n",
      "('spark.driver.appUIAddress', 'http://ip-172-18-27-10.us-west-2.compute.internal:4040')\n",
      "('spark.driver.defaultJavaOptions', \"-XX:OnOutOfMemoryError='kill -9 %p'\")\n",
      "('spark.driver.extraClassPath', '/usr/lib/hadoop-lzo/lib/*:/usr/lib/hadoop/hadoop-aws.jar:/usr/share/aws/aws-java-sdk/*:/usr/share/aws/emr/goodies/lib/emr-spark-goodies.jar:/usr/share/aws/emr/security/conf:/usr/share/aws/emr/security/lib/*:/usr/share/aws/hmclient/lib/aws-glue-datacatalog-spark-client.jar:/usr/share/java/Hive-JSON-Serde/hive-openx-serde.jar:/usr/share/aws/sagemaker-spark-sdk/lib/sagemaker-spark-sdk.jar:/usr/share/aws/emr/s3select/lib/emr-s3-select-spark-connector.jar:/docker/usr/lib/hadoop-lzo/lib/*:/docker/usr/lib/hadoop/hadoop-aws.jar:/docker/usr/share/aws/aws-java-sdk/*:/docker/usr/share/aws/emr/goodies/lib/emr-spark-goodies.jar:/docker/usr/share/aws/emr/security/conf:/docker/usr/share/aws/emr/security/lib/*:/docker/usr/share/aws/hmclient/lib/aws-glue-datacatalog-spark-client.jar:/docker/usr/share/java/Hive-JSON-Serde/hive-openx-serde.jar:/docker/usr/share/aws/sagemaker-spark-sdk/lib/sagemaker-spark-sdk.jar:/docker/usr/share/aws/emr/s3select/lib/emr-s3-select-spark-connector.jar')\n",
      "('spark.driver.extraLibraryPath', '/usr/lib/hadoop/lib/native:/usr/lib/hadoop-lzo/lib/native:/docker/usr/lib/hadoop/lib/native:/docker/usr/lib/hadoop-lzo/lib/native')\n",
      "('spark.driver.host', 'ip-172-18-27-10.us-west-2.compute.internal')\n",
      "('spark.driver.memory', '2048M')\n",
      "('spark.driver.port', '36645')\n",
      "('spark.dynamicAllocation.enabled', 'true')\n",
      "('spark.emr.default.executor.cores', '3')\n",
      "('spark.emr.default.executor.memory', '5010M')\n",
      "('spark.eventLog.dir', 'hdfs:///var/log/spark/apps')\n",
      "('spark.eventLog.enabled', 'true')\n",
      "('spark.executor.cores', '3')\n",
      "('spark.executor.defaultJavaOptions', \"-verbose:gc -XX:+PrintGCDetails -XX:+PrintGCDateStamps -XX:OnOutOfMemoryError='kill -9 %p'\")\n",
      "('spark.executor.extraClassPath', '/usr/lib/hadoop-lzo/lib/*:/usr/lib/hadoop/hadoop-aws.jar:/usr/share/aws/aws-java-sdk/*:/usr/share/aws/emr/goodies/lib/emr-spark-goodies.jar:/usr/share/aws/emr/security/conf:/usr/share/aws/emr/security/lib/*:/usr/share/aws/hmclient/lib/aws-glue-datacatalog-spark-client.jar:/usr/share/java/Hive-JSON-Serde/hive-openx-serde.jar:/usr/share/aws/sagemaker-spark-sdk/lib/sagemaker-spark-sdk.jar:/usr/share/aws/emr/s3select/lib/emr-s3-select-spark-connector.jar:/docker/usr/lib/hadoop-lzo/lib/*:/docker/usr/lib/hadoop/hadoop-aws.jar:/docker/usr/share/aws/aws-java-sdk/*:/docker/usr/share/aws/emr/goodies/lib/emr-spark-goodies.jar:/docker/usr/share/aws/emr/security/conf:/docker/usr/share/aws/emr/security/lib/*:/docker/usr/share/aws/hmclient/lib/aws-glue-datacatalog-spark-client.jar:/docker/usr/share/java/Hive-JSON-Serde/hive-openx-serde.jar:/docker/usr/share/aws/sagemaker-spark-sdk/lib/sagemaker-spark-sdk.jar:/docker/usr/share/aws/emr/s3select/lib/emr-s3-select-spark-connector.jar')\n",
      "('spark.executor.extraLibraryPath', '/usr/lib/hadoop/lib/native:/usr/lib/hadoop-lzo/lib/native:/docker/usr/lib/hadoop/lib/native:/docker/usr/lib/hadoop-lzo/lib/native')\n",
      "('spark.executor.id', 'driver')\n",
      "('spark.executor.memory', '5010M')\n",
      "('spark.executorEnv.PYTHONPATH', '{{PWD}}/pyspark.zip<CPS>{{PWD}}/py4j-0.10.9.2-src.zip')\n",
      "('spark.files.fetchFailure.unRegisterOutputOnHost', 'true')\n",
      "('spark.hadoop.fs.s3.getObject.initialSocketTimeoutMilliseconds', '2000')\n",
      "('spark.hadoop.mapreduce.fileoutputcommitter.algorithm.version.emr_internal_use_only.EmrFileSystem', '2')\n",
      "('spark.hadoop.mapreduce.fileoutputcommitter.cleanup-failures.ignored.emr_internal_use_only.EmrFileSystem', 'true')\n",
      "('spark.hadoop.mapreduce.output.fs.optimized.committer.enabled', 'true')\n",
      "('spark.hadoop.yarn.timeline-service.enabled', 'false')\n",
      "('spark.history.fs.logDirectory', 'hdfs:///var/log/spark/apps')\n",
      "('spark.history.ui.port', '18080')\n",
      "('spark.master', 'yarn')\n",
      "('spark.org.apache.hadoop.yarn.server.webproxy.amfilter.AmIpFilter.param.PROXY_HOSTS', 'ip-172-18-27-10.us-west-2.compute.internal')\n",
      "('spark.org.apache.hadoop.yarn.server.webproxy.amfilter.AmIpFilter.param.PROXY_URI_BASES', 'http://ip-172-18-27-10.us-west-2.compute.internal:20888/proxy/application_1655516815883_0001')\n",
      "('spark.rdd.compress', 'True')\n",
      "('spark.resourceManager.cleanupExpiredHost', 'true')\n",
      "('spark.serializer.objectStreamReset', '100')\n",
      "('spark.shuffle.service.enabled', 'true')\n",
      "('spark.sql.emr.internal.extensions', 'com.amazonaws.emr.spark.EmrSparkSessionExtensions')\n",
      "('spark.sql.hive.metastore.sharedPrefixes', 'com.amazonaws.services.dynamodbv2')\n",
      "('spark.sql.parquet.fs.optimized.committer.optimization-enabled', 'true')\n",
      "('spark.sql.parquet.output.committer.class', 'com.amazon.emr.committer.EmrOptimizedSparkSqlParquetOutputCommitter')\n",
      "('spark.sql.session.timeZone', 'EST')\n",
      "('spark.sql.warehouse.dir', 'hdfs://ip-172-18-27-10.us-west-2.compute.internal:8020/user/spark/warehouse')\n",
      "('spark.stage.attempt.ignoreOnDecommissionFetchFailure', 'true')\n",
      "('spark.submit.deployMode', 'client')\n",
      "('spark.submit.pyFiles', '')\n",
      "('spark.ui.filters', 'org.apache.hadoop.yarn.server.webproxy.amfilter.AmIpFilter')\n",
      "('spark.ui.proxyBase', '/proxy/application_1655516815883_0001')\n",
      "('spark.ui.showConsoleProgress', 'true')\n",
      "('spark.yarn.appMasterEnv.SPARK_PUBLIC_DNS', '$(hostname -f)')\n",
      "('spark.yarn.dist.files', 'file:/etc/spark/conf.dist/hive-site.xml,file:/etc/hudi/conf.dist/hudi-defaults.conf')\n",
      "('spark.yarn.executor.memoryOverheadFactor', '0.1875')\n",
      "('spark.yarn.historyServer.address', 'ip-172-18-27-10.us-west-2.compute.internal:18080')\n",
      "('spark.yarn.isPython', 'true')\n"
     ]
    }
   ],
   "source": [
    "for x in sorted(sc.getConf().getAll()):\n",
    "    print(x)"
   ]
  },
  {
   "cell_type": "code",
   "execution_count": null,
   "id": "b33cfadc",
   "metadata": {},
   "outputs": [],
   "source": []
  },
  {
   "cell_type": "markdown",
   "id": "d8b37296",
   "metadata": {},
   "source": [
    "## 3. dsgrid"
   ]
  },
  {
   "cell_type": "code",
   "execution_count": 6,
   "id": "aa24da30",
   "metadata": {
    "ExecuteTime": {
     "end_time": "2022-06-18T01:50:32.523406Z",
     "start_time": "2022-06-18T01:50:32.314926Z"
    }
   },
   "outputs": [
    {
     "data": {
      "text/html": [
       "<style>.container { width:100% !important; }</style>"
      ],
      "text/plain": [
       "<IPython.core.display.HTML object>"
      ]
     },
     "metadata": {},
     "output_type": "display_data"
    }
   ],
   "source": [
    "from IPython.core.display import display, HTML\n",
    "display(HTML(\"<style>.container { width:100% !important; }</style>\"))\n",
    "import pandas as pd\n",
    "pd.set_option('display.max_rows', 20)\n",
    "# import plotly\n",
    "# pd.options.plotting.backend = \"plotly\"\n",
    "import numpy as np\n",
    "import itertools\n",
    "import pytz\n",
    "from datetime import datetime, timedelta\n",
    "\n",
    "from semver import VersionInfo\n",
    "from pydantic import ValidationError\n",
    "import pyspark.sql.functions as F\n",
    "import pyspark.sql.types as sparktypes"
   ]
  },
  {
   "cell_type": "code",
   "execution_count": 7,
   "id": "239217ef",
   "metadata": {
    "ExecuteTime": {
     "end_time": "2022-06-18T01:50:32.793319Z",
     "start_time": "2022-06-18T01:50:32.525864Z"
    }
   },
   "outputs": [],
   "source": [
    "from dsgrid.common import LOCAL_REGISTRY\n",
    "from dsgrid.registry.registry_manager import RegistryManager\n",
    "from dsgrid.utils.files import load_data\n",
    "from dsgrid.utils.spark import create_dataframe, read_dataframe, get_unique_values\n",
    "from dsgrid.dimension.base_models import DimensionType\n",
    "from dsgrid.dataset.dataset import Dataset\n",
    "from dsgrid.project import Project\n",
    "from dsgrid.dimension.time import TimeZone"
   ]
  },
  {
   "cell_type": "markdown",
   "id": "02cec913",
   "metadata": {},
   "source": [
    "## 3.1. Check dsgrid registry"
   ]
  },
  {
   "cell_type": "code",
   "execution_count": 8,
   "id": "2ce24d62",
   "metadata": {
    "ExecuteTime": {
     "end_time": "2022-06-18T01:50:32.799511Z",
     "start_time": "2022-06-18T01:50:32.795360Z"
    }
   },
   "outputs": [
    {
     "data": {
      "text/plain": [
       "PosixPath('/home/hadoop/.dsgrid-registry')"
      ]
     },
     "execution_count": 8,
     "metadata": {},
     "output_type": "execute_result"
    }
   ],
   "source": [
    "## sync registry and then load offline\n",
    "#LOCAL_REGISTRY = \"s3://nrel-dsgrid-registry-archive\"\n",
    "registry_path = os.getenv(\"DSGRID_REGISTRY_PATH\", default=LOCAL_REGISTRY)\n",
    "registry_path"
   ]
  },
  {
   "cell_type": "code",
   "execution_count": 9,
   "id": "f15cdc99",
   "metadata": {
    "ExecuteTime": {
     "end_time": "2022-06-18T01:50:58.501183Z",
     "start_time": "2022-06-18T01:50:32.802137Z"
    }
   },
   "outputs": [
    {
     "name": "stdout",
     "output_type": "stream",
     "text": [
      "syncing registry: /home/hadoop/.dsgrid-registry\n",
      "download: s3://nrel-dsgrid-registry/configs/datasets/conus_2022_reference_resstock/1.0.0/dataset.toml to ../.dsgrid-registry/configs/datasets/conus_2022_reference_resstock/1.0.0/dataset.toml\n",
      "download: s3://nrel-dsgrid-registry/configs/datasets/conus_2022_reference_resstock/registry.toml to ../.dsgrid-registry/configs/datasets/conus_2022_reference_resstock/registry.toml\n",
      "download: s3://nrel-dsgrid-registry/configs/datasets/tempo_conus_2022/1.0.0/dataset.toml to ../.dsgrid-registry/configs/datasets/tempo_conus_2022/1.0.0/dataset.toml\n",
      "download: s3://nrel-dsgrid-registry/configs/dimension_mappings/acs_county_2018__us_counties_2020_l48__d3845570-48dc-4b7e-b4de-465272a0007c/registry.toml to ../.dsgrid-registry/configs/dimension_mappings/acs_county_2018__us_counties_2020_l48__d3845570-48dc-4b7e-b4de-465272a0007c/registry.toml\n",
      "download: s3://nrel-dsgrid-registry/configs/datasets/conus_2022_reference_comstock/registry.toml to ../.dsgrid-registry/configs/datasets/conus_2022_reference_comstock/registry.toml\n",
      "download: s3://nrel-dsgrid-registry/configs/dimension_mappings/acs_county_2018__us_counties_2020_l48__d3845570-48dc-4b7e-b4de-465272a0007c/1.0.0/county_to_county.csv to ../.dsgrid-registry/configs/dimension_mappings/acs_county_2018__us_counties_2020_l48__d3845570-48dc-4b7e-b4de-465272a0007c/1.0.0/county_to_county.csv\n",
      "download: s3://nrel-dsgrid-registry/configs/dimension_mappings/conus-2022-detailed-end-uses-kwh__all-electric-end-uses__c4149547-1209-4ce3-bb4c-3ab292067e8a/registry.toml to ../.dsgrid-registry/configs/dimension_mappings/conus-2022-detailed-end-uses-kwh__all-electric-end-uses__c4149547-1209-4ce3-bb4c-3ab292067e8a/registry.toml\n",
      "download: s3://nrel-dsgrid-registry/configs/datasets/tempo_conus_2022/registry.toml to ../.dsgrid-registry/configs/datasets/tempo_conus_2022/registry.toml\n",
      "download: s3://nrel-dsgrid-registry/configs/dimension_mappings/acs_county_2018__us_counties_2020_l48__d3845570-48dc-4b7e-b4de-465272a0007c/1.0.0/dimension_mapping.toml to ../.dsgrid-registry/configs/dimension_mappings/acs_county_2018__us_counties_2020_l48__d3845570-48dc-4b7e-b4de-465272a0007c/1.0.0/dimension_mapping.toml\n",
      "download: s3://nrel-dsgrid-registry/configs/datasets/conus_2022_reference_comstock/1.0.0/dataset.toml to ../.dsgrid-registry/configs/datasets/conus_2022_reference_comstock/1.0.0/dataset.toml\n",
      "download: s3://nrel-dsgrid-registry/configs/dimension_mappings/conus-2022-detailed-end-uses-kwh__all-electric-end-uses__c4149547-1209-4ce3-bb4c-3ab292067e8a/1.0.0/dimension_mapping.toml to ../.dsgrid-registry/configs/dimension_mappings/conus-2022-detailed-end-uses-kwh__all-electric-end-uses__c4149547-1209-4ce3-bb4c-3ab292067e8a/1.0.0/dimension_mapping.toml\n",
      "download: s3://nrel-dsgrid-registry/configs/dimension_mappings/conus-2022-detailed-subsectors__all-subsectors__e3814a31-f169-49f2-b220-119bf4495e58/1.0.0/lookup_subsector_to_all_subsectors.csv to ../.dsgrid-registry/configs/dimension_mappings/conus-2022-detailed-subsectors__all-subsectors__e3814a31-f169-49f2-b220-119bf4495e58/1.0.0/lookup_subsector_to_all_subsectors.csv\n",
      "download: s3://nrel-dsgrid-registry/configs/dimension_mappings/conus-2022-detailed-subsectors__all-subsectors__e3814a31-f169-49f2-b220-119bf4495e58/1.0.0/dimension_mapping.toml to ../.dsgrid-registry/configs/dimension_mappings/conus-2022-detailed-subsectors__all-subsectors__e3814a31-f169-49f2-b220-119bf4495e58/1.0.0/dimension_mapping.toml\n",
      "download: s3://nrel-dsgrid-registry/configs/dimension_mappings/conus-2022-detailed-end-uses-kwh__all-electric-end-uses__c4149547-1209-4ce3-bb4c-3ab292067e8a/1.0.0/lookup_enduses_to_all_electric_enduses.csv to ../.dsgrid-registry/configs/dimension_mappings/conus-2022-detailed-end-uses-kwh__all-electric-end-uses__c4149547-1209-4ce3-bb4c-3ab292067e8a/1.0.0/lookup_enduses_to_all_electric_enduses.csv\n",
      "download: s3://nrel-dsgrid-registry/configs/dimension_mappings/conus-2022-reference__dsgrid_conus_2022_scenarios__70664087-4ba9-40a9-a714-6a365deb9b26/1.0.0/dimension_mapping.toml to ../.dsgrid-registry/configs/dimension_mappings/conus-2022-reference__dsgrid_conus_2022_scenarios__70664087-4ba9-40a9-a714-6a365deb9b26/1.0.0/dimension_mapping.toml\n",
      "download: s3://nrel-dsgrid-registry/configs/dimension_mappings/conus-2022-detailed-subsectors__all-subsectors__e3814a31-f169-49f2-b220-119bf4495e58/registry.toml to ../.dsgrid-registry/configs/dimension_mappings/conus-2022-detailed-subsectors__all-subsectors__e3814a31-f169-49f2-b220-119bf4495e58/registry.toml\n",
      "download: s3://nrel-dsgrid-registry/configs/dimension_mappings/conus-2022-reference__dsgrid_conus_2022_scenarios__70664087-4ba9-40a9-a714-6a365deb9b26/1.0.0/scenario_to_scenario.csv to ../.dsgrid-registry/configs/dimension_mappings/conus-2022-reference__dsgrid_conus_2022_scenarios__70664087-4ba9-40a9-a714-6a365deb9b26/1.0.0/scenario_to_scenario.csv\n",
      "download: s3://nrel-dsgrid-registry/configs/dimension_mappings/conus-2022__conus-2022-scenarios__4fd6a61a-7636-4028-83dc-19a1467eec5a/1.0.0/scenario_to_scenario.csv to ../.dsgrid-registry/configs/dimension_mappings/conus-2022__conus-2022-scenarios__4fd6a61a-7636-4028-83dc-19a1467eec5a/1.0.0/scenario_to_scenario.csv\n",
      "download: s3://nrel-dsgrid-registry/configs/dimension_mappings/conus-2022__conus-2022-scenarios__4fd6a61a-7636-4028-83dc-19a1467eec5a/1.0.0/dimension_mapping.toml to ../.dsgrid-registry/configs/dimension_mappings/conus-2022__conus-2022-scenarios__4fd6a61a-7636-4028-83dc-19a1467eec5a/1.0.0/dimension_mapping.toml\n",
      "download: s3://nrel-dsgrid-registry/configs/dimension_mappings/conus_2022-comstock_us_county_fip__us_counties_2020_l48__accba898-fd24-4092-af9c-3c8a534455a6/1.0.0/county_to_county.csv to ../.dsgrid-registry/configs/dimension_mappings/conus_2022-comstock_us_county_fip__us_counties_2020_l48__accba898-fd24-4092-af9c-3c8a534455a6/1.0.0/county_to_county.csv\n",
      "download: s3://nrel-dsgrid-registry/configs/dimension_mappings/conus-2022__conus-2022-scenarios__4fd6a61a-7636-4028-83dc-19a1467eec5a/registry.toml to ../.dsgrid-registry/configs/dimension_mappings/conus-2022__conus-2022-scenarios__4fd6a61a-7636-4028-83dc-19a1467eec5a/registry.toml\n",
      "download: s3://nrel-dsgrid-registry/configs/dimension_mappings/conus_2022-comstock_us_county_fip__us_counties_2020_l48__accba898-fd24-4092-af9c-3c8a534455a6/1.0.0/dimension_mapping.toml to ../.dsgrid-registry/configs/dimension_mappings/conus_2022-comstock_us_county_fip__us_counties_2020_l48__accba898-fd24-4092-af9c-3c8a534455a6/1.0.0/dimension_mapping.toml\n",
      "download: s3://nrel-dsgrid-registry/configs/dimension_mappings/conus_2022-comstock_us_county_fip__us_counties_2020_l48__cc877503-c07d-45f1-a1a7-988d65ec2710/1.0.0/dimension_mapping.toml to ../.dsgrid-registry/configs/dimension_mappings/conus_2022-comstock_us_county_fip__us_counties_2020_l48__cc877503-c07d-45f1-a1a7-988d65ec2710/1.0.0/dimension_mapping.toml\n",
      "download: s3://nrel-dsgrid-registry/configs/dimension_mappings/conus_2022-comstock_us_county_fip__us_counties_2020_l48__cc877503-c07d-45f1-a1a7-988d65ec2710/registry.toml to ../.dsgrid-registry/configs/dimension_mappings/conus_2022-comstock_us_county_fip__us_counties_2020_l48__cc877503-c07d-45f1-a1a7-988d65ec2710/registry.toml\n",
      "download: s3://nrel-dsgrid-registry/configs/dimension_mappings/conus-2022-reference__dsgrid_conus_2022_scenarios__70664087-4ba9-40a9-a714-6a365deb9b26/registry.toml to ../.dsgrid-registry/configs/dimension_mappings/conus-2022-reference__dsgrid_conus_2022_scenarios__70664087-4ba9-40a9-a714-6a365deb9b26/registry.toml\n",
      "download: s3://nrel-dsgrid-registry/configs/dimension_mappings/conus_2022-comstock_us_county_fip__us_counties_2020_l48__cc877503-c07d-45f1-a1a7-988d65ec2710/1.0.0/county_to_county.csv to ../.dsgrid-registry/configs/dimension_mappings/conus_2022-comstock_us_county_fip__us_counties_2020_l48__cc877503-c07d-45f1-a1a7-988d65ec2710/1.0.0/county_to_county.csv\n",
      "download: s3://nrel-dsgrid-registry/configs/dimension_mappings/conus_2022-resstock_energy_enduses_kwh__conus-2022-detailed-end-uses-kwh__15d78e5a-a757-4772-99ee-1becbdd2a2d8/registry.toml to ../.dsgrid-registry/configs/dimension_mappings/conus_2022-resstock_energy_enduses_kwh__conus-2022-detailed-end-uses-kwh__15d78e5a-a757-4772-99ee-1becbdd2a2d8/registry.toml\n",
      "download: s3://nrel-dsgrid-registry/configs/dimension_mappings/conus_2022-comstock_us_county_fip__us_counties_2020_l48__accba898-fd24-4092-af9c-3c8a534455a6/registry.toml to ../.dsgrid-registry/configs/dimension_mappings/conus_2022-comstock_us_county_fip__us_counties_2020_l48__accba898-fd24-4092-af9c-3c8a534455a6/registry.toml\n",
      "download: s3://nrel-dsgrid-registry/configs/dimension_mappings/conus_2022-resstock_energy_enduses_kwh__conus-2022-detailed-end-uses-kwh__15d78e5a-a757-4772-99ee-1becbdd2a2d8/1.0.0/metric_to_metric.csv to ../.dsgrid-registry/configs/dimension_mappings/conus_2022-resstock_energy_enduses_kwh__conus-2022-detailed-end-uses-kwh__15d78e5a-a757-4772-99ee-1becbdd2a2d8/1.0.0/metric_to_metric.csv\n",
      "download: s3://nrel-dsgrid-registry/configs/dimension_mappings/conus_2022-resstock_energy_enduses_kwh__conus-2022-detailed-end-uses-kwh__aa041151-b216-4f6d-a1c2-6fdae2381231/1.0.0/metric_to_metric.csv to ../.dsgrid-registry/configs/dimension_mappings/conus_2022-resstock_energy_enduses_kwh__conus-2022-detailed-end-uses-kwh__aa041151-b216-4f6d-a1c2-6fdae2381231/1.0.0/metric_to_metric.csv\n",
      "download: s3://nrel-dsgrid-registry/configs/dimension_mappings/conus_2022-resstock_energy_enduses_kwh__conus-2022-detailed-end-uses-kwh__15d78e5a-a757-4772-99ee-1becbdd2a2d8/1.0.0/dimension_mapping.toml to ../.dsgrid-registry/configs/dimension_mappings/conus_2022-resstock_energy_enduses_kwh__conus-2022-detailed-end-uses-kwh__15d78e5a-a757-4772-99ee-1becbdd2a2d8/1.0.0/dimension_mapping.toml\n",
      "download: s3://nrel-dsgrid-registry/configs/dimension_mappings/conus_2022-resstock_us_county_fip__us_counties_2020_l48__1bb66b1e-09a8-4442-9359-d1c77ae1b567/registry.toml to ../.dsgrid-registry/configs/dimension_mappings/conus_2022-resstock_us_county_fip__us_counties_2020_l48__1bb66b1e-09a8-4442-9359-d1c77ae1b567/registry.toml\n",
      "download: s3://nrel-dsgrid-registry/configs/dimension_mappings/conus_2022-resstock_energy_enduses_kwh__conus-2022-detailed-end-uses-kwh__aa041151-b216-4f6d-a1c2-6fdae2381231/registry.toml to ../.dsgrid-registry/configs/dimension_mappings/conus_2022-resstock_energy_enduses_kwh__conus-2022-detailed-end-uses-kwh__aa041151-b216-4f6d-a1c2-6fdae2381231/registry.toml\n",
      "download: s3://nrel-dsgrid-registry/configs/dimension_mappings/conus_2022-resstock_us_county_fip__us_counties_2020_l48__1bb66b1e-09a8-4442-9359-d1c77ae1b567/1.0.0/dimension_mapping.toml to ../.dsgrid-registry/configs/dimension_mappings/conus_2022-resstock_us_county_fip__us_counties_2020_l48__1bb66b1e-09a8-4442-9359-d1c77ae1b567/1.0.0/dimension_mapping.toml\n",
      "download: s3://nrel-dsgrid-registry/configs/dimension_mappings/conus_2022-resstock_us_county_fip__us_counties_2020_l48__a874b676-894c-4b76-89d8-fa60119bf563/1.0.0/dimension_mapping.toml to ../.dsgrid-registry/configs/dimension_mappings/conus_2022-resstock_us_county_fip__us_counties_2020_l48__a874b676-894c-4b76-89d8-fa60119bf563/1.0.0/dimension_mapping.toml\n",
      "download: s3://nrel-dsgrid-registry/configs/dimension_mappings/conus_2022-resstock_us_county_fip__us_counties_2020_l48__a874b676-894c-4b76-89d8-fa60119bf563/1.0.0/county_to_county.csv to ../.dsgrid-registry/configs/dimension_mappings/conus_2022-resstock_us_county_fip__us_counties_2020_l48__a874b676-894c-4b76-89d8-fa60119bf563/1.0.0/county_to_county.csv\n",
      "download: s3://nrel-dsgrid-registry/configs/dimension_mappings/conus_2022-resstock_us_county_fip__us_counties_2020_l48__1bb66b1e-09a8-4442-9359-d1c77ae1b567/1.0.0/county_to_county.csv to ../.dsgrid-registry/configs/dimension_mappings/conus_2022-resstock_us_county_fip__us_counties_2020_l48__1bb66b1e-09a8-4442-9359-d1c77ae1b567/1.0.0/county_to_county.csv\n",
      "download: s3://nrel-dsgrid-registry/configs/dimension_mappings/conus_2022-resstock_energy_enduses_kwh__conus-2022-detailed-end-uses-kwh__aa041151-b216-4f6d-a1c2-6fdae2381231/1.0.0/dimension_mapping.toml to ../.dsgrid-registry/configs/dimension_mappings/conus_2022-resstock_energy_enduses_kwh__conus-2022-detailed-end-uses-kwh__aa041151-b216-4f6d-a1c2-6fdae2381231/1.0.0/dimension_mapping.toml\n",
      "download: s3://nrel-dsgrid-registry/configs/dimension_mappings/data-sources_-_comstock-resstock-tempo-only__all-data_sources__ea5829ae-33c6-44e5-a21c-fdd8948fc78a/1.0.0/lookup_data_source_to_all_data_sources.csv to ../.dsgrid-registry/configs/dimension_mappings/data-sources_-_comstock-resstock-tempo-only__all-data_sources__ea5829ae-33c6-44e5-a21c-fdd8948fc78a/1.0.0/lookup_data_source_to_all_data_sources.csv\n",
      "download: s3://nrel-dsgrid-registry/configs/dimension_mappings/data-sources_-_comstock-resstock-tempo-only__all-data_sources__ea5829ae-33c6-44e5-a21c-fdd8948fc78a/1.0.0/dimension_mapping.toml to ../.dsgrid-registry/configs/dimension_mappings/data-sources_-_comstock-resstock-tempo-only__all-data_sources__ea5829ae-33c6-44e5-a21c-fdd8948fc78a/1.0.0/dimension_mapping.toml\n",
      "download: s3://nrel-dsgrid-registry/configs/dimension_mappings/data-sources_-_comstock-resstock-tempo-only__all-data_sources__ea5829ae-33c6-44e5-a21c-fdd8948fc78a/registry.toml to ../.dsgrid-registry/configs/dimension_mappings/data-sources_-_comstock-resstock-tempo-only__all-data_sources__ea5829ae-33c6-44e5-a21c-fdd8948fc78a/registry.toml\n",
      "download: s3://nrel-dsgrid-registry/configs/dimension_mappings/model-year-2018__model_years_2010_to_2050__f1879de0-d5d7-47dc-a30e-ad8b61b3230f/1.0.0/model_year_to_model_year.csv to ../.dsgrid-registry/configs/dimension_mappings/model-year-2018__model_years_2010_to_2050__f1879de0-d5d7-47dc-a30e-ad8b61b3230f/1.0.0/model_year_to_model_year.csv\n",
      "download: s3://nrel-dsgrid-registry/configs/dimension_mappings/model-year-2018__model_years_2010_to_2050__f1879de0-d5d7-47dc-a30e-ad8b61b3230f/1.0.0/dimension_mapping.toml to ../.dsgrid-registry/configs/dimension_mappings/model-year-2018__model_years_2010_to_2050__f1879de0-d5d7-47dc-a30e-ad8b61b3230f/1.0.0/dimension_mapping.toml\n",
      "download: s3://nrel-dsgrid-registry/configs/dimension_mappings/conus_2022-resstock_us_county_fip__us_counties_2020_l48__a874b676-894c-4b76-89d8-fa60119bf563/registry.toml to ../.dsgrid-registry/configs/dimension_mappings/conus_2022-resstock_us_county_fip__us_counties_2020_l48__a874b676-894c-4b76-89d8-fa60119bf563/registry.toml\n",
      "download: s3://nrel-dsgrid-registry/configs/dimension_mappings/sectors_-_com-res-tra-only__all-sectors__0d46cff4-5893-4e02-be73-d6adcefde819/1.0.0/lookup_sector_to_all_sectors.csv to ../.dsgrid-registry/configs/dimension_mappings/sectors_-_com-res-tra-only__all-sectors__0d46cff4-5893-4e02-be73-d6adcefde819/1.0.0/lookup_sector_to_all_sectors.csv\n",
      "download: s3://nrel-dsgrid-registry/configs/dimension_mappings/model-year-2018__model_years_2010_to_2050_with_2_year_intervals__e363f3af-76f5-4fc6-aa4e-0a38030a964b/registry.toml to ../.dsgrid-registry/configs/dimension_mappings/model-year-2018__model_years_2010_to_2050_with_2_year_intervals__e363f3af-76f5-4fc6-aa4e-0a38030a964b/registry.toml\n",
      "download: s3://nrel-dsgrid-registry/configs/dimension_mappings/sectors_-_com-res-tra-only__all-sectors__0d46cff4-5893-4e02-be73-d6adcefde819/1.0.0/dimension_mapping.toml to ../.dsgrid-registry/configs/dimension_mappings/sectors_-_com-res-tra-only__all-sectors__0d46cff4-5893-4e02-be73-d6adcefde819/1.0.0/dimension_mapping.toml\n",
      "download: s3://nrel-dsgrid-registry/configs/dimension_mappings/model-year-2018__model_years_2010_to_2050__f1879de0-d5d7-47dc-a30e-ad8b61b3230f/registry.toml to ../.dsgrid-registry/configs/dimension_mappings/model-year-2018__model_years_2010_to_2050__f1879de0-d5d7-47dc-a30e-ad8b61b3230f/registry.toml\n",
      "download: s3://nrel-dsgrid-registry/configs/dimension_mappings/model-year-2018__model_years_2010_to_2050_with_2_year_intervals__e363f3af-76f5-4fc6-aa4e-0a38030a964b/1.0.0/model_year_to_model_year.csv to ../.dsgrid-registry/configs/dimension_mappings/model-year-2018__model_years_2010_to_2050_with_2_year_intervals__e363f3af-76f5-4fc6-aa4e-0a38030a964b/1.0.0/model_year_to_model_year.csv\n",
      "download: s3://nrel-dsgrid-registry/configs/dimension_mappings/model-year-2018__model_years_2010_to_2050_with_2_year_intervals__e363f3af-76f5-4fc6-aa4e-0a38030a964b/1.0.0/dimension_mapping.toml to ../.dsgrid-registry/configs/dimension_mappings/model-year-2018__model_years_2010_to_2050_with_2_year_intervals__e363f3af-76f5-4fc6-aa4e-0a38030a964b/1.0.0/dimension_mapping.toml\n",
      "download: s3://nrel-dsgrid-registry/configs/dimension_mappings/tempo_ldv_pev_usage__conus-2022-detailed-end-uses-kwh__370a689f-d82d-4b17-9c89-3b70050a0413/1.0.0/dimension_mapping.toml to ../.dsgrid-registry/configs/dimension_mappings/tempo_ldv_pev_usage__conus-2022-detailed-end-uses-kwh__370a689f-d82d-4b17-9c89-3b70050a0413/1.0.0/dimension_mapping.toml\n"
     ]
    },
    {
     "name": "stdout",
     "output_type": "stream",
     "text": [
      "Completed 257.6 KiB/~1022.4 KiB (503.8 KiB/s) with ~69 file(s) remaining (calculating...)\r",
      "download: s3://nrel-dsgrid-registry/configs/dimension_mappings/tempo_ldv_pev_usage__conus-2022-detailed-end-uses-kwh__370a689f-d82d-4b17-9c89-3b70050a0413/1.0.0/metric_to_metric.csv to ../.dsgrid-registry/configs/dimension_mappings/tempo_ldv_pev_usage__conus-2022-detailed-end-uses-kwh__370a689f-d82d-4b17-9c89-3b70050a0413/1.0.0/metric_to_metric.csv\n",
      "Completed 257.6 KiB/~1022.6 KiB (503.8 KiB/s) with ~69 file(s) remaining (calculating...)\r",
      "Completed 303.6 KiB/~1022.6 KiB (592.6 KiB/s) with ~69 file(s) remaining (calculating...)\r",
      "download: s3://nrel-dsgrid-registry/configs/dimension_mappings/tempo_bin__conus-2022-detailed-subsectors__006c7da2-cf2b-4863-b802-0d0f8cca1306/1.0.0/dimension_mapping.toml to ../.dsgrid-registry/configs/dimension_mappings/tempo_bin__conus-2022-detailed-subsectors__006c7da2-cf2b-4863-b802-0d0f8cca1306/1.0.0/dimension_mapping.toml\n",
      "Completed 303.6 KiB/~1022.6 KiB (592.6 KiB/s) with ~68 file(s) remaining (calculating...)\r",
      "Completed 304.3 KiB/~1023.2 KiB (583.0 KiB/s) with ~70 file(s) remaining (calculating...)\r",
      "Completed 304.6 KiB/~1023.2 KiB (581.4 KiB/s) with ~70 file(s) remaining (calculating...)\r",
      "download: s3://nrel-dsgrid-registry/configs/dimension_mappings/tempo_bin__conus-2022-detailed-subsectors__006c7da2-cf2b-4863-b802-0d0f8cca1306/1.0.0/subsector_to_subsector.csv to ../.dsgrid-registry/configs/dimension_mappings/tempo_bin__conus-2022-detailed-subsectors__006c7da2-cf2b-4863-b802-0d0f8cca1306/1.0.0/subsector_to_subsector.csv\n",
      "Completed 304.6 KiB/~1023.2 KiB (581.4 KiB/s) with ~69 file(s) remaining (calculating...)\r",
      "download: s3://nrel-dsgrid-registry/configs/dimension_mappings/tempo_bin__conus-2022-detailed-subsectors__006c7da2-cf2b-4863-b802-0d0f8cca1306/registry.toml to ../.dsgrid-registry/configs/dimension_mappings/tempo_bin__conus-2022-detailed-subsectors__006c7da2-cf2b-4863-b802-0d0f8cca1306/registry.toml\n",
      "Completed 304.6 KiB/~1023.2 KiB (581.4 KiB/s) with ~68 file(s) remaining (calculating...)\r",
      "download: s3://nrel-dsgrid-registry/configs/dimension_mappings/tempo_model_year__model_years_2010_to_2050__885c1eec-7022-427f-86cc-5353c456e950/1.0.0/dimension_mapping.toml to ../.dsgrid-registry/configs/dimension_mappings/tempo_model_year__model_years_2010_to_2050__885c1eec-7022-427f-86cc-5353c456e950/1.0.0/dimension_mapping.toml\n",
      "Completed 304.6 KiB/~1023.2 KiB (581.4 KiB/s) with ~67 file(s) remaining (calculating...)\r",
      "download: s3://nrel-dsgrid-registry/configs/dimension_mappings/tempo_ldv_pev_usage__conus-2022-detailed-end-uses-kwh__370a689f-d82d-4b17-9c89-3b70050a0413/registry.toml to ../.dsgrid-registry/configs/dimension_mappings/tempo_ldv_pev_usage__conus-2022-detailed-end-uses-kwh__370a689f-d82d-4b17-9c89-3b70050a0413/registry.toml\n",
      "Completed 304.6 KiB/~1023.2 KiB (581.4 KiB/s) with ~66 file(s) remaining (calculating...)\r",
      "Completed 304.9 KiB/~1023.2 KiB (577.9 KiB/s) with ~66 file(s) remaining (calculating...)\r",
      "Completed 305.7 KiB/~1023.2 KiB (571.0 KiB/s) with ~67 file(s) remaining (calculating...)\r",
      "Completed 306.1 KiB/~1.0 MiB (561.6 KiB/s) with ~69 file(s) remaining (calculating...)   \r",
      "download: s3://nrel-dsgrid-registry/configs/dimension_mappings/tempo_model_year__model_years_2010_to_2050__885c1eec-7022-427f-86cc-5353c456e950/1.0.0/model_year_to_model_year.csv to ../.dsgrid-registry/configs/dimension_mappings/tempo_model_year__model_years_2010_to_2050__885c1eec-7022-427f-86cc-5353c456e950/1.0.0/model_year_to_model_year.csv\n",
      "Completed 306.1 KiB/~1.0 MiB (561.6 KiB/s) with ~68 file(s) remaining (calculating...)\r",
      "download: s3://nrel-dsgrid-registry/configs/dimension_mappings/sectors_-_com-res-tra-only__all-sectors__0d46cff4-5893-4e02-be73-d6adcefde819/registry.toml to ../.dsgrid-registry/configs/dimension_mappings/sectors_-_com-res-tra-only__all-sectors__0d46cff4-5893-4e02-be73-d6adcefde819/registry.toml\n",
      "Completed 306.1 KiB/~1.0 MiB (561.6 KiB/s) with ~67 file(s) remaining (calculating...)\r",
      "download: s3://nrel-dsgrid-registry/configs/dimension_mappings/tempo_model_year__model_years_2010_to_2050__885c1eec-7022-427f-86cc-5353c456e950/registry.toml to ../.dsgrid-registry/configs/dimension_mappings/tempo_model_year__model_years_2010_to_2050__885c1eec-7022-427f-86cc-5353c456e950/registry.toml\n",
      "Completed 306.1 KiB/~1.0 MiB (561.6 KiB/s) with ~67 file(s) remaining (calculating...)\r",
      "Completed 306.7 KiB/~1.0 MiB (547.8 KiB/s) with ~68 file(s) remaining (calculating...)\r",
      "download: s3://nrel-dsgrid-registry/configs/dimension_mappings/us_counties_2020_l48__reeds_pca__fcc554e1-87c9-483f-89e3-a0df9563cf89/1.0.0/dimension_mapping.toml to ../.dsgrid-registry/configs/dimension_mappings/us_counties_2020_l48__reeds_pca__fcc554e1-87c9-483f-89e3-a0df9563cf89/1.0.0/dimension_mapping.toml\n",
      "Completed 306.7 KiB/~1.1 MiB (547.8 KiB/s) with ~69 file(s) remaining (calculating...)\r",
      "Completed 307.0 KiB/~1.1 MiB (543.1 KiB/s) with ~70 file(s) remaining (calculating...)\r",
      "Completed 307.6 KiB/~1.1 MiB (536.8 KiB/s) with ~70 file(s) remaining (calculating...)\r",
      "Completed 307.9 KiB/~1.1 MiB (536.7 KiB/s) with ~71 file(s) remaining (calculating...)\r",
      "download: s3://nrel-dsgrid-registry/configs/dimension_mappings/us_counties_2020_l48__us_census_divisions__4579d807-2bbd-41f5-8ad3-775cf2e6d083/1.0.0/dimension_mapping.toml to ../.dsgrid-registry/configs/dimension_mappings/us_counties_2020_l48__us_census_divisions__4579d807-2bbd-41f5-8ad3-775cf2e6d083/1.0.0/dimension_mapping.toml\n",
      "Completed 307.9 KiB/~1.1 MiB (536.7 KiB/s) with ~71 file(s) remaining (calculating...)\r",
      "download: s3://nrel-dsgrid-registry/configs/dimension_mappings/us_counties_2020_l48__reeds_pca__fcc554e1-87c9-483f-89e3-a0df9563cf89/registry.toml to ../.dsgrid-registry/configs/dimension_mappings/us_counties_2020_l48__reeds_pca__fcc554e1-87c9-483f-89e3-a0df9563cf89/registry.toml\n",
      "Completed 307.9 KiB/~1.1 MiB (536.7 KiB/s) with ~70 file(s) remaining (calculating...)\r",
      "download: s3://nrel-dsgrid-registry/configs/dimension_mappings/us_counties_2020_l48__us_census_divisions__4579d807-2bbd-41f5-8ad3-775cf2e6d083/registry.toml to ../.dsgrid-registry/configs/dimension_mappings/us_counties_2020_l48__us_census_divisions__4579d807-2bbd-41f5-8ad3-775cf2e6d083/registry.toml\n",
      "Completed 307.9 KiB/~1.2 MiB (536.7 KiB/s) with ~71 file(s) remaining (calculating...)\r",
      "Completed 308.5 KiB/~1.2 MiB (526.7 KiB/s) with ~71 file(s) remaining (calculating...)\r",
      "download: s3://nrel-dsgrid-registry/configs/dimension_mappings/us_counties_2020_l48__us_census_regions__0300e611-2050-43d1-b1c1-b7240c85fa27/1.0.0/dimension_mapping.toml to ../.dsgrid-registry/configs/dimension_mappings/us_counties_2020_l48__us_census_regions__0300e611-2050-43d1-b1c1-b7240c85fa27/1.0.0/dimension_mapping.toml\n",
      "Completed 308.5 KiB/~1.2 MiB (526.7 KiB/s) with ~72 file(s) remaining (calculating...)\r",
      "Completed 339.5 KiB/~1.2 MiB (557.5 KiB/s) with ~80 file(s) remaining (calculating...)\r",
      "download: s3://nrel-dsgrid-registry/configs/dimension_mappings/us_counties_2020_l48__reeds_pca__fcc554e1-87c9-483f-89e3-a0df9563cf89/1.0.0/lookup_county_to_reeds_pca.csv to ../.dsgrid-registry/configs/dimension_mappings/us_counties_2020_l48__reeds_pca__fcc554e1-87c9-483f-89e3-a0df9563cf89/1.0.0/lookup_county_to_reeds_pca.csv\n",
      "Completed 339.5 KiB/~1.2 MiB (557.5 KiB/s) with ~80 file(s) remaining (calculating...)\r",
      "Completed 411.0 KiB/~1.2 MiB (669.0 KiB/s) with ~80 file(s) remaining (calculating...)\r",
      "Completed 450.0 KiB/~1.2 MiB (724.3 KiB/s) with ~82 file(s) remaining (calculating...)\r",
      "download: s3://nrel-dsgrid-registry/configs/dimension_mappings/us_counties_2020_l48__us_census_divisions__4579d807-2bbd-41f5-8ad3-775cf2e6d083/1.0.0/lookup_county_to_censusdivision.csv to ../.dsgrid-registry/configs/dimension_mappings/us_counties_2020_l48__us_census_divisions__4579d807-2bbd-41f5-8ad3-775cf2e6d083/1.0.0/lookup_county_to_censusdivision.csv\n",
      "Completed 450.0 KiB/~1.2 MiB (724.3 KiB/s) with ~82 file(s) remaining (calculating...)\r",
      "download: s3://nrel-dsgrid-registry/configs/dimension_mappings/us_counties_2020_l48__us_census_regions__0300e611-2050-43d1-b1c1-b7240c85fa27/1.0.0/lookup_county_to_censusregion.csv to ../.dsgrid-registry/configs/dimension_mappings/us_counties_2020_l48__us_census_regions__0300e611-2050-43d1-b1c1-b7240c85fa27/1.0.0/lookup_county_to_censusregion.csv\n",
      "Completed 450.0 KiB/~1.2 MiB (724.3 KiB/s) with ~83 file(s) remaining (calculating...)\r",
      "Completed 450.3 KiB/~1.2 MiB (717.6 KiB/s) with ~83 file(s) remaining (calculating...)\r",
      "Completed 450.9 KiB/~1.2 MiB (705.7 KiB/s) with ~84 file(s) remaining (calculating...)\r",
      "Completed 451.2 KiB/~1.2 MiB (706.0 KiB/s) with ~84 file(s) remaining (calculating...)\r",
      "Completed 451.8 KiB/~1.2 MiB (705.0 KiB/s) with ~84 file(s) remaining (calculating...)\r",
      "download: s3://nrel-dsgrid-registry/configs/dimension_mappings/us_counties_2020_l48__us_census_regions__0300e611-2050-43d1-b1c1-b7240c85fa27/registry.toml to ../.dsgrid-registry/configs/dimension_mappings/us_counties_2020_l48__us_census_regions__0300e611-2050-43d1-b1c1-b7240c85fa27/registry.toml\n",
      "Completed 451.8 KiB/~1.2 MiB (705.0 KiB/s) with ~83 file(s) remaining (calculating...)\r",
      "Completed 523.4 KiB/~1.2 MiB (815.9 KiB/s) with ~84 file(s) remaining (calculating...)\r",
      "download: s3://nrel-dsgrid-registry/configs/dimension_mappings/us_counties_2020_l48__us_census_regions__294b9782-659b-4b8c-9230-61c99acb6f27/registry.toml to ../.dsgrid-registry/configs/dimension_mappings/us_counties_2020_l48__us_census_regions__294b9782-659b-4b8c-9230-61c99acb6f27/registry.toml\n",
      "Completed 523.4 KiB/~1.2 MiB (815.9 KiB/s) with ~83 file(s) remaining (calculating...)\r",
      "download: s3://nrel-dsgrid-registry/configs/dimension_mappings/us_counties_2020_l48__us_census_regions__294b9782-659b-4b8c-9230-61c99acb6f27/1.0.0/dimension_mapping.toml to ../.dsgrid-registry/configs/dimension_mappings/us_counties_2020_l48__us_census_regions__294b9782-659b-4b8c-9230-61c99acb6f27/1.0.0/dimension_mapping.toml\n",
      "Completed 523.4 KiB/~1.2 MiB (815.9 KiB/s) with ~82 file(s) remaining (calculating...)\r",
      "download: s3://nrel-dsgrid-registry/configs/dimension_mappings/us_counties_2020_l48__us_census_divisions__db9fd9a9-d07d-4824-a7ca-0023c62f7d01/1.0.0/lookup_l48_county_to_censusdivision.csv to ../.dsgrid-registry/configs/dimension_mappings/us_counties_2020_l48__us_census_divisions__db9fd9a9-d07d-4824-a7ca-0023c62f7d01/1.0.0/lookup_l48_county_to_censusdivision.csv\n",
      "Completed 523.4 KiB/~1.2 MiB (815.9 KiB/s) with ~81 file(s) remaining (calculating...)\r",
      "Completed 523.9 KiB/~1.2 MiB (808.4 KiB/s) with ~81 file(s) remaining (calculating...)\r",
      "download: s3://nrel-dsgrid-registry/configs/dimension_mappings/us_counties_2020_l48__us_census_divisions__db9fd9a9-d07d-4824-a7ca-0023c62f7d01/1.0.0/dimension_mapping.toml to ../.dsgrid-registry/configs/dimension_mappings/us_counties_2020_l48__us_census_divisions__db9fd9a9-d07d-4824-a7ca-0023c62f7d01/1.0.0/dimension_mapping.toml\n",
      "Completed 523.9 KiB/~1.2 MiB (808.4 KiB/s) with ~81 file(s) remaining (calculating...)\r",
      "Completed 524.3 KiB/~1.2 MiB (794.2 KiB/s) with ~82 file(s) remaining (calculating...)\r",
      "Completed 563.2 KiB/~1.2 MiB (851.0 KiB/s) with ~82 file(s) remaining (calculating...)\r",
      "download: s3://nrel-dsgrid-registry/configs/dimension_mappings/us_counties_2020_l48__us_states__27bd3ae3-aca3-4285-83b8-732a323a8df2/1.0.0/dimension_mapping.toml to ../.dsgrid-registry/configs/dimension_mappings/us_counties_2020_l48__us_states__27bd3ae3-aca3-4285-83b8-732a323a8df2/1.0.0/dimension_mapping.toml\n",
      "Completed 563.2 KiB/~1.2 MiB (851.0 KiB/s) with ~81 file(s) remaining (calculating...)\r",
      "Completed 563.2 KiB/~1.2 MiB (837.2 KiB/s) with ~84 file(s) remaining (calculating...)\r",
      "download: s3://nrel-dsgrid-registry/configs/dimension_mappings/us_counties_2020_l48__us_census_regions__294b9782-659b-4b8c-9230-61c99acb6f27/1.0.0/lookup_county_to_censusregion.csv to ../.dsgrid-registry/configs/dimension_mappings/us_counties_2020_l48__us_census_regions__294b9782-659b-4b8c-9230-61c99acb6f27/1.0.0/lookup_county_to_censusregion.csv\n",
      "Completed 563.2 KiB/~1.2 MiB (837.2 KiB/s) with ~83 file(s) remaining (calculating...)\r",
      "download: s3://nrel-dsgrid-registry/configs/dimension_mappings/us_counties_2020_l48__us_census_divisions__db9fd9a9-d07d-4824-a7ca-0023c62f7d01/registry.toml to ../.dsgrid-registry/configs/dimension_mappings/us_counties_2020_l48__us_census_divisions__db9fd9a9-d07d-4824-a7ca-0023c62f7d01/registry.toml\n",
      "Completed 563.2 KiB/~1.2 MiB (837.2 KiB/s) with ~82 file(s) remaining (calculating...)\r",
      "download: s3://nrel-dsgrid-registry/configs/dimensions/data_source/all-data_sources__de4c4a41-eddd-4b1a-b0fe-c5988e5d6d62/1.0.0/all_data_sources.csv to ../.dsgrid-registry/configs/dimensions/data_source/all-data_sources__de4c4a41-eddd-4b1a-b0fe-c5988e5d6d62/1.0.0/all_data_sources.csv\n",
      "Completed 563.2 KiB/~1.2 MiB (837.2 KiB/s) with ~82 file(s) remaining (calculating...)\r",
      "Completed 563.8 KiB/~1.2 MiB (817.5 KiB/s) with ~83 file(s) remaining (calculating...)\r",
      "Completed 591.1 KiB/~1.2 MiB (856.3 KiB/s) with ~85 file(s) remaining (calculating...)\r",
      "download: s3://nrel-dsgrid-registry/configs/dimension_mappings/us_counties_2020_l48__us_states__ddbdb6dc-e416-47b0-8103-30fd23813618/1.0.0/dimension_mapping.toml to ../.dsgrid-registry/configs/dimension_mappings/us_counties_2020_l48__us_states__ddbdb6dc-e416-47b0-8103-30fd23813618/1.0.0/dimension_mapping.toml\n",
      "Completed 591.1 KiB/~1.2 MiB (856.3 KiB/s) with ~85 file(s) remaining (calculating...)\r",
      "download: s3://nrel-dsgrid-registry/configs/dimension_mappings/us_counties_2020_l48__us_states__27bd3ae3-aca3-4285-83b8-732a323a8df2/1.0.0/lookup_county_to_state.csv to ../.dsgrid-registry/configs/dimension_mappings/us_counties_2020_l48__us_states__27bd3ae3-aca3-4285-83b8-732a323a8df2/1.0.0/lookup_county_to_state.csv\n"
     ]
    },
    {
     "name": "stdout",
     "output_type": "stream",
     "text": [
      "Completed 591.1 KiB/~1.2 MiB (856.3 KiB/s) with ~84 file(s) remaining (calculating...)\r",
      "Completed 591.2 KiB/~1.2 MiB (847.7 KiB/s) with ~84 file(s) remaining (calculating...)\r",
      "download: s3://nrel-dsgrid-registry/configs/dimensions/data_source/comstock-data-source__8fbe464f-ad5d-460b-bd2d-ee25625a8a27/1.0.0/data_source_comstock.csv to ../.dsgrid-registry/configs/dimensions/data_source/comstock-data-source__8fbe464f-ad5d-460b-bd2d-ee25625a8a27/1.0.0/data_source_comstock.csv\n",
      "Completed 591.2 KiB/~1.2 MiB (847.7 KiB/s) with ~84 file(s) remaining (calculating...)\r",
      "Completed 591.5 KiB/~1.2 MiB (831.4 KiB/s) with ~84 file(s) remaining (calculating...)\r",
      "Completed 591.8 KiB/~1.2 MiB (830.8 KiB/s) with ~84 file(s) remaining (calculating...)\r",
      "Completed 592.1 KiB/~1.2 MiB (830.8 KiB/s) with ~85 file(s) remaining (calculating...)\r",
      "Completed 592.4 KiB/~1.2 MiB (830.5 KiB/s) with ~85 file(s) remaining (calculating...)\r",
      "download: s3://nrel-dsgrid-registry/configs/dimension_mappings/us_counties_2020_l48__us_states__27bd3ae3-aca3-4285-83b8-732a323a8df2/registry.toml to ../.dsgrid-registry/configs/dimension_mappings/us_counties_2020_l48__us_states__27bd3ae3-aca3-4285-83b8-732a323a8df2/registry.toml\n",
      "Completed 592.4 KiB/~1.2 MiB (830.5 KiB/s) with ~85 file(s) remaining (calculating...)\r",
      "download: s3://nrel-dsgrid-registry/configs/dimensions/data_source/all-data_sources__de4c4a41-eddd-4b1a-b0fe-c5988e5d6d62/1.0.0/dimension.toml to ../.dsgrid-registry/configs/dimensions/data_source/all-data_sources__de4c4a41-eddd-4b1a-b0fe-c5988e5d6d62/1.0.0/dimension.toml\n",
      "Completed 592.4 KiB/~1.2 MiB (830.5 KiB/s) with ~84 file(s) remaining (calculating...)\r",
      "Completed 619.8 KiB/~1.2 MiB (866.7 KiB/s) with ~84 file(s) remaining (calculating...)\r",
      "download: s3://nrel-dsgrid-registry/configs/dimensions/data_source/all-data_sources__de4c4a41-eddd-4b1a-b0fe-c5988e5d6d62/registry.toml to ../.dsgrid-registry/configs/dimensions/data_source/all-data_sources__de4c4a41-eddd-4b1a-b0fe-c5988e5d6d62/registry.toml\n",
      "Completed 619.8 KiB/~1.2 MiB (866.7 KiB/s) with ~83 file(s) remaining (calculating...)\r",
      "download: s3://nrel-dsgrid-registry/configs/dimensions/data_source/comstock-data-source__8fbe464f-ad5d-460b-bd2d-ee25625a8a27/1.0.0/dimension.toml to ../.dsgrid-registry/configs/dimensions/data_source/comstock-data-source__8fbe464f-ad5d-460b-bd2d-ee25625a8a27/1.0.0/dimension.toml\n",
      "Completed 619.8 KiB/~1.2 MiB (866.7 KiB/s) with ~83 file(s) remaining (calculating...)\r",
      "download: s3://nrel-dsgrid-registry/configs/dimension_mappings/us_counties_2020_l48__us_states__ddbdb6dc-e416-47b0-8103-30fd23813618/1.0.0/lookup_county_to_state.csv to ../.dsgrid-registry/configs/dimension_mappings/us_counties_2020_l48__us_states__ddbdb6dc-e416-47b0-8103-30fd23813618/1.0.0/lookup_county_to_state.csv\n",
      "Completed 619.8 KiB/~1.2 MiB (866.7 KiB/s) with ~82 file(s) remaining (calculating...)\r",
      "Completed 619.8 KiB/~1.2 MiB (855.1 KiB/s) with ~82 file(s) remaining (calculating...)\r",
      "Completed 620.0 KiB/~1.2 MiB (848.4 KiB/s) with ~83 file(s) remaining (calculating...)\r",
      "download: s3://nrel-dsgrid-registry/configs/dimensions/data_source/comstock_data_source__aa97a599-25b4-4f3a-a579-a49509db9a4a/1.0.0/data_sources.csv to ../.dsgrid-registry/configs/dimensions/data_source/comstock_data_source__aa97a599-25b4-4f3a-a579-a49509db9a4a/1.0.0/data_sources.csv\n",
      "Completed 620.0 KiB/~1.2 MiB (848.4 KiB/s) with ~83 file(s) remaining (calculating...)\r",
      "Completed 620.1 KiB/~1.2 MiB (832.8 KiB/s) with ~84 file(s) remaining (calculating...)\r",
      "Completed 620.1 KiB/~1.2 MiB (832.4 KiB/s) with ~84 file(s) remaining (calculating...)\r",
      "download: s3://nrel-dsgrid-registry/configs/dimensions/data_source/comstock-data-source__8fbe464f-ad5d-460b-bd2d-ee25625a8a27/registry.toml to ../.dsgrid-registry/configs/dimensions/data_source/comstock-data-source__8fbe464f-ad5d-460b-bd2d-ee25625a8a27/registry.toml\n",
      "Completed 620.1 KiB/~1.2 MiB (832.4 KiB/s) with ~83 file(s) remaining (calculating...)\r",
      "download: s3://nrel-dsgrid-registry/configs/dimensions/data_source/data-sources_-_comstock-resstock-tempo-only__601c6eea-b2fd-440c-b290-e32dde546b67/1.0.0/sources.csv to ../.dsgrid-registry/configs/dimensions/data_source/data-sources_-_comstock-resstock-tempo-only__601c6eea-b2fd-440c-b290-e32dde546b67/1.0.0/sources.csv\n",
      "Completed 620.1 KiB/~1.2 MiB (832.4 KiB/s) with ~84 file(s) remaining (calculating...)\r",
      "download: s3://nrel-dsgrid-registry/configs/dimensions/data_source/resstock-data-source__0e89587f-c388-40ed-b487-7270e1bc5aef/1.0.0/data_source_resstock.csv to ../.dsgrid-registry/configs/dimensions/data_source/resstock-data-source__0e89587f-c388-40ed-b487-7270e1bc5aef/1.0.0/data_source_resstock.csv\n",
      "Completed 620.1 KiB/~1.2 MiB (832.4 KiB/s) with ~83 file(s) remaining (calculating...)\r",
      "Completed 620.4 KiB/~1.2 MiB (823.1 KiB/s) with ~83 file(s) remaining (calculating...)\r",
      "Completed 620.5 KiB/~1.2 MiB (819.4 KiB/s) with ~84 file(s) remaining (calculating...)\r",
      "Completed 620.7 KiB/~1.2 MiB (819.6 KiB/s) with ~84 file(s) remaining (calculating...)\r",
      "download: s3://nrel-dsgrid-registry/configs/dimension_mappings/us_counties_2020_l48__us_states__ddbdb6dc-e416-47b0-8103-30fd23813618/registry.toml to ../.dsgrid-registry/configs/dimension_mappings/us_counties_2020_l48__us_states__ddbdb6dc-e416-47b0-8103-30fd23813618/registry.toml\n",
      "Completed 620.7 KiB/~1.2 MiB (819.6 KiB/s) with ~84 file(s) remaining (calculating...)\r",
      "download: s3://nrel-dsgrid-registry/configs/dimensions/data_source/resstock-data-source__28d363a1-05d0-4c42-acd5-2dba87ec3285/1.0.0/data_source_resstock.csv to ../.dsgrid-registry/configs/dimensions/data_source/resstock-data-source__28d363a1-05d0-4c42-acd5-2dba87ec3285/1.0.0/data_source_resstock.csv\n",
      "Completed 620.7 KiB/~1.2 MiB (819.6 KiB/s) with ~85 file(s) remaining (calculating...)\r",
      "download: s3://nrel-dsgrid-registry/configs/dimensions/data_source/comstock_data_source__aa97a599-25b4-4f3a-a579-a49509db9a4a/registry.toml to ../.dsgrid-registry/configs/dimensions/data_source/comstock_data_source__aa97a599-25b4-4f3a-a579-a49509db9a4a/registry.toml\n",
      "Completed 620.7 KiB/~1.2 MiB (819.6 KiB/s) with ~84 file(s) remaining (calculating...)\r",
      "Completed 621.0 KiB/~1.2 MiB (798.6 KiB/s) with ~84 file(s) remaining (calculating...)\r",
      "Completed 621.0 KiB/~1.2 MiB (794.1 KiB/s) with ~85 file(s) remaining (calculating...)\r",
      "Completed 621.5 KiB/~1.2 MiB (794.6 KiB/s) with ~85 file(s) remaining (calculating...)\r",
      "Completed 621.9 KiB/~1.2 MiB (792.2 KiB/s) with ~85 file(s) remaining (calculating...)\r",
      "download: s3://nrel-dsgrid-registry/configs/dimensions/data_source/resstock-data-source__0e89587f-c388-40ed-b487-7270e1bc5aef/registry.toml to ../.dsgrid-registry/configs/dimensions/data_source/resstock-data-source__0e89587f-c388-40ed-b487-7270e1bc5aef/registry.toml\n",
      "Completed 621.9 KiB/~1.2 MiB (792.2 KiB/s) with ~84 file(s) remaining (calculating...)\r",
      "download: s3://nrel-dsgrid-registry/configs/dimensions/data_source/data-sources_-_comstock-resstock-tempo-only__601c6eea-b2fd-440c-b290-e32dde546b67/1.0.0/dimension.toml to ../.dsgrid-registry/configs/dimensions/data_source/data-sources_-_comstock-resstock-tempo-only__601c6eea-b2fd-440c-b290-e32dde546b67/1.0.0/dimension.toml\n",
      "Completed 621.9 KiB/~1.2 MiB (792.2 KiB/s) with ~84 file(s) remaining (calculating...)\r",
      "Completed 621.9 KiB/~1.2 MiB (789.8 KiB/s) with ~84 file(s) remaining (calculating...)\r",
      "download: s3://nrel-dsgrid-registry/configs/dimensions/data_source/standard_scenarios_2021_datasources_-_comstock-resstock-tempo-only__fd304e3b-3ff7-4eef-8a43-b3c55d2b8a4b/1.0.0/sources.csv to ../.dsgrid-registry/configs/dimensions/data_source/standard_scenarios_2021_datasources_-_comstock-resstock-tempo-only__fd304e3b-3ff7-4eef-8a43-b3c55d2b8a4b/1.0.0/sources.csv\n",
      "Completed 621.9 KiB/~1.2 MiB (789.8 KiB/s) with ~83 file(s) remaining (calculating...)\r",
      "download: s3://nrel-dsgrid-registry/configs/dimensions/data_source/resstock-data-source__28d363a1-05d0-4c42-acd5-2dba87ec3285/1.0.0/dimension.toml to ../.dsgrid-registry/configs/dimensions/data_source/resstock-data-source__28d363a1-05d0-4c42-acd5-2dba87ec3285/1.0.0/dimension.toml\n",
      "Completed 621.9 KiB/~1.2 MiB (789.8 KiB/s) with ~82 file(s) remaining (calculating...)\r",
      "download: s3://nrel-dsgrid-registry/configs/dimensions/data_source/tempo_model__89b73070-f194-4231-893a-5fbb66b74cfa/1.0.0/data_source.csv to ../.dsgrid-registry/configs/dimensions/data_source/tempo_model__89b73070-f194-4231-893a-5fbb66b74cfa/1.0.0/data_source.csv\n",
      "Completed 621.9 KiB/~1.2 MiB (789.8 KiB/s) with ~83 file(s) remaining (calculating...)\r",
      "Completed 622.2 KiB/~1.2 MiB (765.9 KiB/s) with ~86 file(s) remaining (calculating...)\r",
      "Completed 622.6 KiB/~1.2 MiB (765.8 KiB/s) with ~86 file(s) remaining (calculating...)\r",
      "Completed 622.9 KiB/~1.2 MiB (762.9 KiB/s) with ~87 file(s) remaining (calculating...)\r",
      "download: s3://nrel-dsgrid-registry/configs/dimensions/data_source/standard_scenarios_2021_datasources_-_comstock-resstock-tempo-only__fd304e3b-3ff7-4eef-8a43-b3c55d2b8a4b/registry.toml to ../.dsgrid-registry/configs/dimensions/data_source/standard_scenarios_2021_datasources_-_comstock-resstock-tempo-only__fd304e3b-3ff7-4eef-8a43-b3c55d2b8a4b/registry.toml\n",
      "Completed 622.9 KiB/~1.2 MiB (762.9 KiB/s) with ~87 file(s) remaining (calculating...)\r",
      "download: s3://nrel-dsgrid-registry/configs/dimensions/data_source/data-sources_-_comstock-resstock-tempo-only__601c6eea-b2fd-440c-b290-e32dde546b67/registry.toml to ../.dsgrid-registry/configs/dimensions/data_source/data-sources_-_comstock-resstock-tempo-only__601c6eea-b2fd-440c-b290-e32dde546b67/registry.toml\n",
      "Completed 622.9 KiB/~1.2 MiB (762.9 KiB/s) with ~86 file(s) remaining (calculating...)\r",
      "Completed 623.2 KiB/~1.2 MiB (761.5 KiB/s) with ~86 file(s) remaining (calculating...)\r",
      "download: s3://nrel-dsgrid-registry/configs/dimensions/data_source/resstock-data-source__28d363a1-05d0-4c42-acd5-2dba87ec3285/registry.toml to ../.dsgrid-registry/configs/dimensions/data_source/resstock-data-source__28d363a1-05d0-4c42-acd5-2dba87ec3285/registry.toml\n",
      "Completed 623.2 KiB/~1.2 MiB (761.5 KiB/s) with ~85 file(s) remaining (calculating...)\r",
      "Completed 623.4 KiB/~1.2 MiB (759.9 KiB/s) with ~85 file(s) remaining (calculating...)\r",
      "Completed 675.7 KiB/~1.2 MiB (814.7 KiB/s) with ~86 file(s) remaining (calculating...)\r",
      "download: s3://nrel-dsgrid-registry/configs/dimensions/data_source/tempo_model__89b73070-f194-4231-893a-5fbb66b74cfa/1.0.0/dimension.toml to ../.dsgrid-registry/configs/dimensions/data_source/tempo_model__89b73070-f194-4231-893a-5fbb66b74cfa/1.0.0/dimension.toml\n",
      "Completed 675.7 KiB/~1.2 MiB (814.7 KiB/s) with ~86 file(s) remaining (calculating...)\r",
      "download: s3://nrel-dsgrid-registry/configs/dimensions/data_source/tempo_model__89b73070-f194-4231-893a-5fbb66b74cfa/registry.toml to ../.dsgrid-registry/configs/dimensions/data_source/tempo_model__89b73070-f194-4231-893a-5fbb66b74cfa/registry.toml\n",
      "Completed 675.7 KiB/~1.2 MiB (814.7 KiB/s) with ~85 file(s) remaining (calculating...)\r",
      "download: s3://nrel-dsgrid-registry/configs/dimensions/geography/acs_county_2018__23d27a32-8245-4366-8cfb-b648e94ddbdc/1.0.0/counties.csv to ../.dsgrid-registry/configs/dimensions/geography/acs_county_2018__23d27a32-8245-4366-8cfb-b648e94ddbdc/1.0.0/counties.csv\n",
      "Completed 675.7 KiB/~1.2 MiB (814.7 KiB/s) with ~85 file(s) remaining (calculating...)\r",
      "Completed 676.1 KiB/~1.2 MiB (802.3 KiB/s) with ~85 file(s) remaining (calculating...)\r",
      "download: s3://nrel-dsgrid-registry/configs/dimensions/geography/acs_county_2018__23d27a32-8245-4366-8cfb-b648e94ddbdc/1.0.0/dimension.toml to ../.dsgrid-registry/configs/dimensions/geography/acs_county_2018__23d27a32-8245-4366-8cfb-b648e94ddbdc/1.0.0/dimension.toml\n",
      "Completed 676.1 KiB/~1.2 MiB (802.3 KiB/s) with ~85 file(s) remaining (calculating...)\r",
      "Completed 676.4 KiB/~1.2 MiB (791.9 KiB/s) with ~86 file(s) remaining (calculating...)\r",
      "download: s3://nrel-dsgrid-registry/configs/dimensions/geography/acs_county_2018__23d27a32-8245-4366-8cfb-b648e94ddbdc/registry.toml to ../.dsgrid-registry/configs/dimensions/geography/acs_county_2018__23d27a32-8245-4366-8cfb-b648e94ddbdc/registry.toml\n",
      "Completed 676.4 KiB/~1.2 MiB (791.9 KiB/s) with ~87 file(s) remaining (calculating...)\r",
      "Completed 676.9 KiB/~1.2 MiB (784.2 KiB/s) with ~88 file(s) remaining (calculating...)\r",
      "download: s3://nrel-dsgrid-registry/configs/dimensions/geography/conus_2022-comstock_us_county_fip__02279865-85f7-476b-8e99-2501403a94f8/registry.toml to ../.dsgrid-registry/configs/dimensions/geography/conus_2022-comstock_us_county_fip__02279865-85f7-476b-8e99-2501403a94f8/registry.toml\n",
      "Completed 676.9 KiB/~1.2 MiB (784.2 KiB/s) with ~89 file(s) remaining (calculating...)\r",
      "Completed 677.3 KiB/~1.2 MiB (774.8 KiB/s) with ~91 file(s) remaining (calculating...)\r",
      "Completed 677.9 KiB/~1.2 MiB (774.1 KiB/s) with ~92 file(s) remaining (calculating...)\r",
      "download: s3://nrel-dsgrid-registry/configs/dimensions/geography/conus_2022-resstock_us_county_fip__12486ffb-73e7-47b2-ba83-f6b56bb1d25f/1.0.0/dimension.toml to ../.dsgrid-registry/configs/dimensions/geography/conus_2022-resstock_us_county_fip__12486ffb-73e7-47b2-ba83-f6b56bb1d25f/1.0.0/dimension.toml\n",
      "Completed 677.9 KiB/~1.2 MiB (774.1 KiB/s) with ~92 file(s) remaining (calculating...)\r",
      "download: s3://nrel-dsgrid-registry/configs/dimensions/geography/conus_2022-comstock_us_county_fip__2bc5b3dc-6ec0-4e3c-8d7f-5af5dba0b16f/1.0.0/dimension.toml to ../.dsgrid-registry/configs/dimensions/geography/conus_2022-comstock_us_county_fip__2bc5b3dc-6ec0-4e3c-8d7f-5af5dba0b16f/1.0.0/dimension.toml\n",
      "Completed 677.9 KiB/~1.2 MiB (774.1 KiB/s) with ~91 file(s) remaining (calculating...)\r",
      "Completed 763.6 KiB/~1.2 MiB (856.4 KiB/s) with ~94 file(s) remaining (calculating...)\r",
      "Completed 763.9 KiB/~1.2 MiB (852.6 KiB/s) with ~96 file(s) remaining (calculating...)\r",
      "download: s3://nrel-dsgrid-registry/configs/dimensions/geography/conus_2022-comstock_us_county_fip__2bc5b3dc-6ec0-4e3c-8d7f-5af5dba0b16f/1.0.0/conus_2022-comstock_geography_county_fips.csv to ../.dsgrid-registry/configs/dimensions/geography/conus_2022-comstock_us_county_fip__2bc5b3dc-6ec0-4e3c-8d7f-5af5dba0b16f/1.0.0/conus_2022-comstock_geography_county_fips.csv\n",
      "Completed 763.9 KiB/~1.2 MiB (852.6 KiB/s) with ~95 file(s) remaining (calculating...)\r",
      "download: s3://nrel-dsgrid-registry/configs/dimensions/geography/conus_2022-resstock_us_county_fip__12486ffb-73e7-47b2-ba83-f6b56bb1d25f/registry.toml to ../.dsgrid-registry/configs/dimensions/geography/conus_2022-resstock_us_county_fip__12486ffb-73e7-47b2-ba83-f6b56bb1d25f/registry.toml\n"
     ]
    },
    {
     "name": "stdout",
     "output_type": "stream",
     "text": [
      "Completed 763.9 KiB/~1.2 MiB (852.6 KiB/s) with ~96 file(s) remaining (calculating...)\r",
      "Completed 764.4 KiB/~1.2 MiB (844.7 KiB/s) with ~96 file(s) remaining (calculating...)\r",
      "Completed 764.6 KiB/~1.2 MiB (838.1 KiB/s) with ~98 file(s) remaining (calculating...)\r",
      "download: s3://nrel-dsgrid-registry/configs/dimensions/geography/reeds_pca__f002c1f9-9e4c-4c77-8c50-71f9f46ece3e/registry.toml to ../.dsgrid-registry/configs/dimensions/geography/reeds_pca__f002c1f9-9e4c-4c77-8c50-71f9f46ece3e/registry.toml\n",
      "Completed 764.6 KiB/~1.2 MiB (838.1 KiB/s) with ~97 file(s) remaining (calculating...)\r",
      "download: s3://nrel-dsgrid-registry/configs/dimensions/geography/conus_2022-comstock_us_county_fip__2bc5b3dc-6ec0-4e3c-8d7f-5af5dba0b16f/registry.toml to ../.dsgrid-registry/configs/dimensions/geography/conus_2022-comstock_us_county_fip__2bc5b3dc-6ec0-4e3c-8d7f-5af5dba0b16f/registry.toml\n",
      "Completed 764.6 KiB/~1.2 MiB (838.1 KiB/s) with ~96 file(s) remaining (calculating...)\r",
      "Completed 850.3 KiB/~1.2 MiB (919.2 KiB/s) with ~99 file(s) remaining (calculating...)\r",
      "download: s3://nrel-dsgrid-registry/configs/dimensions/geography/conus_2022-comstock_us_county_fip__02279865-85f7-476b-8e99-2501403a94f8/1.0.0/conus_2022-comstock_geography_county_fips.csv to ../.dsgrid-registry/configs/dimensions/geography/conus_2022-comstock_us_county_fip__02279865-85f7-476b-8e99-2501403a94f8/1.0.0/conus_2022-comstock_geography_county_fips.csv\n",
      "Completed 850.3 KiB/~1.2 MiB (919.2 KiB/s) with ~101 file(s) remaining (calculating...)\r",
      "Completed 851.4 KiB/~1.2 MiB (910.0 KiB/s) with ~101 file(s) remaining (calculating...)\r",
      "Completed 851.7 KiB/~1.2 MiB (906.1 KiB/s) with ~103 file(s) remaining (calculating...)\r",
      "download: s3://nrel-dsgrid-registry/configs/dimensions/geography/reeds_pca__f002c1f9-9e4c-4c77-8c50-71f9f46ece3e/1.0.0/reeds_pca.csv to ../.dsgrid-registry/configs/dimensions/geography/reeds_pca__f002c1f9-9e4c-4c77-8c50-71f9f46ece3e/1.0.0/reeds_pca.csv\n",
      "Completed 851.7 KiB/~1.2 MiB (906.1 KiB/s) with ~102 file(s) remaining (calculating...)\r",
      "Completed 852.0 KiB/~1.2 MiB (902.4 KiB/s) with ~103 file(s) remaining (calculating...)\r",
      "Completed 936.9 KiB/~1.2 MiB (991.0 KiB/s) with ~103 file(s) remaining (calculating...)\r",
      "Completed 937.2 KiB/~1.2 MiB (986.1 KiB/s) with ~103 file(s) remaining (calculating...)\r",
      "download: s3://nrel-dsgrid-registry/configs/dimensions/geography/reeds_pca__f002c1f9-9e4c-4c77-8c50-71f9f46ece3e/1.0.0/dimension.toml to ../.dsgrid-registry/configs/dimensions/geography/reeds_pca__f002c1f9-9e4c-4c77-8c50-71f9f46ece3e/1.0.0/dimension.toml\n",
      "Completed 937.2 KiB/~1.2 MiB (986.1 KiB/s) with ~102 file(s) remaining (calculating...)\r",
      "download: s3://nrel-dsgrid-registry/configs/dimensions/geography/us_census_divisions__33547dbd-fccb-4e51-a563-29b76fe7b108/1.0.0/census_divisions.csv to ../.dsgrid-registry/configs/dimensions/geography/us_census_divisions__33547dbd-fccb-4e51-a563-29b76fe7b108/1.0.0/census_divisions.csv\n",
      "Completed 937.2 KiB/~1.2 MiB (986.1 KiB/s) with ~101 file(s) remaining (calculating...)\r",
      "Completed 1022.1 KiB/~1.2 MiB (1.0 MiB/s) with ~102 file(s) remaining (calculating...) \r",
      "download: s3://nrel-dsgrid-registry/configs/dimensions/geography/conus_2022-resstock_us_county_fip__12486ffb-73e7-47b2-ba83-f6b56bb1d25f/1.0.0/conus_2022-resstock_geography_county_fips.csv to ../.dsgrid-registry/configs/dimensions/geography/conus_2022-resstock_us_county_fip__12486ffb-73e7-47b2-ba83-f6b56bb1d25f/1.0.0/conus_2022-resstock_geography_county_fips.csv\n",
      "Completed 1022.1 KiB/~1.2 MiB (1.0 MiB/s) with ~101 file(s) remaining (calculating...)\r",
      "Completed 1022.3 KiB/~1.2 MiB (1.0 MiB/s) with ~102 file(s) remaining (calculating...)\r",
      "download: s3://nrel-dsgrid-registry/configs/dimensions/geography/us_census_divisions__33547dbd-fccb-4e51-a563-29b76fe7b108/1.0.0/dimension.toml to ../.dsgrid-registry/configs/dimensions/geography/us_census_divisions__33547dbd-fccb-4e51-a563-29b76fe7b108/1.0.0/dimension.toml\n",
      "Completed 1022.3 KiB/~1.2 MiB (1.0 MiB/s) with ~101 file(s) remaining (calculating...)\r",
      "download: s3://nrel-dsgrid-registry/configs/dimensions/geography/conus_2022-resstock_us_county_fip__bcb74b51-a854-4548-bc02-5c18dc299dbb/1.0.0/conus_2022-resstock_geography_county_fips.csv to ../.dsgrid-registry/configs/dimensions/geography/conus_2022-resstock_us_county_fip__bcb74b51-a854-4548-bc02-5c18dc299dbb/1.0.0/conus_2022-resstock_geography_county_fips.csv\n",
      "Completed 1022.3 KiB/~1.2 MiB (1.0 MiB/s) with ~100 file(s) remaining (calculating...)\r",
      "download: s3://nrel-dsgrid-registry/configs/dimensions/geography/us_census_divisions__33547dbd-fccb-4e51-a563-29b76fe7b108/registry.toml to ../.dsgrid-registry/configs/dimensions/geography/us_census_divisions__33547dbd-fccb-4e51-a563-29b76fe7b108/registry.toml\n",
      "Completed 1022.3 KiB/~1.2 MiB (1.0 MiB/s) with ~100 file(s) remaining (calculating...)\r",
      "Completed 1022.6 KiB/~1.2 MiB (1.0 MiB/s) with ~100 file(s) remaining (calculating...)\r",
      "Completed 1022.9 KiB/~1.2 MiB (1.0 MiB/s) with ~100 file(s) remaining (calculating...)\r",
      "download: s3://nrel-dsgrid-registry/configs/dimensions/geography/us_census_divisions__46a6856a-3680-496a-9659-236f5ffbfbd3/registry.toml to ../.dsgrid-registry/configs/dimensions/geography/us_census_divisions__46a6856a-3680-496a-9659-236f5ffbfbd3/registry.toml\n",
      "Completed 1022.9 KiB/~1.2 MiB (1.0 MiB/s) with ~101 file(s) remaining (calculating...)\r",
      "download: s3://nrel-dsgrid-registry/configs/dimensions/geography/us_census_divisions__46a6856a-3680-496a-9659-236f5ffbfbd3/1.0.0/census_divisions.csv to ../.dsgrid-registry/configs/dimensions/geography/us_census_divisions__46a6856a-3680-496a-9659-236f5ffbfbd3/1.0.0/census_divisions.csv\n",
      "Completed 1022.9 KiB/~1.2 MiB (1.0 MiB/s) with ~100 file(s) remaining (calculating...)\r",
      "Completed 1022.9 KiB/~1.2 MiB (1.0 MiB/s) with ~101 file(s) remaining (calculating...)\r",
      "Completed 1023.2 KiB/~1.2 MiB (1.0 MiB/s) with ~101 file(s) remaining (calculating...)\r",
      "Completed 1023.3 KiB/~1.2 MiB (1.0 MiB/s) with ~102 file(s) remaining (calculating...)\r",
      "Completed 1.0 MiB/~1.2 MiB (1.0 MiB/s) with ~102 file(s) remaining (calculating...)   \r",
      "download: s3://nrel-dsgrid-registry/configs/dimensions/geography/conus_2022-resstock_us_county_fip__bcb74b51-a854-4548-bc02-5c18dc299dbb/registry.toml to ../.dsgrid-registry/configs/dimensions/geography/conus_2022-resstock_us_county_fip__bcb74b51-a854-4548-bc02-5c18dc299dbb/registry.toml\n",
      "Completed 1.0 MiB/~1.2 MiB (1.0 MiB/s) with ~102 file(s) remaining (calculating...)\r",
      "download: s3://nrel-dsgrid-registry/configs/dimensions/geography/us_census_regions__2421dcde-c7db-4ffe-ae34-b3e1782cc83d/1.0.0/dimension.toml to ../.dsgrid-registry/configs/dimensions/geography/us_census_regions__2421dcde-c7db-4ffe-ae34-b3e1782cc83d/1.0.0/dimension.toml\n",
      "Completed 1.0 MiB/~1.2 MiB (1.0 MiB/s) with ~101 file(s) remaining (calculating...)\r",
      "download: s3://nrel-dsgrid-registry/configs/dimensions/geography/us_census_regions__ce101a3a-92e3-48e1-b9a5-7bfee42b796b/1.0.0/census_regions.csv to ../.dsgrid-registry/configs/dimensions/geography/us_census_regions__ce101a3a-92e3-48e1-b9a5-7bfee42b796b/1.0.0/census_regions.csv\n",
      "Completed 1.0 MiB/~1.2 MiB (1.0 MiB/s) with ~101 file(s) remaining (calculating...)\r",
      "download: s3://nrel-dsgrid-registry/configs/dimensions/geography/us_census_regions__2421dcde-c7db-4ffe-ae34-b3e1782cc83d/1.0.0/census_regions.csv to ../.dsgrid-registry/configs/dimensions/geography/us_census_regions__2421dcde-c7db-4ffe-ae34-b3e1782cc83d/1.0.0/census_regions.csv\n",
      "Completed 1.0 MiB/~1.2 MiB (1.0 MiB/s) with ~100 file(s) remaining (calculating...)\r",
      "Completed 1.0 MiB/~1.2 MiB (1011.6 KiB/s) with ~101 file(s) remaining (calculating...)\r",
      "Completed 1.0 MiB/~1.2 MiB (1008.4 KiB/s) with ~101 file(s) remaining (calculating...)\r",
      "download: s3://nrel-dsgrid-registry/configs/dimensions/geography/us_census_regions__ce101a3a-92e3-48e1-b9a5-7bfee42b796b/registry.toml to ../.dsgrid-registry/configs/dimensions/geography/us_census_regions__ce101a3a-92e3-48e1-b9a5-7bfee42b796b/registry.toml\n",
      "Completed 1.0 MiB/~1.2 MiB (1008.4 KiB/s) with ~100 file(s) remaining (calculating...)\r",
      "download: s3://nrel-dsgrid-registry/configs/dimensions/geography/us_census_regions__2421dcde-c7db-4ffe-ae34-b3e1782cc83d/registry.toml to ../.dsgrid-registry/configs/dimensions/geography/us_census_regions__2421dcde-c7db-4ffe-ae34-b3e1782cc83d/registry.toml\n",
      "Completed 1.0 MiB/~1.2 MiB (1008.4 KiB/s) with ~101 file(s) remaining (calculating...)\r",
      "Completed 1.0 MiB/~1.2 MiB (991.6 KiB/s) with ~105 file(s) remaining (calculating...) \r",
      "Completed 1.0 MiB/~1.2 MiB (989.0 KiB/s) with ~107 file(s) remaining (calculating...) \r",
      "download: s3://nrel-dsgrid-registry/configs/dimensions/geography/us_counties_2020_l48__ab2cee1a-b566-411c-a73f-b07789c29f1f/1.0.0/dimension.toml to ../.dsgrid-registry/configs/dimensions/geography/us_counties_2020_l48__ab2cee1a-b566-411c-a73f-b07789c29f1f/1.0.0/dimension.toml\n",
      "Completed 1.0 MiB/~1.2 MiB (989.0 KiB/s) with ~106 file(s) remaining (calculating...)\r",
      "download: s3://nrel-dsgrid-registry/configs/dimensions/geography/us_counties_2010_-_comstock_only__65265034-45f2-439f-ab3c-cece7b20ecab/registry.toml to ../.dsgrid-registry/configs/dimensions/geography/us_counties_2010_-_comstock_only__65265034-45f2-439f-ab3c-cece7b20ecab/registry.toml\n",
      "Completed 1.0 MiB/~1.2 MiB (989.0 KiB/s) with ~105 file(s) remaining (calculating...)\r",
      "Completed 1.0 MiB/~1.2 MiB (980.3 KiB/s) with ~106 file(s) remaining (calculating...)\r",
      "Completed 1.0 MiB/~1.2 MiB (979.6 KiB/s) with ~106 file(s) remaining (calculating...)\r",
      "Completed 1.1 MiB/~1.2 MiB (1.0 MiB/s) with ~107 file(s) remaining (calculating...)  \r",
      "Completed 1.1 MiB/~1.2 MiB (1.0 MiB/s) with ~107 file(s) remaining (calculating...)  \r",
      "download: s3://nrel-dsgrid-registry/configs/dimensions/geography/us_states__774825a9-8545-4c9b-b546-1eb0055b1f2d/1.0.0/dimension.toml to ../.dsgrid-registry/configs/dimensions/geography/us_states__774825a9-8545-4c9b-b546-1eb0055b1f2d/1.0.0/dimension.toml\n",
      "Completed 1.1 MiB/~1.2 MiB (1.0 MiB/s) with ~107 file(s) remaining (calculating...)\r",
      "Completed 1.1 MiB/~1.2 MiB (1.0 MiB/s) with ~107 file(s) remaining (calculating...)\r",
      "download: s3://nrel-dsgrid-registry/configs/dimensions/geography/us_counties_2020_l48__c71faa92-a663-456f-a053-402bb55cd558/registry.toml to ../.dsgrid-registry/configs/dimensions/geography/us_counties_2020_l48__c71faa92-a663-456f-a053-402bb55cd558/registry.toml\n",
      "Completed 1.1 MiB/~1.2 MiB (1.0 MiB/s) with ~106 file(s) remaining (calculating...)\r",
      "download: s3://nrel-dsgrid-registry/configs/dimensions/geography/us_counties_2020_l48__ab2cee1a-b566-411c-a73f-b07789c29f1f/1.0.0/counties.csv to ../.dsgrid-registry/configs/dimensions/geography/us_counties_2020_l48__ab2cee1a-b566-411c-a73f-b07789c29f1f/1.0.0/counties.csv\n",
      "Completed 1.1 MiB/~1.2 MiB (1.0 MiB/s) with ~105 file(s) remaining (calculating...)\r",
      "download: s3://nrel-dsgrid-registry/configs/dimensions/geography/us_states__4e348f5d-4976-4953-9dde-3afa30af303e/1.0.0/states.csv to ../.dsgrid-registry/configs/dimensions/geography/us_states__4e348f5d-4976-4953-9dde-3afa30af303e/1.0.0/states.csv\n",
      "Completed 1.1 MiB/~1.2 MiB (1.0 MiB/s) with ~104 file(s) remaining (calculating...)\r",
      "Completed 1.1 MiB/~1.2 MiB (1.1 MiB/s) with ~104 file(s) remaining (calculating...)\r",
      "download: s3://nrel-dsgrid-registry/configs/dimensions/geography/us_counties_2020_l48__ab2cee1a-b566-411c-a73f-b07789c29f1f/registry.toml to ../.dsgrid-registry/configs/dimensions/geography/us_counties_2020_l48__ab2cee1a-b566-411c-a73f-b07789c29f1f/registry.toml\n"
     ]
    },
    {
     "name": "stdout",
     "output_type": "stream",
     "text": [
      "Completed 1.1 MiB/~1.2 MiB (1.1 MiB/s) with ~104 file(s) remaining (calculating...)\r",
      "Completed 1.1 MiB/~1.2 MiB (1.0 MiB/s) with ~105 file(s) remaining (calculating...)\r",
      "Completed 1.1 MiB/~1.3 MiB (1.0 MiB/s) with ~106 file(s) remaining (calculating...)\r",
      "download: s3://nrel-dsgrid-registry/configs/dimensions/geography/us_counties_2010_-_comstock_only__65265034-45f2-439f-ab3c-cece7b20ecab/1.0.0/comstock_counties.csv to ../.dsgrid-registry/configs/dimensions/geography/us_counties_2010_-_comstock_only__65265034-45f2-439f-ab3c-cece7b20ecab/1.0.0/comstock_counties.csv\n",
      "Completed 1.1 MiB/~1.3 MiB (1.0 MiB/s) with ~105 file(s) remaining (calculating...)\r",
      "Completed 1.2 MiB/~1.3 MiB (1.1 MiB/s) with ~105 file(s) remaining (calculating...)\r",
      "download: s3://nrel-dsgrid-registry/configs/dimensions/geography/us_states__4e348f5d-4976-4953-9dde-3afa30af303e/registry.toml to ../.dsgrid-registry/configs/dimensions/geography/us_states__4e348f5d-4976-4953-9dde-3afa30af303e/registry.toml\n",
      "Completed 1.2 MiB/~1.3 MiB (1.1 MiB/s) with ~106 file(s) remaining (calculating...)\r",
      "download: s3://nrel-dsgrid-registry/configs/dimensions/geography/us_states__774825a9-8545-4c9b-b546-1eb0055b1f2d/1.0.0/states.csv to ../.dsgrid-registry/configs/dimensions/geography/us_states__774825a9-8545-4c9b-b546-1eb0055b1f2d/1.0.0/states.csv\n",
      "Completed 1.2 MiB/~1.3 MiB (1.1 MiB/s) with ~105 file(s) remaining (calculating...)\r",
      "download: s3://nrel-dsgrid-registry/configs/dimensions/geography/us_counties_2020_l48__c71faa92-a663-456f-a053-402bb55cd558/1.0.0/counties.csv to ../.dsgrid-registry/configs/dimensions/geography/us_counties_2020_l48__c71faa92-a663-456f-a053-402bb55cd558/1.0.0/counties.csv\n",
      "Completed 1.2 MiB/~1.3 MiB (1.1 MiB/s) with ~105 file(s) remaining (calculating...)\r",
      "Completed 1.2 MiB/~1.3 MiB (1.1 MiB/s) with ~105 file(s) remaining (calculating...)\r",
      "Completed 1.2 MiB/~1.3 MiB (1.1 MiB/s) with ~107 file(s) remaining (calculating...)\r",
      "download: s3://nrel-dsgrid-registry/configs/dimensions/metric/all-electric-end-uses__fdf1851d-9074-4102-ae37-cc8a7eb1fcfe/1.0.0/all_electric_enduses.csv to ../.dsgrid-registry/configs/dimensions/metric/all-electric-end-uses__fdf1851d-9074-4102-ae37-cc8a7eb1fcfe/1.0.0/all_electric_enduses.csv\n",
      "Completed 1.2 MiB/~1.3 MiB (1.1 MiB/s) with ~106 file(s) remaining (calculating...)\r",
      "Completed 1.2 MiB/~1.3 MiB (1.1 MiB/s) with ~108 file(s) remaining (calculating...)\r",
      "download: s3://nrel-dsgrid-registry/configs/dimensions/metric/all-electric-end-uses__fdf1851d-9074-4102-ae37-cc8a7eb1fcfe/registry.toml to ../.dsgrid-registry/configs/dimensions/metric/all-electric-end-uses__fdf1851d-9074-4102-ae37-cc8a7eb1fcfe/registry.toml\n",
      "Completed 1.2 MiB/~1.3 MiB (1.1 MiB/s) with ~108 file(s) remaining (calculating...)\r",
      "download: s3://nrel-dsgrid-registry/configs/dimensions/metric/all-electric-end-uses__fdf1851d-9074-4102-ae37-cc8a7eb1fcfe/1.0.0/dimension.toml to ../.dsgrid-registry/configs/dimensions/metric/all-electric-end-uses__fdf1851d-9074-4102-ae37-cc8a7eb1fcfe/1.0.0/dimension.toml\n",
      "Completed 1.2 MiB/~1.3 MiB (1.1 MiB/s) with ~107 file(s) remaining (calculating...)\r",
      "Completed 1.2 MiB/~1.3 MiB (1.1 MiB/s) with ~110 file(s) remaining (calculating...)\r",
      "Completed 1.2 MiB/~1.3 MiB (1.0 MiB/s) with ~110 file(s) remaining (calculating...)\r",
      "Completed 1.2 MiB/~1.3 MiB (1.1 MiB/s) with ~111 file(s) remaining (calculating...)\r",
      "Completed 1.2 MiB/~1.3 MiB (1.1 MiB/s) with ~111 file(s) remaining (calculating...)\r",
      "download: s3://nrel-dsgrid-registry/configs/dimensions/geography/us_states__774825a9-8545-4c9b-b546-1eb0055b1f2d/registry.toml to ../.dsgrid-registry/configs/dimensions/geography/us_states__774825a9-8545-4c9b-b546-1eb0055b1f2d/registry.toml\n",
      "Completed 1.2 MiB/~1.3 MiB (1.1 MiB/s) with ~110 file(s) remaining (calculating...)\r",
      "Completed 1.2 MiB/~1.3 MiB (1.1 MiB/s) with ~110 file(s) remaining (calculating...)\r",
      "Completed 1.2 MiB/~1.3 MiB (1.0 MiB/s) with ~110 file(s) remaining (calculating...)\r",
      "download: s3://nrel-dsgrid-registry/configs/dimensions/metric/conus-2022-detailed-end-uses-kwh__cdb9672f-cabb-4956-8ad6-1beba13c52bd/registry.toml to ../.dsgrid-registry/configs/dimensions/metric/conus-2022-detailed-end-uses-kwh__cdb9672f-cabb-4956-8ad6-1beba13c52bd/registry.toml\n",
      "Completed 1.2 MiB/~1.3 MiB (1.0 MiB/s) with ~109 file(s) remaining (calculating...)\r",
      "download: s3://nrel-dsgrid-registry/configs/dimensions/metric/conus-2022-detailed-end-uses-kwh__cdb9672f-cabb-4956-8ad6-1beba13c52bd/1.0.0/enduses_kwh.csv to ../.dsgrid-registry/configs/dimensions/metric/conus-2022-detailed-end-uses-kwh__cdb9672f-cabb-4956-8ad6-1beba13c52bd/1.0.0/enduses_kwh.csv\n",
      "Completed 1.2 MiB/~1.3 MiB (1.0 MiB/s) with ~108 file(s) remaining (calculating...)\r",
      "download: s3://nrel-dsgrid-registry/configs/dimensions/metric/conus-2022-detailed-end-uses-kwh__d171d228-1367-4c78-92c4-7b4681151a3d/1.0.0/enduses_kwh.csv to ../.dsgrid-registry/configs/dimensions/metric/conus-2022-detailed-end-uses-kwh__d171d228-1367-4c78-92c4-7b4681151a3d/1.0.0/enduses_kwh.csv\n",
      "Completed 1.2 MiB/~1.3 MiB (1.0 MiB/s) with ~107 file(s) remaining (calculating...)\r",
      "download: s3://nrel-dsgrid-registry/configs/dimensions/metric/conus-2022-detailed-end-uses-kwh__cdb9672f-cabb-4956-8ad6-1beba13c52bd/1.0.0/dimension.toml to ../.dsgrid-registry/configs/dimensions/metric/conus-2022-detailed-end-uses-kwh__cdb9672f-cabb-4956-8ad6-1beba13c52bd/1.0.0/dimension.toml\n",
      "Completed 1.2 MiB/~1.3 MiB (1.0 MiB/s) with ~106 file(s) remaining (calculating...)\r",
      "Completed 1.2 MiB/~1.3 MiB (1.0 MiB/s) with ~109 file(s) remaining (calculating...)\r",
      "Completed 1.2 MiB/~1.3 MiB (1.0 MiB/s) with ~109 file(s) remaining (calculating...)\r",
      "download: s3://nrel-dsgrid-registry/configs/dimensions/metric/conus_2022-comstock_energy_enduses_kwh__290431c1-f3ec-41ba-ae33-789f907c5180/registry.toml to ../.dsgrid-registry/configs/dimensions/metric/conus_2022-comstock_energy_enduses_kwh__290431c1-f3ec-41ba-ae33-789f907c5180/registry.toml\n",
      "Completed 1.2 MiB/~1.3 MiB (1.0 MiB/s) with ~108 file(s) remaining (calculating...)\r",
      "Completed 1.2 MiB/~1.3 MiB (1.0 MiB/s) with ~108 file(s) remaining (calculating...)\r",
      "download: s3://nrel-dsgrid-registry/configs/dimensions/metric/conus_2022-comstock_energy_enduses_kwh__290431c1-f3ec-41ba-ae33-789f907c5180/1.0.0/conus_2022-comstock_end_uses.csv to ../.dsgrid-registry/configs/dimensions/metric/conus_2022-comstock_energy_enduses_kwh__290431c1-f3ec-41ba-ae33-789f907c5180/1.0.0/conus_2022-comstock_end_uses.csv\n",
      "Completed 1.2 MiB/~1.3 MiB (1.0 MiB/s) with ~107 file(s) remaining (calculating...)\r",
      "download: s3://nrel-dsgrid-registry/configs/dimensions/metric/conus-2022-detailed-end-uses-kwh__d171d228-1367-4c78-92c4-7b4681151a3d/registry.toml to ../.dsgrid-registry/configs/dimensions/metric/conus-2022-detailed-end-uses-kwh__d171d228-1367-4c78-92c4-7b4681151a3d/registry.toml\n",
      "Completed 1.2 MiB/~1.3 MiB (1.0 MiB/s) with ~108 file(s) remaining (calculating...)\r",
      "Completed 1.2 MiB/~1.3 MiB (1.0 MiB/s) with ~108 file(s) remaining (calculating...)\r",
      "download: s3://nrel-dsgrid-registry/configs/dimensions/metric/conus_2022-comstock_energy_enduses_kwh__59e198fb-1cb4-410a-b074-9f45d8eaf96a/1.0.0/dimension.toml to ../.dsgrid-registry/configs/dimensions/metric/conus_2022-comstock_energy_enduses_kwh__59e198fb-1cb4-410a-b074-9f45d8eaf96a/1.0.0/dimension.toml\n",
      "Completed 1.2 MiB/~1.3 MiB (1.0 MiB/s) with ~108 file(s) remaining (calculating...)\r",
      "Completed 1.2 MiB/~1.3 MiB (1.0 MiB/s) with ~108 file(s) remaining (calculating...)\r",
      "download: s3://nrel-dsgrid-registry/configs/dimensions/metric/conus_2022-comstock_energy_enduses_kwh__59e198fb-1cb4-410a-b074-9f45d8eaf96a/1.0.0/conus_2022-comstock_end_uses.csv to ../.dsgrid-registry/configs/dimensions/metric/conus_2022-comstock_energy_enduses_kwh__59e198fb-1cb4-410a-b074-9f45d8eaf96a/1.0.0/conus_2022-comstock_end_uses.csv\n",
      "Completed 1.2 MiB/~1.3 MiB (1.0 MiB/s) with ~107 file(s) remaining (calculating...)\r",
      "Completed 1.2 MiB/~1.3 MiB (1.0 MiB/s) with ~108 file(s) remaining (calculating...)\r",
      "download: s3://nrel-dsgrid-registry/configs/dimensions/metric/conus_2022-resstock_energy_enduses_kwh__1d476bea-ce82-4e88-9ed4-d09c39824876/1.0.0/conus_2022-resstock_end_uses.csv to ../.dsgrid-registry/configs/dimensions/metric/conus_2022-resstock_energy_enduses_kwh__1d476bea-ce82-4e88-9ed4-d09c39824876/1.0.0/conus_2022-resstock_end_uses.csv\n",
      "Completed 1.2 MiB/~1.3 MiB (1.0 MiB/s) with ~107 file(s) remaining (calculating...)\r",
      "Completed 1.2 MiB/~1.4 MiB (1.0 MiB/s) with ~109 file(s) remaining (calculating...)\r",
      "download: s3://nrel-dsgrid-registry/configs/dimensions/metric/conus_2022-comstock_energy_enduses_kwh__59e198fb-1cb4-410a-b074-9f45d8eaf96a/registry.toml to ../.dsgrid-registry/configs/dimensions/metric/conus_2022-comstock_energy_enduses_kwh__59e198fb-1cb4-410a-b074-9f45d8eaf96a/registry.toml\n",
      "Completed 1.2 MiB/~1.4 MiB (1.0 MiB/s) with ~108 file(s) remaining (calculating...)\r",
      "Completed 1.2 MiB/~1.4 MiB (1022.6 KiB/s) with ~111 file(s) remaining (calculating...)\r",
      "Completed 1.2 MiB/~1.4 MiB (1.0 MiB/s) with ~111 file(s) remaining (calculating...)   \r",
      "download: s3://nrel-dsgrid-registry/configs/dimensions/metric/conus_2022-resstock_energy_enduses_kwh__1d476bea-ce82-4e88-9ed4-d09c39824876/1.0.0/dimension.toml to ../.dsgrid-registry/configs/dimensions/metric/conus_2022-resstock_energy_enduses_kwh__1d476bea-ce82-4e88-9ed4-d09c39824876/1.0.0/dimension.toml\n",
      "Completed 1.2 MiB/~1.4 MiB (1.0 MiB/s) with ~110 file(s) remaining (calculating...)\r",
      "Completed 1.2 MiB/~1.4 MiB (1018.8 KiB/s) with ~111 file(s) remaining (calculating...)\r",
      "download: s3://nrel-dsgrid-registry/configs/dimensions/metric/efs_detailed_end_uses_-_comstock_only__f8d8366d-1bf8-4786-8a0e-e33a00d184ac/1.0.0/enduses.csv to ../.dsgrid-registry/configs/dimensions/metric/efs_detailed_end_uses_-_comstock_only__f8d8366d-1bf8-4786-8a0e-e33a00d184ac/1.0.0/enduses.csv\n",
      "Completed 1.2 MiB/~1.4 MiB (1018.8 KiB/s) with ~110 file(s) remaining (calculating...)\r",
      "download: s3://nrel-dsgrid-registry/configs/dimensions/metric/conus_2022-resstock_energy_enduses_kwh__503b54b1-b217-4fce-8d09-22d159d42cf8/1.0.0/conus_2022-resstock_end_uses.csv to ../.dsgrid-registry/configs/dimensions/metric/conus_2022-resstock_energy_enduses_kwh__503b54b1-b217-4fce-8d09-22d159d42cf8/1.0.0/conus_2022-resstock_end_uses.csv\n",
      "Completed 1.2 MiB/~1.4 MiB (1018.8 KiB/s) with ~109 file(s) remaining (calculating...)\r",
      "Completed 1.2 MiB/~1.4 MiB (1011.3 KiB/s) with ~109 file(s) remaining (calculating...)\r",
      "download: s3://nrel-dsgrid-registry/configs/dimensions/metric/conus_2022-resstock_energy_enduses_kwh__503b54b1-b217-4fce-8d09-22d159d42cf8/registry.toml to ../.dsgrid-registry/configs/dimensions/metric/conus_2022-resstock_energy_enduses_kwh__503b54b1-b217-4fce-8d09-22d159d42cf8/registry.toml\n",
      "Completed 1.2 MiB/~1.4 MiB (1011.3 KiB/s) with ~108 file(s) remaining (calculating...)\r",
      "Completed 1.2 MiB/~1.4 MiB (1011.3 KiB/s) with ~108 file(s) remaining (calculating...)\r",
      "Completed 1.2 MiB/~1.4 MiB (1005.4 KiB/s) with ~109 file(s) remaining (calculating...)\r",
      "download: s3://nrel-dsgrid-registry/configs/dimensions/metric/efs_detailed_end_uses_-_comstock_only__f8d8366d-1bf8-4786-8a0e-e33a00d184ac/registry.toml to ../.dsgrid-registry/configs/dimensions/metric/efs_detailed_end_uses_-_comstock_only__f8d8366d-1bf8-4786-8a0e-e33a00d184ac/registry.toml\n"
     ]
    },
    {
     "name": "stdout",
     "output_type": "stream",
     "text": [
      "Completed 1.2 MiB/~1.4 MiB (1005.4 KiB/s) with ~108 file(s) remaining (calculating...)\r",
      "Completed 1.2 MiB/~1.4 MiB (1005.1 KiB/s) with ~109 file(s) remaining (calculating...)\r",
      "download: s3://nrel-dsgrid-registry/configs/dimensions/metric/conus_2022-resstock_energy_enduses_kwh__1d476bea-ce82-4e88-9ed4-d09c39824876/registry.toml to ../.dsgrid-registry/configs/dimensions/metric/conus_2022-resstock_energy_enduses_kwh__1d476bea-ce82-4e88-9ed4-d09c39824876/registry.toml\n",
      "Completed 1.2 MiB/~1.4 MiB (1005.1 KiB/s) with ~108 file(s) remaining (calculating...)\r",
      "download: s3://nrel-dsgrid-registry/configs/dimensions/metric/tempo_ldv_pev_usage__13436861-0cf0-4df1-80bd-895311bce819/1.0.0/end_use.csv to ../.dsgrid-registry/configs/dimensions/metric/tempo_ldv_pev_usage__13436861-0cf0-4df1-80bd-895311bce819/1.0.0/end_use.csv\n",
      "Completed 1.2 MiB/~1.4 MiB (1005.1 KiB/s) with ~108 file(s) remaining (calculating...)\r",
      "download: s3://nrel-dsgrid-registry/configs/dimensions/model_year/model-year-2018__6f4a5fde-b7a6-4179-836f-6357fe40524e/1.0.0/model_year_2018.csv to ../.dsgrid-registry/configs/dimensions/model_year/model-year-2018__6f4a5fde-b7a6-4179-836f-6357fe40524e/1.0.0/model_year_2018.csv\n",
      "Completed 1.2 MiB/~1.4 MiB (1005.1 KiB/s) with ~108 file(s) remaining (calculating...)\r",
      "Completed 1.2 MiB/~1.4 MiB (996.4 KiB/s) with ~108 file(s) remaining (calculating...) \r",
      "Completed 1.2 MiB/~1.4 MiB (989.5 KiB/s) with ~108 file(s) remaining (calculating...) \r",
      "download: s3://nrel-dsgrid-registry/configs/dimensions/metric/tempo_ldv_pev_usage__13436861-0cf0-4df1-80bd-895311bce819/registry.toml to ../.dsgrid-registry/configs/dimensions/metric/tempo_ldv_pev_usage__13436861-0cf0-4df1-80bd-895311bce819/registry.toml\n",
      "Completed 1.2 MiB/~1.4 MiB (989.5 KiB/s) with ~108 file(s) remaining (calculating...)\r",
      "download: s3://nrel-dsgrid-registry/configs/dimensions/model_year/model-year-2018__9484a4d2-d4db-4730-82be-661903fb09f7/1.0.0/model_year_2018.csv to ../.dsgrid-registry/configs/dimensions/model_year/model-year-2018__9484a4d2-d4db-4730-82be-661903fb09f7/1.0.0/model_year_2018.csv\n",
      "Completed 1.2 MiB/~1.4 MiB (989.5 KiB/s) with ~107 file(s) remaining (calculating...)\r",
      "Completed 1.2 MiB/~1.4 MiB (983.9 KiB/s) with ~108 file(s) remaining (calculating...)\r",
      "Completed 1.2 MiB/~1.4 MiB (980.2 KiB/s) with ~108 file(s) remaining (calculating...)\r",
      "Completed 1.2 MiB/~1.4 MiB (976.8 KiB/s) with ~110 file(s) remaining (calculating...)\r",
      "Completed 1.2 MiB/~1.4 MiB (976.2 KiB/s) with ~110 file(s) remaining (calculating...)\r",
      "download: s3://nrel-dsgrid-registry/configs/dimensions/metric/tempo_ldv_pev_usage__13436861-0cf0-4df1-80bd-895311bce819/1.0.0/dimension.toml to ../.dsgrid-registry/configs/dimensions/metric/tempo_ldv_pev_usage__13436861-0cf0-4df1-80bd-895311bce819/1.0.0/dimension.toml\n",
      "Completed 1.2 MiB/~1.4 MiB (976.2 KiB/s) with ~109 file(s) remaining (calculating...)\r",
      "download: s3://nrel-dsgrid-registry/configs/dimensions/model_year/model_year_2012__5371d3a5-ddc8-4dc6-83dc-0ba11ffc723a/1.0.0/model_years.csv to ../.dsgrid-registry/configs/dimensions/model_year/model_year_2012__5371d3a5-ddc8-4dc6-83dc-0ba11ffc723a/1.0.0/model_years.csv\n",
      "Completed 1.2 MiB/~1.4 MiB (976.2 KiB/s) with ~108 file(s) remaining (calculating...)\r",
      "download: s3://nrel-dsgrid-registry/configs/dimensions/model_year/model-year-2018__9484a4d2-d4db-4730-82be-661903fb09f7/registry.toml to ../.dsgrid-registry/configs/dimensions/model_year/model-year-2018__9484a4d2-d4db-4730-82be-661903fb09f7/registry.toml\n",
      "Completed 1.2 MiB/~1.4 MiB (976.2 KiB/s) with ~108 file(s) remaining (calculating...)\r",
      "download: s3://nrel-dsgrid-registry/configs/dimensions/model_year/model-year-2018__6f4a5fde-b7a6-4179-836f-6357fe40524e/1.0.0/dimension.toml to ../.dsgrid-registry/configs/dimensions/model_year/model-year-2018__6f4a5fde-b7a6-4179-836f-6357fe40524e/1.0.0/dimension.toml\n",
      "Completed 1.2 MiB/~1.5 MiB (976.2 KiB/s) with ~108 file(s) remaining (calculating...)\r",
      "Completed 1.2 MiB/~1.5 MiB (965.9 KiB/s) with ~109 file(s) remaining (calculating...)\r",
      "download: s3://nrel-dsgrid-registry/configs/dimensions/model_year/model_year_2012__5371d3a5-ddc8-4dc6-83dc-0ba11ffc723a/registry.toml to ../.dsgrid-registry/configs/dimensions/model_year/model_year_2012__5371d3a5-ddc8-4dc6-83dc-0ba11ffc723a/registry.toml\n",
      "Completed 1.2 MiB/~1.5 MiB (965.9 KiB/s) with ~109 file(s) remaining (calculating...)\r",
      "Completed 1.2 MiB/~1.5 MiB (960.1 KiB/s) with ~109 file(s) remaining (calculating...)\r",
      "Completed 1.2 MiB/~1.5 MiB (959.7 KiB/s) with ~109 file(s) remaining (calculating...)\r",
      "Completed 1.2 MiB/~1.5 MiB (956.5 KiB/s) with ~110 file(s) remaining (calculating...)\r",
      "Completed 1.2 MiB/~1.5 MiB (955.5 KiB/s) with ~110 file(s) remaining (calculating...)\r",
      "download: s3://nrel-dsgrid-registry/configs/dimensions/model_year/model-year-2018__6f4a5fde-b7a6-4179-836f-6357fe40524e/registry.toml to ../.dsgrid-registry/configs/dimensions/model_year/model-year-2018__6f4a5fde-b7a6-4179-836f-6357fe40524e/registry.toml\n",
      "Completed 1.2 MiB/~1.5 MiB (955.5 KiB/s) with ~110 file(s) remaining (calculating...)\r",
      "download: s3://nrel-dsgrid-registry/configs/dimensions/model_year/model_years_2010_to_2050__9ed88ed4-19d0-4be5-8ed8-6008ee830735/1.0.0/dimension.toml to ../.dsgrid-registry/configs/dimensions/model_year/model_years_2010_to_2050__9ed88ed4-19d0-4be5-8ed8-6008ee830735/1.0.0/dimension.toml\n",
      "Completed 1.2 MiB/~1.5 MiB (955.5 KiB/s) with ~109 file(s) remaining (calculating...)\r",
      "download: s3://nrel-dsgrid-registry/configs/dimensions/model_year/model_years_2010_to_2050__9ed88ed4-19d0-4be5-8ed8-6008ee830735/registry.toml to ../.dsgrid-registry/configs/dimensions/model_year/model_years_2010_to_2050__9ed88ed4-19d0-4be5-8ed8-6008ee830735/registry.toml\n",
      "Completed 1.2 MiB/~1.5 MiB (955.5 KiB/s) with ~108 file(s) remaining (calculating...)\r",
      "Completed 1.2 MiB/~1.5 MiB (952.0 KiB/s) with ~109 file(s) remaining (calculating...)\r",
      "download: s3://nrel-dsgrid-registry/configs/dimensions/model_year/tempo_model_year__138818d3-a564-4e2d-acb6-db14f64be085/1.0.0/dimension.toml to ../.dsgrid-registry/configs/dimensions/model_year/tempo_model_year__138818d3-a564-4e2d-acb6-db14f64be085/1.0.0/dimension.toml\n",
      "Completed 1.2 MiB/~1.5 MiB (952.0 KiB/s) with ~108 file(s) remaining (calculating...)\r",
      "download: s3://nrel-dsgrid-registry/configs/dimensions/model_year/model_years_2010_to_2050__9ed88ed4-19d0-4be5-8ed8-6008ee830735/1.0.0/model_years.csv to ../.dsgrid-registry/configs/dimensions/model_year/model_years_2010_to_2050__9ed88ed4-19d0-4be5-8ed8-6008ee830735/1.0.0/model_years.csv\n",
      "Completed 1.2 MiB/~1.5 MiB (952.0 KiB/s) with ~109 file(s) remaining (calculating...)\r",
      "Completed 1.2 MiB/~1.5 MiB (937.0 KiB/s) with ~110 file(s) remaining (calculating...)\r",
      "download: s3://nrel-dsgrid-registry/configs/dimensions/model_year/model_years_2010_to_2050_with_2_year_intervals__19f5e3ad-3a41-40ed-82b3-cf7b784cd97b/registry.toml to ../.dsgrid-registry/configs/dimensions/model_year/model_years_2010_to_2050_with_2_year_intervals__19f5e3ad-3a41-40ed-82b3-cf7b784cd97b/registry.toml\n",
      "Completed 1.2 MiB/~1.5 MiB (937.0 KiB/s) with ~110 file(s) remaining (calculating...)\r",
      "Completed 1.2 MiB/~1.5 MiB (931.9 KiB/s) with ~110 file(s) remaining (calculating...)\r",
      "Completed 1.2 MiB/~1.5 MiB (931.1 KiB/s) with ~111 file(s) remaining (calculating...)\r",
      "Completed 1.2 MiB/~1.5 MiB (930.5 KiB/s) with ~111 file(s) remaining (calculating...)\r",
      "Completed 1.2 MiB/~1.5 MiB (930.6 KiB/s) with ~111 file(s) remaining (calculating...)\r",
      "download: s3://nrel-dsgrid-registry/configs/dimensions/model_year/tempo_model_year__138818d3-a564-4e2d-acb6-db14f64be085/1.0.0/year.csv to ../.dsgrid-registry/configs/dimensions/model_year/tempo_model_year__138818d3-a564-4e2d-acb6-db14f64be085/1.0.0/year.csv\n",
      "Completed 1.2 MiB/~1.5 MiB (930.6 KiB/s) with ~113 file(s) remaining (calculating...)\r",
      "Completed 1.2 MiB/~1.5 MiB (925.5 KiB/s) with ~113 file(s) remaining (calculating...)\r",
      "download: s3://nrel-dsgrid-registry/configs/dimensions/model_year/model_years_2010_to_2050_with_2_year_intervals__19f5e3ad-3a41-40ed-82b3-cf7b784cd97b/1.0.0/model_years.csv to ../.dsgrid-registry/configs/dimensions/model_year/model_years_2010_to_2050_with_2_year_intervals__19f5e3ad-3a41-40ed-82b3-cf7b784cd97b/1.0.0/model_years.csv\n",
      "Completed 1.2 MiB/~1.5 MiB (925.5 KiB/s) with ~112 file(s) remaining (calculating...)\r",
      "download: s3://nrel-dsgrid-registry/configs/dimensions/model_year/tempo_model_year__138818d3-a564-4e2d-acb6-db14f64be085/registry.toml to ../.dsgrid-registry/configs/dimensions/model_year/tempo_model_year__138818d3-a564-4e2d-acb6-db14f64be085/registry.toml\n",
      "Completed 1.2 MiB/~1.5 MiB (925.5 KiB/s) with ~111 file(s) remaining (calculating...)\r",
      "download: s3://nrel-dsgrid-registry/configs/dimensions/scenario/conus-2022-reference__97de410a-c61a-4957-81ac-475a254e17bf/1.0.0/scenario_conus_2022_reference.csv to ../.dsgrid-registry/configs/dimensions/scenario/conus-2022-reference__97de410a-c61a-4957-81ac-475a254e17bf/1.0.0/scenario_conus_2022_reference.csv\n",
      "Completed 1.2 MiB/~1.5 MiB (925.5 KiB/s) with ~110 file(s) remaining (calculating...)\r",
      "download: s3://nrel-dsgrid-registry/configs/dimensions/scenario/conus-2022-reference__da176416-ef6c-40a5-84fa-2181ab889cb5/1.0.0/scenario_conus_2022_reference.csv to ../.dsgrid-registry/configs/dimensions/scenario/conus-2022-reference__da176416-ef6c-40a5-84fa-2181ab889cb5/1.0.0/scenario_conus_2022_reference.csv\n",
      "Completed 1.2 MiB/~1.5 MiB (925.5 KiB/s) with ~110 file(s) remaining (calculating...)\r",
      "Completed 1.2 MiB/~1.5 MiB (913.8 KiB/s) with ~110 file(s) remaining (calculating...)\r",
      "Completed 1.2 MiB/~1.5 MiB (911.6 KiB/s) with ~110 file(s) remaining (calculating...)\r",
      "Completed 1.2 MiB/~1.6 MiB (911.3 KiB/s) with ~111 file(s) remaining (calculating...)\r",
      "Completed 1.2 MiB/~1.6 MiB (909.4 KiB/s) with ~112 file(s) remaining (calculating...)\r",
      "Completed 1.2 MiB/~1.6 MiB (908.6 KiB/s) with ~112 file(s) remaining (calculating...)\r",
      "download: s3://nrel-dsgrid-registry/configs/dimensions/scenario/conus-2022-scenarios__91785a6e-7ddc-4652-a2d9-11a5cfa9509c/1.0.0/scenarios.csv to ../.dsgrid-registry/configs/dimensions/scenario/conus-2022-scenarios__91785a6e-7ddc-4652-a2d9-11a5cfa9509c/1.0.0/scenarios.csv\n",
      "Completed 1.2 MiB/~1.6 MiB (908.6 KiB/s) with ~111 file(s) remaining (calculating...)\r",
      "download: s3://nrel-dsgrid-registry/configs/dimensions/scenario/conus-2022-reference__97de410a-c61a-4957-81ac-475a254e17bf/registry.toml to ../.dsgrid-registry/configs/dimensions/scenario/conus-2022-reference__97de410a-c61a-4957-81ac-475a254e17bf/registry.toml\n",
      "Completed 1.2 MiB/~1.6 MiB (908.6 KiB/s) with ~110 file(s) remaining (calculating...)\r",
      "download: s3://nrel-dsgrid-registry/configs/dimensions/scenario/conus-2022-reference__da176416-ef6c-40a5-84fa-2181ab889cb5/1.0.0/dimension.toml to ../.dsgrid-registry/configs/dimensions/scenario/conus-2022-reference__da176416-ef6c-40a5-84fa-2181ab889cb5/1.0.0/dimension.toml\n",
      "Completed 1.2 MiB/~1.6 MiB (908.6 KiB/s) with ~109 file(s) remaining (calculating...)\r",
      "download: s3://nrel-dsgrid-registry/configs/dimensions/scenario/conus-2022-reference__da176416-ef6c-40a5-84fa-2181ab889cb5/registry.toml to ../.dsgrid-registry/configs/dimensions/scenario/conus-2022-reference__da176416-ef6c-40a5-84fa-2181ab889cb5/registry.toml\n",
      "Completed 1.2 MiB/~1.6 MiB (908.6 KiB/s) with ~108 file(s) remaining (calculating...)\r",
      "download: s3://nrel-dsgrid-registry/configs/dimensions/scenario/conus-2022-scenarios__91785a6e-7ddc-4652-a2d9-11a5cfa9509c/1.0.0/dimension.toml to ../.dsgrid-registry/configs/dimensions/scenario/conus-2022-scenarios__91785a6e-7ddc-4652-a2d9-11a5cfa9509c/1.0.0/dimension.toml\n",
      "Completed 1.2 MiB/~1.6 MiB (908.6 KiB/s) with ~108 file(s) remaining (calculating...)\r",
      "Completed 1.2 MiB/~1.6 MiB (897.2 KiB/s) with ~109 file(s) remaining (calculating...)\r",
      "Completed 1.2 MiB/~1.6 MiB (894.6 KiB/s) with ~110 file(s) remaining (calculating...)\r",
      "Completed 1.2 MiB/~1.6 MiB (892.4 KiB/s) with ~111 file(s) remaining (calculating...)\r",
      "download: s3://nrel-dsgrid-registry/configs/dimensions/scenario/conus-2022__e21d9eea-4d85-4f47-bd87-05996ab385d5/1.0.0/scenario_conus_2022_reference.csv to ../.dsgrid-registry/configs/dimensions/scenario/conus-2022__e21d9eea-4d85-4f47-bd87-05996ab385d5/1.0.0/scenario_conus_2022_reference.csv\n",
      "Completed 1.2 MiB/~1.6 MiB (892.4 KiB/s) with ~110 file(s) remaining (calculating...)\r",
      "Completed 1.2 MiB/~1.6 MiB (890.3 KiB/s) with ~111 file(s) remaining (calculating...)\r",
      "download: s3://nrel-dsgrid-registry/configs/dimensions/scenario/conus-2022-scenarios__91785a6e-7ddc-4652-a2d9-11a5cfa9509c/registry.toml to ../.dsgrid-registry/configs/dimensions/scenario/conus-2022-scenarios__91785a6e-7ddc-4652-a2d9-11a5cfa9509c/registry.toml\n",
      "Completed 1.2 MiB/~1.6 MiB (890.3 KiB/s) with ~110 file(s) remaining (calculating...)\r",
      "download: s3://nrel-dsgrid-registry/configs/dimensions/scenario/conus-2022__e21d9eea-4d85-4f47-bd87-05996ab385d5/registry.toml to ../.dsgrid-registry/configs/dimensions/scenario/conus-2022__e21d9eea-4d85-4f47-bd87-05996ab385d5/registry.toml\n",
      "Completed 1.2 MiB/~1.6 MiB (890.3 KiB/s) with ~110 file(s) remaining (calculating...)\r",
      "download: s3://nrel-dsgrid-registry/configs/dimensions/scenario/reference_scenario__41b4e8db-ab50-4491-b93a-56f3ea1966da/1.0.0/scenarios.csv to ../.dsgrid-registry/configs/dimensions/scenario/reference_scenario__41b4e8db-ab50-4491-b93a-56f3ea1966da/1.0.0/scenarios.csv\n",
      "Completed 1.2 MiB/~1.6 MiB (890.3 KiB/s) with ~110 file(s) remaining (calculating...)\r",
      "Completed 1.2 MiB/~1.6 MiB (882.1 KiB/s) with ~110 file(s) remaining (calculating...)\r",
      "download: s3://nrel-dsgrid-registry/configs/dimensions/scenario/dsgrid_conus_2022_scenarios__2dd78461-0973-48cb-84a3-e3177150d4d0/1.0.0/scenarios.csv to ../.dsgrid-registry/configs/dimensions/scenario/dsgrid_conus_2022_scenarios__2dd78461-0973-48cb-84a3-e3177150d4d0/1.0.0/scenarios.csv\n",
      "Completed 1.2 MiB/~1.6 MiB (882.1 KiB/s) with ~111 file(s) remaining (calculating...)\r",
      "Completed 1.2 MiB/~1.6 MiB (871.8 KiB/s) with ~112 file(s) remaining (calculating...)\r",
      "Completed 1.2 MiB/~1.6 MiB (871.6 KiB/s) with ~113 file(s) remaining (calculating...)\r",
      "Completed 1.2 MiB/~1.6 MiB (871.5 KiB/s) with ~113 file(s) remaining (calculating...)\r",
      "Completed 1.2 MiB/~1.6 MiB (871.6 KiB/s) with ~113 file(s) remaining (calculating...)\r",
      "download: s3://nrel-dsgrid-registry/configs/dimensions/scenario/reference_scenario__41b4e8db-ab50-4491-b93a-56f3ea1966da/registry.toml to ../.dsgrid-registry/configs/dimensions/scenario/reference_scenario__41b4e8db-ab50-4491-b93a-56f3ea1966da/registry.toml\n",
      "Completed 1.2 MiB/~1.6 MiB (871.6 KiB/s) with ~113 file(s) remaining (calculating...)\r",
      "download: s3://nrel-dsgrid-registry/configs/dimensions/scenario/technology_and_policy_scenario__25280a21-576f-4112-91e4-d6b19dfa9e1b/1.0.0/scenario.csv to ../.dsgrid-registry/configs/dimensions/scenario/technology_and_policy_scenario__25280a21-576f-4112-91e4-d6b19dfa9e1b/1.0.0/scenario.csv\n",
      "Completed 1.2 MiB/~1.6 MiB (871.6 KiB/s) with ~113 file(s) remaining (calculating...)\r",
      "download: s3://nrel-dsgrid-registry/configs/dimensions/sector/all-sectors__5979e06c-c190-4673-8dde-121f6f8ca4e9/1.0.0/all_sectors.csv to ../.dsgrid-registry/configs/dimensions/sector/all-sectors__5979e06c-c190-4673-8dde-121f6f8ca4e9/1.0.0/all_sectors.csv\n",
      "Completed 1.2 MiB/~1.6 MiB (871.6 KiB/s) with ~112 file(s) remaining (calculating...)\r",
      "download: s3://nrel-dsgrid-registry/configs/dimensions/scenario/conus-2022__e21d9eea-4d85-4f47-bd87-05996ab385d5/1.0.0/dimension.toml to ../.dsgrid-registry/configs/dimensions/scenario/conus-2022__e21d9eea-4d85-4f47-bd87-05996ab385d5/1.0.0/dimension.toml\n",
      "Completed 1.2 MiB/~1.6 MiB (871.6 KiB/s) with ~111 file(s) remaining (calculating...)\r",
      "Completed 1.2 MiB/~1.6 MiB (866.0 KiB/s) with ~111 file(s) remaining (calculating...)\r",
      "Completed 1.2 MiB/1.6 MiB (859.1 KiB/s) with 112 file(s) remaining                   \r",
      "Completed 1.2 MiB/1.6 MiB (858.4 KiB/s) with 112 file(s) remaining                   \r",
      "download: s3://nrel-dsgrid-registry/configs/dimensions/scenario/technology_and_policy_scenario__25280a21-576f-4112-91e4-d6b19dfa9e1b/1.0.0/dimension.toml to ../.dsgrid-registry/configs/dimensions/scenario/technology_and_policy_scenario__25280a21-576f-4112-91e4-d6b19dfa9e1b/1.0.0/dimension.toml\n",
      "Completed 1.2 MiB/1.6 MiB (858.4 KiB/s) with 111 file(s) remaining\r",
      "Completed 1.2 MiB/1.6 MiB (858.6 KiB/s) with 111 file(s) remaining\r",
      "download: s3://nrel-dsgrid-registry/configs/dimensions/scenario/dsgrid_conus_2022_scenarios__2dd78461-0973-48cb-84a3-e3177150d4d0/registry.toml to ../.dsgrid-registry/configs/dimensions/scenario/dsgrid_conus_2022_scenarios__2dd78461-0973-48cb-84a3-e3177150d4d0/registry.toml\n",
      "Completed 1.2 MiB/1.6 MiB (858.6 KiB/s) with 110 file(s) remaining\r",
      "download: s3://nrel-dsgrid-registry/configs/dimensions/sector/commercial-sector__3db8f466-547b-4919-a204-decd443a78d8/1.0.0/sector_commercial.csv to ../.dsgrid-registry/configs/dimensions/sector/commercial-sector__3db8f466-547b-4919-a204-decd443a78d8/1.0.0/sector_commercial.csv\n",
      "Completed 1.2 MiB/1.6 MiB (858.6 KiB/s) with 109 file(s) remaining\r",
      "Completed 1.2 MiB/1.6 MiB (855.9 KiB/s) with 109 file(s) remaining\r",
      "download: s3://nrel-dsgrid-registry/configs/dimensions/scenario/technology_and_policy_scenario__25280a21-576f-4112-91e4-d6b19dfa9e1b/registry.toml to ../.dsgrid-registry/configs/dimensions/scenario/technology_and_policy_scenario__25280a21-576f-4112-91e4-d6b19dfa9e1b/registry.toml\n",
      "Completed 1.2 MiB/1.6 MiB (855.9 KiB/s) with 108 file(s) remaining\r",
      "download: s3://nrel-dsgrid-registry/configs/dimensions/sector/all-sectors__5979e06c-c190-4673-8dde-121f6f8ca4e9/1.0.0/dimension.toml to ../.dsgrid-registry/configs/dimensions/sector/all-sectors__5979e06c-c190-4673-8dde-121f6f8ca4e9/1.0.0/dimension.toml\n",
      "Completed 1.2 MiB/1.6 MiB (855.9 KiB/s) with 107 file(s) remaining\r",
      "Completed 1.2 MiB/1.6 MiB (848.0 KiB/s) with 107 file(s) remaining\r",
      "Completed 1.2 MiB/1.6 MiB (848.0 KiB/s) with 107 file(s) remaining\r",
      "download: s3://nrel-dsgrid-registry/configs/dimensions/sector/commercial-sector__d1c5a1fc-d250-4dcf-be65-4f1d97677702/1.0.0/sector_commercial.csv to ../.dsgrid-registry/configs/dimensions/sector/commercial-sector__d1c5a1fc-d250-4dcf-be65-4f1d97677702/1.0.0/sector_commercial.csv\n",
      "Completed 1.2 MiB/1.6 MiB (848.0 KiB/s) with 106 file(s) remaining\r",
      "download: s3://nrel-dsgrid-registry/configs/dimensions/sector/all-sectors__5979e06c-c190-4673-8dde-121f6f8ca4e9/registry.toml to ../.dsgrid-registry/configs/dimensions/sector/all-sectors__5979e06c-c190-4673-8dde-121f6f8ca4e9/registry.toml\n",
      "Completed 1.2 MiB/1.6 MiB (848.0 KiB/s) with 105 file(s) remaining\r",
      "Completed 1.2 MiB/1.6 MiB (844.2 KiB/s) with 105 file(s) remaining\r",
      "Completed 1.2 MiB/1.6 MiB (843.6 KiB/s) with 105 file(s) remaining\r",
      "Completed 1.2 MiB/1.6 MiB (842.3 KiB/s) with 105 file(s) remaining\r",
      "download: s3://nrel-dsgrid-registry/configs/dimensions/sector/commercial-sector__3db8f466-547b-4919-a204-decd443a78d8/registry.toml to ../.dsgrid-registry/configs/dimensions/sector/commercial-sector__3db8f466-547b-4919-a204-decd443a78d8/registry.toml\n",
      "Completed 1.2 MiB/1.6 MiB (842.3 KiB/s) with 104 file(s) remaining\r",
      "download: s3://nrel-dsgrid-registry/configs/dimensions/sector/residential-sector__af892511-313f-4310-9c9c-b07a36741dd9/1.0.0/sector_residential.csv to ../.dsgrid-registry/configs/dimensions/sector/residential-sector__af892511-313f-4310-9c9c-b07a36741dd9/1.0.0/sector_residential.csv\n",
      "Completed 1.2 MiB/1.6 MiB (842.3 KiB/s) with 103 file(s) remaining\r",
      "download: s3://nrel-dsgrid-registry/configs/dimensions/sector/efs_sectors_-_comstock_only__c804d3ea-cdb0-402c-9216-355c56be99ab/1.0.0/sectors.csv to ../.dsgrid-registry/configs/dimensions/sector/efs_sectors_-_comstock_only__c804d3ea-cdb0-402c-9216-355c56be99ab/1.0.0/sectors.csv\n",
      "Completed 1.2 MiB/1.6 MiB (842.3 KiB/s) with 102 file(s) remaining\r",
      "Completed 1.2 MiB/1.6 MiB (835.8 KiB/s) with 102 file(s) remaining\r",
      "Completed 1.2 MiB/1.6 MiB (834.3 KiB/s) with 102 file(s) remaining\r",
      "Completed 1.2 MiB/1.6 MiB (833.7 KiB/s) with 102 file(s) remaining\r",
      "Completed 1.2 MiB/1.6 MiB (833.6 KiB/s) with 102 file(s) remaining\r",
      "Completed 1.2 MiB/1.6 MiB (833.8 KiB/s) with 102 file(s) remaining\r",
      "download: s3://nrel-dsgrid-registry/configs/dimensions/sector/residential-sector__c6825490-1b66-462e-bc3e-e513da77b7a9/1.0.0/dimension.toml to ../.dsgrid-registry/configs/dimensions/sector/residential-sector__c6825490-1b66-462e-bc3e-e513da77b7a9/1.0.0/dimension.toml\n",
      "Completed 1.2 MiB/1.6 MiB (833.8 KiB/s) with 101 file(s) remaining\r",
      "download: s3://nrel-dsgrid-registry/configs/dimensions/sector/residential-sector__c6825490-1b66-462e-bc3e-e513da77b7a9/1.0.0/sector_residential.csv to ../.dsgrid-registry/configs/dimensions/sector/residential-sector__c6825490-1b66-462e-bc3e-e513da77b7a9/1.0.0/sector_residential.csv\n",
      "Completed 1.2 MiB/1.6 MiB (833.8 KiB/s) with 100 file(s) remaining\r",
      "download: s3://nrel-dsgrid-registry/configs/dimensions/sector/commercial-sector__d1c5a1fc-d250-4dcf-be65-4f1d97677702/registry.toml to ../.dsgrid-registry/configs/dimensions/sector/commercial-sector__d1c5a1fc-d250-4dcf-be65-4f1d97677702/registry.toml\n",
      "Completed 1.2 MiB/1.6 MiB (833.8 KiB/s) with 99 file(s) remaining\r",
      "download: s3://nrel-dsgrid-registry/configs/dimensions/sector/sectors_-_com-res-tra-only__909bb872-1644-4f65-be96-eb82e279f99e/1.0.0/sectors.csv to ../.dsgrid-registry/configs/dimensions/sector/sectors_-_com-res-tra-only__909bb872-1644-4f65-be96-eb82e279f99e/1.0.0/sectors.csv\n",
      "Completed 1.2 MiB/1.6 MiB (833.8 KiB/s) with 98 file(s) remaining\r",
      "download: s3://nrel-dsgrid-registry/configs/dimensions/sector/efs_sectors_-_comstock_only__c804d3ea-cdb0-402c-9216-355c56be99ab/registry.toml to ../.dsgrid-registry/configs/dimensions/sector/efs_sectors_-_comstock_only__c804d3ea-cdb0-402c-9216-355c56be99ab/registry.toml\n",
      "Completed 1.2 MiB/1.6 MiB (833.8 KiB/s) with 97 file(s) remaining\r",
      "Completed 1.2 MiB/1.6 MiB (825.8 KiB/s) with 97 file(s) remaining\r",
      "Completed 1.2 MiB/1.6 MiB (826.0 KiB/s) with 97 file(s) remaining\r",
      "download: s3://nrel-dsgrid-registry/configs/dimensions/sector/commercial-sector__d1c5a1fc-d250-4dcf-be65-4f1d97677702/1.0.0/dimension.toml to ../.dsgrid-registry/configs/dimensions/sector/commercial-sector__d1c5a1fc-d250-4dcf-be65-4f1d97677702/1.0.0/dimension.toml\n",
      "Completed 1.2 MiB/1.6 MiB (826.0 KiB/s) with 96 file(s) remaining\r",
      "download: s3://nrel-dsgrid-registry/configs/dimensions/sector/residential-sector__af892511-313f-4310-9c9c-b07a36741dd9/registry.toml to ../.dsgrid-registry/configs/dimensions/sector/residential-sector__af892511-313f-4310-9c9c-b07a36741dd9/registry.toml\n",
      "Completed 1.2 MiB/1.6 MiB (826.0 KiB/s) with 95 file(s) remaining\r",
      "Completed 1.2 MiB/1.6 MiB (820.2 KiB/s) with 95 file(s) remaining\r",
      "Completed 1.2 MiB/1.6 MiB (819.5 KiB/s) with 95 file(s) remaining\r",
      "download: s3://nrel-dsgrid-registry/configs/dimensions/sector/sectors_-_com-res-tra-only__909bb872-1644-4f65-be96-eb82e279f99e/1.0.0/dimension.toml to ../.dsgrid-registry/configs/dimensions/sector/sectors_-_com-res-tra-only__909bb872-1644-4f65-be96-eb82e279f99e/1.0.0/dimension.toml\n",
      "Completed 1.2 MiB/1.6 MiB (819.5 KiB/s) with 94 file(s) remaining\r",
      "Completed 1.2 MiB/1.6 MiB (818.7 KiB/s) with 94 file(s) remaining\r",
      "download: s3://nrel-dsgrid-registry/configs/dimensions/sector/sectors_-_com-res-tra-only__909bb872-1644-4f65-be96-eb82e279f99e/registry.toml to ../.dsgrid-registry/configs/dimensions/sector/sectors_-_com-res-tra-only__909bb872-1644-4f65-be96-eb82e279f99e/registry.toml\n",
      "Completed 1.2 MiB/1.6 MiB (818.7 KiB/s) with 93 file(s) remaining\r",
      "Completed 1.2 MiB/1.6 MiB (816.3 KiB/s) with 93 file(s) remaining\r",
      "download: s3://nrel-dsgrid-registry/configs/dimensions/sector/standard_scenarios_2021_sectors_-_com-res-tra-only__bc3881f6-7294-4baa-89c1-3510b9f510c6/1.0.0/sectors.csv to ../.dsgrid-registry/configs/dimensions/sector/standard_scenarios_2021_sectors_-_com-res-tra-only__bc3881f6-7294-4baa-89c1-3510b9f510c6/1.0.0/sectors.csv\n",
      "Completed 1.2 MiB/1.6 MiB (816.3 KiB/s) with 92 file(s) remaining\r",
      "download: s3://nrel-dsgrid-registry/configs/dimensions/sector/transportation_sector__28033356-8626-4646-847e-2b298892aff0/1.0.0/sector.csv to ../.dsgrid-registry/configs/dimensions/sector/transportation_sector__28033356-8626-4646-847e-2b298892aff0/1.0.0/sector.csv\n",
      "Completed 1.2 MiB/1.6 MiB (816.3 KiB/s) with 91 file(s) remaining\r",
      "Completed 1.2 MiB/1.6 MiB (811.8 KiB/s) with 91 file(s) remaining\r",
      "Completed 1.2 MiB/1.6 MiB (811.9 KiB/s) with 91 file(s) remaining\r",
      "download: s3://nrel-dsgrid-registry/configs/dimensions/subsector/all-subsectors__75eb732c-aa66-4655-bcbf-19155c0d53e1/1.0.0/all_subsectors.csv to ../.dsgrid-registry/configs/dimensions/subsector/all-subsectors__75eb732c-aa66-4655-bcbf-19155c0d53e1/1.0.0/all_subsectors.csv\n",
      "Completed 1.2 MiB/1.6 MiB (811.9 KiB/s) with 90 file(s) remaining\r",
      "download: s3://nrel-dsgrid-registry/configs/dimensions/sector/residential-sector__c6825490-1b66-462e-bc3e-e513da77b7a9/registry.toml to ../.dsgrid-registry/configs/dimensions/sector/residential-sector__c6825490-1b66-462e-bc3e-e513da77b7a9/registry.toml\n",
      "Completed 1.2 MiB/1.6 MiB (811.9 KiB/s) with 89 file(s) remaining\r",
      "Completed 1.2 MiB/1.6 MiB (804.8 KiB/s) with 89 file(s) remaining\r",
      "download: s3://nrel-dsgrid-registry/configs/dimensions/sector/transportation_sector__28033356-8626-4646-847e-2b298892aff0/registry.toml to ../.dsgrid-registry/configs/dimensions/sector/transportation_sector__28033356-8626-4646-847e-2b298892aff0/registry.toml\n",
      "Completed 1.2 MiB/1.6 MiB (804.8 KiB/s) with 88 file(s) remaining\r",
      "Completed 1.2 MiB/1.6 MiB (802.2 KiB/s) with 88 file(s) remaining\r",
      "download: s3://nrel-dsgrid-registry/configs/dimensions/subsector/all-subsectors__75eb732c-aa66-4655-bcbf-19155c0d53e1/registry.toml to ../.dsgrid-registry/configs/dimensions/subsector/all-subsectors__75eb732c-aa66-4655-bcbf-19155c0d53e1/registry.toml\n",
      "Completed 1.2 MiB/1.6 MiB (802.2 KiB/s) with 87 file(s) remaining\r",
      "Completed 1.2 MiB/1.6 MiB (799.7 KiB/s) with 87 file(s) remaining\r",
      "Completed 1.2 MiB/1.6 MiB (799.8 KiB/s) with 87 file(s) remaining\r",
      "download: s3://nrel-dsgrid-registry/configs/dimensions/sector/standard_scenarios_2021_sectors_-_com-res-tra-only__bc3881f6-7294-4baa-89c1-3510b9f510c6/registry.toml to ../.dsgrid-registry/configs/dimensions/sector/standard_scenarios_2021_sectors_-_com-res-tra-only__bc3881f6-7294-4baa-89c1-3510b9f510c6/registry.toml\n",
      "Completed 1.2 MiB/1.6 MiB (799.8 KiB/s) with 86 file(s) remaining\r",
      "download: s3://nrel-dsgrid-registry/configs/dimensions/subsector/conus-2022-detailed-subsectors__4d1ad030-9ff6-4b99-b52e-23c5f263e64b/1.0.0/dimension.toml to ../.dsgrid-registry/configs/dimensions/subsector/conus-2022-detailed-subsectors__4d1ad030-9ff6-4b99-b52e-23c5f263e64b/1.0.0/dimension.toml\n",
      "Completed 1.2 MiB/1.6 MiB (799.8 KiB/s) with 85 file(s) remaining\r",
      "Completed 1.2 MiB/1.6 MiB (796.5 KiB/s) with 85 file(s) remaining\r",
      "download: s3://nrel-dsgrid-registry/configs/dimensions/sector/transportation_sector__28033356-8626-4646-847e-2b298892aff0/1.0.0/dimension.toml to ../.dsgrid-registry/configs/dimensions/sector/transportation_sector__28033356-8626-4646-847e-2b298892aff0/1.0.0/dimension.toml\n",
      "Completed 1.2 MiB/1.6 MiB (796.5 KiB/s) with 84 file(s) remaining\r",
      "Completed 1.2 MiB/1.6 MiB (793.5 KiB/s) with 84 file(s) remaining\r",
      "Completed 1.2 MiB/1.6 MiB (793.7 KiB/s) with 84 file(s) remaining\r",
      "Completed 1.2 MiB/1.6 MiB (793.2 KiB/s) with 84 file(s) remaining\r",
      "download: s3://nrel-dsgrid-registry/configs/dimensions/subsector/comstock_subsectors_efs__50509da8-4308-431b-a5d2-375070dbcf72/1.0.0/subsectors.csv to ../.dsgrid-registry/configs/dimensions/subsector/comstock_subsectors_efs__50509da8-4308-431b-a5d2-375070dbcf72/1.0.0/subsectors.csv\n",
      "Completed 1.2 MiB/1.6 MiB (793.2 KiB/s) with 83 file(s) remaining\r",
      "download: s3://nrel-dsgrid-registry/configs/dimensions/subsector/comstock_subsectors_efs__50509da8-4308-431b-a5d2-375070dbcf72/registry.toml to ../.dsgrid-registry/configs/dimensions/subsector/comstock_subsectors_efs__50509da8-4308-431b-a5d2-375070dbcf72/registry.toml\n",
      "Completed 1.2 MiB/1.6 MiB (793.2 KiB/s) with 82 file(s) remaining\r",
      "download: s3://nrel-dsgrid-registry/configs/dimensions/subsector/conus-2022-detailed-subsectors__d2767a8b-f642-4234-a378-428200146094/registry.toml to ../.dsgrid-registry/configs/dimensions/subsector/conus-2022-detailed-subsectors__d2767a8b-f642-4234-a378-428200146094/registry.toml\n",
      "Completed 1.2 MiB/1.6 MiB (793.2 KiB/s) with 81 file(s) remaining\r",
      "Completed 1.2 MiB/1.6 MiB (788.4 KiB/s) with 81 file(s) remaining\r",
      "Completed 1.2 MiB/1.6 MiB (787.8 KiB/s) with 81 file(s) remaining\r",
      "download: s3://nrel-dsgrid-registry/configs/dimensions/subsector/all-subsectors__75eb732c-aa66-4655-bcbf-19155c0d53e1/1.0.0/dimension.toml to ../.dsgrid-registry/configs/dimensions/subsector/all-subsectors__75eb732c-aa66-4655-bcbf-19155c0d53e1/1.0.0/dimension.toml\n",
      "Completed 1.2 MiB/1.6 MiB (787.8 KiB/s) with 80 file(s) remaining\r",
      "download: s3://nrel-dsgrid-registry/configs/dimensions/subsector/conus-2022-detailed-subsectors__d2767a8b-f642-4234-a378-428200146094/1.0.0/subsectors.csv to ../.dsgrid-registry/configs/dimensions/subsector/conus-2022-detailed-subsectors__d2767a8b-f642-4234-a378-428200146094/1.0.0/subsectors.csv\n",
      "Completed 1.2 MiB/1.6 MiB (787.8 KiB/s) with 79 file(s) remaining\r",
      "Completed 1.2 MiB/1.6 MiB (784.5 KiB/s) with 79 file(s) remaining\r",
      "download: s3://nrel-dsgrid-registry/configs/dimensions/subsector/conus-2022-detailed-subsectors__4d1ad030-9ff6-4b99-b52e-23c5f263e64b/registry.toml to ../.dsgrid-registry/configs/dimensions/subsector/conus-2022-detailed-subsectors__4d1ad030-9ff6-4b99-b52e-23c5f263e64b/registry.toml\n",
      "Completed 1.2 MiB/1.6 MiB (784.5 KiB/s) with 78 file(s) remaining\r",
      "Completed 1.2 MiB/1.6 MiB (782.2 KiB/s) with 78 file(s) remaining\r",
      "download: s3://nrel-dsgrid-registry/configs/dimensions/subsector/conus_2022-comstock_building_types__1c099f75-75a9-43d2-8469-1e88384f2889/registry.toml to ../.dsgrid-registry/configs/dimensions/subsector/conus_2022-comstock_building_types__1c099f75-75a9-43d2-8469-1e88384f2889/registry.toml\n"
     ]
    },
    {
     "name": "stdout",
     "output_type": "stream",
     "text": [
      "Completed 1.2 MiB/1.6 MiB (782.2 KiB/s) with 77 file(s) remaining\r",
      "Completed 1.2 MiB/1.6 MiB (774.2 KiB/s) with 77 file(s) remaining\r",
      "download: s3://nrel-dsgrid-registry/configs/dimensions/subsector/conus_2022-resstock_building_types__2dadfec2-3fa1-46bd-af7d-0ec3afab9a9e/registry.toml to ../.dsgrid-registry/configs/dimensions/subsector/conus_2022-resstock_building_types__2dadfec2-3fa1-46bd-af7d-0ec3afab9a9e/registry.toml\n",
      "Completed 1.2 MiB/1.6 MiB (774.2 KiB/s) with 76 file(s) remaining\r",
      "Completed 1.2 MiB/1.6 MiB (772.0 KiB/s) with 76 file(s) remaining\r",
      "download: s3://nrel-dsgrid-registry/configs/dimensions/subsector/conus_2022-comstock_building_types__1c099f75-75a9-43d2-8469-1e88384f2889/1.0.0/conus_2022-comstock_subsectors.csv to ../.dsgrid-registry/configs/dimensions/subsector/conus_2022-comstock_building_types__1c099f75-75a9-43d2-8469-1e88384f2889/1.0.0/conus_2022-comstock_subsectors.csv\n",
      "Completed 1.2 MiB/1.6 MiB (772.0 KiB/s) with 75 file(s) remaining\r",
      "Completed 1.2 MiB/1.6 MiB (770.3 KiB/s) with 75 file(s) remaining\r",
      "download: s3://nrel-dsgrid-registry/configs/dimensions/subsector/conus_2022-resstock_building_types__2dadfec2-3fa1-46bd-af7d-0ec3afab9a9e/1.0.0/conus_2022-resstock_subsectors.csv to ../.dsgrid-registry/configs/dimensions/subsector/conus_2022-resstock_building_types__2dadfec2-3fa1-46bd-af7d-0ec3afab9a9e/1.0.0/conus_2022-resstock_subsectors.csv\n",
      "Completed 1.2 MiB/1.6 MiB (770.3 KiB/s) with 74 file(s) remaining\r",
      "Completed 1.2 MiB/1.6 MiB (767.9 KiB/s) with 74 file(s) remaining\r",
      "Completed 1.2 MiB/1.6 MiB (768.1 KiB/s) with 74 file(s) remaining\r",
      "download: s3://nrel-dsgrid-registry/configs/dimensions/subsector/conus_2022-comstock_building_types__6b940593-c158-46d1-9d83-bc8c734d9a5a/1.0.0/conus_2022-comstock_subsectors.csv to ../.dsgrid-registry/configs/dimensions/subsector/conus_2022-comstock_building_types__6b940593-c158-46d1-9d83-bc8c734d9a5a/1.0.0/conus_2022-comstock_subsectors.csv\n",
      "Completed 1.2 MiB/1.6 MiB (768.1 KiB/s) with 73 file(s) remaining\r",
      "download: s3://nrel-dsgrid-registry/configs/dimensions/subsector/conus_2022-comstock_building_types__6b940593-c158-46d1-9d83-bc8c734d9a5a/registry.toml to ../.dsgrid-registry/configs/dimensions/subsector/conus_2022-comstock_building_types__6b940593-c158-46d1-9d83-bc8c734d9a5a/registry.toml\n",
      "Completed 1.2 MiB/1.6 MiB (768.1 KiB/s) with 72 file(s) remaining\r",
      "Completed 1.2 MiB/1.6 MiB (762.1 KiB/s) with 72 file(s) remaining\r",
      "download: s3://nrel-dsgrid-registry/configs/dimensions/subsector/conus_2022-resstock_building_types__c624b97f-3576-4f02-9bd0-ab7f5d4c3850/1.0.0/dimension.toml to ../.dsgrid-registry/configs/dimensions/subsector/conus_2022-resstock_building_types__c624b97f-3576-4f02-9bd0-ab7f5d4c3850/1.0.0/dimension.toml\n",
      "Completed 1.2 MiB/1.6 MiB (762.1 KiB/s) with 71 file(s) remaining\r",
      "Completed 1.2 MiB/1.6 MiB (758.7 KiB/s) with 71 file(s) remaining\r",
      "download: s3://nrel-dsgrid-registry/configs/dimensions/subsector/tempo_bin__af468f3d-b0c6-41a7-95d1-82ad9c254725/1.0.0/dimension.toml to ../.dsgrid-registry/configs/dimensions/subsector/tempo_bin__af468f3d-b0c6-41a7-95d1-82ad9c254725/1.0.0/dimension.toml\n",
      "Completed 1.2 MiB/1.6 MiB (758.7 KiB/s) with 70 file(s) remaining\r",
      "Completed 1.2 MiB/1.6 MiB (757.2 KiB/s) with 70 file(s) remaining\r",
      "download: s3://nrel-dsgrid-registry/configs/dimensions/subsector/conus-2022-detailed-subsectors__4d1ad030-9ff6-4b99-b52e-23c5f263e64b/1.0.0/subsectors.csv to ../.dsgrid-registry/configs/dimensions/subsector/conus-2022-detailed-subsectors__4d1ad030-9ff6-4b99-b52e-23c5f263e64b/1.0.0/subsectors.csv\n",
      "Completed 1.2 MiB/1.6 MiB (757.2 KiB/s) with 69 file(s) remaining\r",
      "Completed 1.2 MiB/1.6 MiB (755.9 KiB/s) with 69 file(s) remaining\r",
      "Completed 1.2 MiB/1.6 MiB (755.1 KiB/s) with 69 file(s) remaining\r",
      "download: s3://nrel-dsgrid-registry/configs/dimensions/subsector/tempo_bin__af468f3d-b0c6-41a7-95d1-82ad9c254725/registry.toml to ../.dsgrid-registry/configs/dimensions/subsector/tempo_bin__af468f3d-b0c6-41a7-95d1-82ad9c254725/registry.toml\n",
      "Completed 1.2 MiB/1.6 MiB (755.1 KiB/s) with 68 file(s) remaining\r",
      "download: s3://nrel-dsgrid-registry/configs/dimensions/subsector/conus_2022-comstock_building_types__1c099f75-75a9-43d2-8469-1e88384f2889/1.0.0/dimension.toml to ../.dsgrid-registry/configs/dimensions/subsector/conus_2022-comstock_building_types__1c099f75-75a9-43d2-8469-1e88384f2889/1.0.0/dimension.toml\n",
      "Completed 1.2 MiB/1.6 MiB (755.1 KiB/s) with 67 file(s) remaining\r",
      "Completed 1.2 MiB/1.6 MiB (753.1 KiB/s) with 67 file(s) remaining\r",
      "Completed 1.2 MiB/1.6 MiB (751.4 KiB/s) with 67 file(s) remaining\r",
      "download: s3://nrel-dsgrid-registry/configs/dimensions/subsector/conus_2022-resstock_building_types__c624b97f-3576-4f02-9bd0-ab7f5d4c3850/registry.toml to ../.dsgrid-registry/configs/dimensions/subsector/conus_2022-resstock_building_types__c624b97f-3576-4f02-9bd0-ab7f5d4c3850/registry.toml\n",
      "Completed 1.2 MiB/1.6 MiB (751.4 KiB/s) with 66 file(s) remaining\r",
      "download: s3://nrel-dsgrid-registry/configs/dimensions/subsector/conus_2022-resstock_building_types__c624b97f-3576-4f02-9bd0-ab7f5d4c3850/1.0.0/conus_2022-resstock_subsectors.csv to ../.dsgrid-registry/configs/dimensions/subsector/conus_2022-resstock_building_types__c624b97f-3576-4f02-9bd0-ab7f5d4c3850/1.0.0/conus_2022-resstock_subsectors.csv\n",
      "Completed 1.2 MiB/1.6 MiB (751.4 KiB/s) with 65 file(s) remaining\r",
      "Completed 1.2 MiB/1.6 MiB (748.2 KiB/s) with 65 file(s) remaining\r",
      "download: s3://nrel-dsgrid-registry/configs/dimensions/time/time-2012-est-8784-hourly-periodending-noleapdayadjustment-total-hour0start__854766cc-aa40-43fc-a3ae-fcde1742d7b9/registry.toml to ../.dsgrid-registry/configs/dimensions/time/time-2012-est-8784-hourly-periodending-noleapdayadjustment-total-hour0start__854766cc-aa40-43fc-a3ae-fcde1742d7b9/registry.toml\n",
      "Completed 1.2 MiB/1.6 MiB (748.2 KiB/s) with 64 file(s) remaining\r",
      "Completed 1.2 MiB/1.6 MiB (744.0 KiB/s) with 64 file(s) remaining\r",
      "download: s3://nrel-dsgrid-registry/configs/dimensions/time/time-2012-est-8784-hourly-periodending-noleapdayadjustment-total-hour0start__854766cc-aa40-43fc-a3ae-fcde1742d7b9/1.0.0/dimension.toml to ../.dsgrid-registry/configs/dimensions/time/time-2012-est-8784-hourly-periodending-noleapdayadjustment-total-hour0start__854766cc-aa40-43fc-a3ae-fcde1742d7b9/1.0.0/dimension.toml\n",
      "Completed 1.2 MiB/1.6 MiB (744.0 KiB/s) with 63 file(s) remaining\r",
      "Completed 1.3 MiB/1.6 MiB (810.2 KiB/s) with 63 file(s) remaining\r",
      "Completed 1.3 MiB/1.6 MiB (809.5 KiB/s) with 63 file(s) remaining\r",
      "download: s3://nrel-dsgrid-registry/configs/dimensions/weather_year/2012_weather_year__ce50dceb-2d85-4d38-8fb4-78c767a286e5/1.0.0/weather_years.csv to ../.dsgrid-registry/configs/dimensions/weather_year/2012_weather_year__ce50dceb-2d85-4d38-8fb4-78c767a286e5/1.0.0/weather_years.csv\n",
      "Completed 1.3 MiB/1.6 MiB (809.5 KiB/s) with 62 file(s) remaining\r",
      "download: s3://nrel-dsgrid-registry/configs/dimensions/subsector/tempo_bin__af468f3d-b0c6-41a7-95d1-82ad9c254725/1.0.0/bin.csv to ../.dsgrid-registry/configs/dimensions/subsector/tempo_bin__af468f3d-b0c6-41a7-95d1-82ad9c254725/1.0.0/bin.csv\n",
      "Completed 1.3 MiB/1.6 MiB (809.5 KiB/s) with 61 file(s) remaining\r",
      "Completed 1.3 MiB/1.6 MiB (806.0 KiB/s) with 61 file(s) remaining\r",
      "Completed 1.3 MiB/1.6 MiB (805.7 KiB/s) with 61 file(s) remaining\r",
      "Completed 1.3 MiB/1.6 MiB (805.4 KiB/s) with 61 file(s) remaining\r",
      "download: s3://nrel-dsgrid-registry/configs/dimensions/time/time-2012-est-hourly-periodbeginning-nodst-noleapdayadjustment-total__d0297ac2-7e62-4c5a-8ee2-2b57ea545082/registry.toml to ../.dsgrid-registry/configs/dimensions/time/time-2012-est-hourly-periodbeginning-nodst-noleapdayadjustment-total__d0297ac2-7e62-4c5a-8ee2-2b57ea545082/registry.toml\n",
      "Completed 1.3 MiB/1.6 MiB (805.4 KiB/s) with 60 file(s) remaining\r",
      "download: s3://nrel-dsgrid-registry/configs/dimensions/time/time_of_week_by_month__00dd7d29-7c5a-4741-89c1-bda1312a11e8/1.0.0/dimension.toml to ../.dsgrid-registry/configs/dimensions/time/time_of_week_by_month__00dd7d29-7c5a-4741-89c1-bda1312a11e8/1.0.0/dimension.toml\n",
      "Completed 1.3 MiB/1.6 MiB (805.4 KiB/s) with 59 file(s) remaining\r",
      "Completed 1.3 MiB/1.6 MiB (803.2 KiB/s) with 59 file(s) remaining\r",
      "download: s3://nrel-dsgrid-registry/configs/dimensions/time/time-2012-utc-8784-hourly-periodending-total-hour0start__9f306573-6710-4f74-beef-e1f722ca47c1/registry.toml to ../.dsgrid-registry/configs/dimensions/time/time-2012-utc-8784-hourly-periodending-total-hour0start__9f306573-6710-4f74-beef-e1f722ca47c1/registry.toml\n",
      "Completed 1.3 MiB/1.6 MiB (803.2 KiB/s) with 58 file(s) remaining\r",
      "Completed 1.3 MiB/1.6 MiB (801.3 KiB/s) with 58 file(s) remaining\r",
      "Completed 1.3 MiB/1.6 MiB (800.9 KiB/s) with 58 file(s) remaining\r",
      "download: s3://nrel-dsgrid-registry/configs/dimensions/time/time_of_week_by_month__00dd7d29-7c5a-4741-89c1-bda1312a11e8/registry.toml to ../.dsgrid-registry/configs/dimensions/time/time_of_week_by_month__00dd7d29-7c5a-4741-89c1-bda1312a11e8/registry.toml\n",
      "Completed 1.3 MiB/1.6 MiB (800.9 KiB/s) with 57 file(s) remaining\r",
      "download: s3://nrel-dsgrid-registry/configs/dimensions/time/time-2012-utc-houlry-periodbeginning-nodst-noleapdayadjustment-total__65c98fd5-ce36-40ce-8faa-86e7e6bc77d2/registry.toml to ../.dsgrid-registry/configs/dimensions/time/time-2012-utc-houlry-periodbeginning-nodst-noleapdayadjustment-total__65c98fd5-ce36-40ce-8faa-86e7e6bc77d2/registry.toml\n",
      "Completed 1.3 MiB/1.6 MiB (800.9 KiB/s) with 56 file(s) remaining\r",
      "download: s3://nrel-dsgrid-registry/configs/dimensions/time/time-2012-est-hourly-periodbeginning-noleapdayadjustment-total__84545015-4fec-4e42-9147-379a76a075ee/1.0.0/dimension.toml to ../.dsgrid-registry/configs/dimensions/time/time-2012-est-hourly-periodbeginning-noleapdayadjustment-total__84545015-4fec-4e42-9147-379a76a075ee/1.0.0/dimension.toml\n",
      "Completed 1.3 MiB/1.6 MiB (800.9 KiB/s) with 55 file(s) remaining\r",
      "Completed 1.3 MiB/1.6 MiB (798.0 KiB/s) with 55 file(s) remaining\r",
      "Completed 1.3 MiB/1.6 MiB (795.1 KiB/s) with 55 file(s) remaining\r",
      "download: s3://nrel-dsgrid-registry/configs/dimensions/time/time-2012-est-hourly-periodbeginning-noleapdayadjustment-total__84545015-4fec-4e42-9147-379a76a075ee/registry.toml to ../.dsgrid-registry/configs/dimensions/time/time-2012-est-hourly-periodbeginning-noleapdayadjustment-total__84545015-4fec-4e42-9147-379a76a075ee/registry.toml\n",
      "Completed 1.3 MiB/1.6 MiB (795.1 KiB/s) with 54 file(s) remaining\r",
      "download: s3://nrel-dsgrid-registry/configs/dimensions/weather_year/2012_weather_year__e6e2e547-0c60-4157-a773-6062a73fa801/1.0.0/weather_years.csv to ../.dsgrid-registry/configs/dimensions/weather_year/2012_weather_year__e6e2e547-0c60-4157-a773-6062a73fa801/1.0.0/weather_years.csv\n",
      "Completed 1.3 MiB/1.6 MiB (795.1 KiB/s) with 53 file(s) remaining\r",
      "Completed 1.3 MiB/1.6 MiB (791.8 KiB/s) with 53 file(s) remaining\r",
      "Completed 1.3 MiB/1.6 MiB (791.3 KiB/s) with 53 file(s) remaining\r",
      "Completed 1.3 MiB/1.6 MiB (790.5 KiB/s) with 53 file(s) remaining\r",
      "download: s3://nrel-dsgrid-registry/configs/dimensions/weather_year/2012_weather_year__e6e2e547-0c60-4157-a773-6062a73fa801/registry.toml to ../.dsgrid-registry/configs/dimensions/weather_year/2012_weather_year__e6e2e547-0c60-4157-a773-6062a73fa801/registry.toml\n",
      "Completed 1.3 MiB/1.6 MiB (790.5 KiB/s) with 52 file(s) remaining\r",
      "download: s3://nrel-dsgrid-registry/configs/dimensions/weather_year/2012_weather_year__ce50dceb-2d85-4d38-8fb4-78c767a286e5/registry.toml to ../.dsgrid-registry/configs/dimensions/weather_year/2012_weather_year__ce50dceb-2d85-4d38-8fb4-78c767a286e5/registry.toml\n",
      "Completed 1.3 MiB/1.6 MiB (790.5 KiB/s) with 51 file(s) remaining\r",
      "download: s3://nrel-dsgrid-registry/configs/projects/dsgrid_conus_2022/1.0.0/data_source__sector.csv to ../.dsgrid-registry/configs/projects/dsgrid_conus_2022/1.0.0/data_source__sector.csv\n",
      "Completed 1.3 MiB/1.6 MiB (790.5 KiB/s) with 50 file(s) remaining\r",
      "Completed 1.3 MiB/1.6 MiB (783.5 KiB/s) with 50 file(s) remaining\r",
      "download: s3://nrel-dsgrid-registry/configs/dimensions/weather_year/2012_weather_year__e6e2e547-0c60-4157-a773-6062a73fa801/1.0.0/dimension.toml to ../.dsgrid-registry/configs/dimensions/weather_year/2012_weather_year__e6e2e547-0c60-4157-a773-6062a73fa801/1.0.0/dimension.toml\n",
      "Completed 1.3 MiB/1.6 MiB (783.5 KiB/s) with 49 file(s) remaining\r",
      "Completed 1.3 MiB/1.6 MiB (780.4 KiB/s) with 49 file(s) remaining\r",
      "Completed 1.4 MiB/1.6 MiB (785.8 KiB/s) with 49 file(s) remaining\r",
      "Completed 1.4 MiB/1.6 MiB (786.3 KiB/s) with 49 file(s) remaining\r",
      "download: s3://nrel-dsgrid-registry/configs/projects/dsgrid_conus_2022/1.0.0/data_source__subsector.csv to ../.dsgrid-registry/configs/projects/dsgrid_conus_2022/1.0.0/data_source__subsector.csv\n",
      "Completed 1.4 MiB/1.6 MiB (786.3 KiB/s) with 48 file(s) remaining\r",
      "download: s3://nrel-dsgrid-registry/configs/projects/dsgrid_conus_2022/1.0.0/model_year__subsector.csv to ../.dsgrid-registry/configs/projects/dsgrid_conus_2022/1.0.0/model_year__subsector.csv\n",
      "Completed 1.4 MiB/1.6 MiB (786.3 KiB/s) with 47 file(s) remaining\r",
      "Completed 1.4 MiB/1.6 MiB (783.2 KiB/s) with 47 file(s) remaining\r",
      "Completed 1.4 MiB/1.6 MiB (783.2 KiB/s) with 47 file(s) remaining\r",
      "download: s3://nrel-dsgrid-registry/configs/projects/dsgrid_conus_2022/1.0.0/data_source__metric.csv to ../.dsgrid-registry/configs/projects/dsgrid_conus_2022/1.0.0/data_source__metric.csv\n",
      "Completed 1.4 MiB/1.6 MiB (783.2 KiB/s) with 46 file(s) remaining\r",
      "Completed 1.4 MiB/1.6 MiB (785.5 KiB/s) with 46 file(s) remaining\r",
      "download: s3://nrel-dsgrid-registry/configs/projects/dsgrid_conus_2022/1.0.0/scenario__data_source.csv to ../.dsgrid-registry/configs/projects/dsgrid_conus_2022/1.0.0/scenario__data_source.csv\n",
      "Completed 1.4 MiB/1.6 MiB (785.5 KiB/s) with 45 file(s) remaining\r",
      "download: s3://nrel-dsgrid-registry/configs/projects/dsgrid_conus_2022/1.0.0/data_source__model_year.csv to ../.dsgrid-registry/configs/projects/dsgrid_conus_2022/1.0.0/data_source__model_year.csv\n",
      "Completed 1.4 MiB/1.6 MiB (785.5 KiB/s) with 44 file(s) remaining\r",
      "Completed 1.4 MiB/1.6 MiB (781.7 KiB/s) with 44 file(s) remaining\r",
      "download: s3://nrel-dsgrid-registry/configs/projects/dsgrid_conus_2022/1.0.0/project.toml to ../.dsgrid-registry/configs/projects/dsgrid_conus_2022/1.0.0/project.toml\n",
      "Completed 1.4 MiB/1.6 MiB (781.7 KiB/s) with 43 file(s) remaining\r",
      "download: s3://nrel-dsgrid-registry/configs/projects/dsgrid_conus_2022/1.0.0/scenario__sector.csv to ../.dsgrid-registry/configs/projects/dsgrid_conus_2022/1.0.0/scenario__sector.csv\n",
      "Completed 1.4 MiB/1.6 MiB (781.7 KiB/s) with 42 file(s) remaining\r",
      "Completed 1.4 MiB/1.6 MiB (794.3 KiB/s) with 42 file(s) remaining\r",
      "download: s3://nrel-dsgrid-registry/configs/projects/dsgrid_conus_2022/1.0.0/model_year__metric.csv to ../.dsgrid-registry/configs/projects/dsgrid_conus_2022/1.0.0/model_year__metric.csv\n",
      "Completed 1.4 MiB/1.6 MiB (794.3 KiB/s) with 41 file(s) remaining\r",
      "Completed 1.4 MiB/1.6 MiB (792.9 KiB/s) with 41 file(s) remaining\r",
      "download: s3://nrel-dsgrid-registry/configs/projects/dsgrid_conus_2022/1.0.0/sector__metric.csv to ../.dsgrid-registry/configs/projects/dsgrid_conus_2022/1.0.0/sector__metric.csv\n"
     ]
    },
    {
     "name": "stdout",
     "output_type": "stream",
     "text": [
      "Completed 1.4 MiB/1.6 MiB (792.9 KiB/s) with 40 file(s) remaining\r",
      "Completed 1.4 MiB/1.6 MiB (802.2 KiB/s) with 40 file(s) remaining\r",
      "Completed 1.4 MiB/1.6 MiB (802.4 KiB/s) with 40 file(s) remaining\r",
      "Completed 1.4 MiB/1.6 MiB (802.2 KiB/s) with 40 file(s) remaining\r",
      "download: s3://nrel-dsgrid-registry/configs/projects/dsgrid_conus_2022/1.1.0/data_source__sector.csv to ../.dsgrid-registry/configs/projects/dsgrid_conus_2022/1.1.0/data_source__sector.csv\n",
      "Completed 1.4 MiB/1.6 MiB (802.2 KiB/s) with 39 file(s) remaining\r",
      "Completed 1.4 MiB/1.6 MiB (800.5 KiB/s) with 39 file(s) remaining\r",
      "Completed 1.4 MiB/1.6 MiB (801.2 KiB/s) with 39 file(s) remaining\r",
      "Completed 1.4 MiB/1.6 MiB (801.8 KiB/s) with 39 file(s) remaining\r",
      "download: s3://nrel-dsgrid-registry/configs/projects/dsgrid_conus_2022/1.0.0/subsector__metric.csv to ../.dsgrid-registry/configs/projects/dsgrid_conus_2022/1.0.0/subsector__metric.csv\n",
      "Completed 1.4 MiB/1.6 MiB (801.8 KiB/s) with 38 file(s) remaining\r",
      "download: s3://nrel-dsgrid-registry/configs/projects/dsgrid_conus_2022/1.0.0/sector__model_year.csv to ../.dsgrid-registry/configs/projects/dsgrid_conus_2022/1.0.0/sector__model_year.csv\n",
      "Completed 1.4 MiB/1.6 MiB (801.8 KiB/s) with 37 file(s) remaining\r",
      "download: s3://nrel-dsgrid-registry/configs/projects/dsgrid_conus_2022/1.0.0/scenario__subsector.csv to ../.dsgrid-registry/configs/projects/dsgrid_conus_2022/1.0.0/scenario__subsector.csv\n",
      "Completed 1.4 MiB/1.6 MiB (801.8 KiB/s) with 36 file(s) remaining\r",
      "download: s3://nrel-dsgrid-registry/configs/projects/dsgrid_conus_2022/1.0.0/sector__subsector.csv to ../.dsgrid-registry/configs/projects/dsgrid_conus_2022/1.0.0/sector__subsector.csv\n",
      "Completed 1.4 MiB/1.6 MiB (801.8 KiB/s) with 35 file(s) remaining\r",
      "download: s3://nrel-dsgrid-registry/configs/projects/dsgrid_conus_2022/1.1.0/data_source__metric.csv to ../.dsgrid-registry/configs/projects/dsgrid_conus_2022/1.1.0/data_source__metric.csv\n",
      "Completed 1.4 MiB/1.6 MiB (801.8 KiB/s) with 34 file(s) remaining\r",
      "Completed 1.4 MiB/1.6 MiB (798.6 KiB/s) with 34 file(s) remaining\r",
      "download: s3://nrel-dsgrid-registry/configs/projects/dsgrid_conus_2022/1.0.0/scenario__metric.csv to ../.dsgrid-registry/configs/projects/dsgrid_conus_2022/1.0.0/scenario__metric.csv\n",
      "Completed 1.4 MiB/1.6 MiB (798.6 KiB/s) with 33 file(s) remaining\r",
      "Completed 1.4 MiB/1.6 MiB (795.1 KiB/s) with 33 file(s) remaining\r",
      "download: s3://nrel-dsgrid-registry/configs/projects/dsgrid_conus_2022/1.1.0/data_source__subsector.csv to ../.dsgrid-registry/configs/projects/dsgrid_conus_2022/1.1.0/data_source__subsector.csv\n",
      "Completed 1.4 MiB/1.6 MiB (795.1 KiB/s) with 32 file(s) remaining\r",
      "Completed 1.4 MiB/1.6 MiB (793.9 KiB/s) with 32 file(s) remaining\r",
      "download: s3://nrel-dsgrid-registry/configs/projects/dsgrid_conus_2022/1.1.0/data_source__model_year.csv to ../.dsgrid-registry/configs/projects/dsgrid_conus_2022/1.1.0/data_source__model_year.csv\n",
      "Completed 1.4 MiB/1.6 MiB (793.9 KiB/s) with 31 file(s) remaining\r",
      "Completed 1.4 MiB/1.6 MiB (790.1 KiB/s) with 31 file(s) remaining\r",
      "download: s3://nrel-dsgrid-registry/configs/projects/dsgrid_conus_2022/1.1.0/sector__metric.csv to ../.dsgrid-registry/configs/projects/dsgrid_conus_2022/1.1.0/sector__metric.csv\n",
      "Completed 1.4 MiB/1.6 MiB (790.1 KiB/s) with 30 file(s) remaining\r",
      "Completed 1.4 MiB/1.6 MiB (787.5 KiB/s) with 30 file(s) remaining\r",
      "Completed 1.5 MiB/1.6 MiB (805.4 KiB/s) with 30 file(s) remaining\r",
      "download: s3://nrel-dsgrid-registry/configs/projects/dsgrid_conus_2022/1.1.0/scenario__sector.csv to ../.dsgrid-registry/configs/projects/dsgrid_conus_2022/1.1.0/scenario__sector.csv\n",
      "Completed 1.5 MiB/1.6 MiB (805.4 KiB/s) with 29 file(s) remaining\r",
      "download: s3://nrel-dsgrid-registry/configs/projects/dsgrid_conus_2022/1.1.0/model_year__metric.csv to ../.dsgrid-registry/configs/projects/dsgrid_conus_2022/1.1.0/model_year__metric.csv\n",
      "Completed 1.5 MiB/1.6 MiB (805.4 KiB/s) with 28 file(s) remaining\r",
      "Completed 1.5 MiB/1.6 MiB (808.6 KiB/s) with 28 file(s) remaining\r",
      "Completed 1.5 MiB/1.6 MiB (812.0 KiB/s) with 28 file(s) remaining\r",
      "download: s3://nrel-dsgrid-registry/configs/projects/dsgrid_conus_2022/1.1.0/scenario__metric.csv to ../.dsgrid-registry/configs/projects/dsgrid_conus_2022/1.1.0/scenario__metric.csv\n",
      "Completed 1.5 MiB/1.6 MiB (812.0 KiB/s) with 27 file(s) remaining\r",
      "download: s3://nrel-dsgrid-registry/configs/projects/dsgrid_conus_2022/1.1.0/model_year__subsector.csv to ../.dsgrid-registry/configs/projects/dsgrid_conus_2022/1.1.0/model_year__subsector.csv\n",
      "Completed 1.5 MiB/1.6 MiB (812.0 KiB/s) with 26 file(s) remaining\r",
      "Completed 1.5 MiB/1.6 MiB (809.3 KiB/s) with 26 file(s) remaining\r",
      "Completed 1.5 MiB/1.6 MiB (809.8 KiB/s) with 26 file(s) remaining\r",
      "download: s3://nrel-dsgrid-registry/configs/projects/dsgrid_conus_2022/1.1.0/sector__model_year.csv to ../.dsgrid-registry/configs/projects/dsgrid_conus_2022/1.1.0/sector__model_year.csv\n",
      "Completed 1.5 MiB/1.6 MiB (809.8 KiB/s) with 25 file(s) remaining\r",
      "Completed 1.5 MiB/1.6 MiB (807.0 KiB/s) with 25 file(s) remaining\r",
      "download: s3://nrel-dsgrid-registry/configs/projects/dsgrid_conus_2022/1.1.0/scenario__subsector.csv to ../.dsgrid-registry/configs/projects/dsgrid_conus_2022/1.1.0/scenario__subsector.csv\n",
      "Completed 1.5 MiB/1.6 MiB (807.0 KiB/s) with 24 file(s) remaining\r",
      "download: s3://nrel-dsgrid-registry/configs/projects/dsgrid_conus_2022/1.1.0/scenario__data_source.csv to ../.dsgrid-registry/configs/projects/dsgrid_conus_2022/1.1.0/scenario__data_source.csv\n",
      "Completed 1.5 MiB/1.6 MiB (807.0 KiB/s) with 23 file(s) remaining\r",
      "Completed 1.5 MiB/1.6 MiB (805.0 KiB/s) with 23 file(s) remaining\r",
      "Completed 1.5 MiB/1.6 MiB (814.9 KiB/s) with 23 file(s) remaining\r",
      "download: s3://nrel-dsgrid-registry/configs/projects/dsgrid_conus_2022/1.2.0/data_source__sector.csv to ../.dsgrid-registry/configs/projects/dsgrid_conus_2022/1.2.0/data_source__sector.csv\n",
      "Completed 1.5 MiB/1.6 MiB (814.9 KiB/s) with 22 file(s) remaining\r",
      "download: s3://nrel-dsgrid-registry/configs/projects/dsgrid_conus_2022/1.1.0/subsector__metric.csv to ../.dsgrid-registry/configs/projects/dsgrid_conus_2022/1.1.0/subsector__metric.csv\n",
      "Completed 1.5 MiB/1.6 MiB (814.9 KiB/s) with 21 file(s) remaining\r",
      "Completed 1.5 MiB/1.6 MiB (808.9 KiB/s) with 21 file(s) remaining\r",
      "Completed 1.5 MiB/1.6 MiB (809.3 KiB/s) with 21 file(s) remaining\r",
      "download: s3://nrel-dsgrid-registry/configs/projects/dsgrid_conus_2022/1.2.0/data_source__model_year.csv to ../.dsgrid-registry/configs/projects/dsgrid_conus_2022/1.2.0/data_source__model_year.csv\n",
      "Completed 1.5 MiB/1.6 MiB (809.3 KiB/s) with 20 file(s) remaining\r",
      "download: s3://nrel-dsgrid-registry/configs/projects/dsgrid_conus_2022/1.1.0/sector__subsector.csv to ../.dsgrid-registry/configs/projects/dsgrid_conus_2022/1.1.0/sector__subsector.csv\n",
      "Completed 1.5 MiB/1.6 MiB (809.3 KiB/s) with 19 file(s) remaining\r",
      "Completed 1.5 MiB/1.6 MiB (807.4 KiB/s) with 19 file(s) remaining\r",
      "download: s3://nrel-dsgrid-registry/configs/projects/dsgrid_conus_2022/1.2.0/data_source__metric.csv to ../.dsgrid-registry/configs/projects/dsgrid_conus_2022/1.2.0/data_source__metric.csv\n",
      "Completed 1.5 MiB/1.6 MiB (807.4 KiB/s) with 18 file(s) remaining\r",
      "Completed 1.5 MiB/1.6 MiB (809.4 KiB/s) with 18 file(s) remaining\r",
      "download: s3://nrel-dsgrid-registry/configs/projects/dsgrid_conus_2022/1.1.0/project.toml to ../.dsgrid-registry/configs/projects/dsgrid_conus_2022/1.1.0/project.toml\n",
      "Completed 1.5 MiB/1.6 MiB (809.4 KiB/s) with 17 file(s) remaining\r",
      "Completed 1.5 MiB/1.6 MiB (812.4 KiB/s) with 17 file(s) remaining\r",
      "download: s3://nrel-dsgrid-registry/configs/projects/dsgrid_conus_2022/1.2.0/model_year__subsector.csv to ../.dsgrid-registry/configs/projects/dsgrid_conus_2022/1.2.0/model_year__subsector.csv\n",
      "Completed 1.5 MiB/1.6 MiB (812.4 KiB/s) with 16 file(s) remaining\r",
      "Completed 1.5 MiB/1.6 MiB (814.1 KiB/s) with 16 file(s) remaining\r",
      "download: s3://nrel-dsgrid-registry/configs/projects/dsgrid_conus_2022/1.2.0/scenario__metric.csv to ../.dsgrid-registry/configs/projects/dsgrid_conus_2022/1.2.0/scenario__metric.csv\n",
      "Completed 1.5 MiB/1.6 MiB (814.1 KiB/s) with 15 file(s) remaining\r",
      "Completed 1.5 MiB/1.6 MiB (812.0 KiB/s) with 15 file(s) remaining\r",
      "Completed 1.6 MiB/1.6 MiB (829.8 KiB/s) with 15 file(s) remaining\r",
      "download: s3://nrel-dsgrid-registry/configs/projects/dsgrid_conus_2022/1.2.0/data_source__subsector.csv to ../.dsgrid-registry/configs/projects/dsgrid_conus_2022/1.2.0/data_source__subsector.csv\n",
      "Completed 1.6 MiB/1.6 MiB (829.8 KiB/s) with 14 file(s) remaining\r",
      "download: s3://nrel-dsgrid-registry/configs/projects/dsgrid_conus_2022/1.2.0/model_year__metric.csv to ../.dsgrid-registry/configs/projects/dsgrid_conus_2022/1.2.0/model_year__metric.csv\n",
      "Completed 1.6 MiB/1.6 MiB (829.8 KiB/s) with 13 file(s) remaining\r",
      "Completed 1.6 MiB/1.6 MiB (828.6 KiB/s) with 13 file(s) remaining\r",
      "Completed 1.6 MiB/1.6 MiB (827.4 KiB/s) with 13 file(s) remaining\r",
      "Completed 1.6 MiB/1.6 MiB (838.4 KiB/s) with 13 file(s) remaining\r",
      "download: s3://nrel-dsgrid-registry/configs/projects/dsgrid_conus_2022/1.2.0/project.toml to ../.dsgrid-registry/configs/projects/dsgrid_conus_2022/1.2.0/project.toml\n",
      "Completed 1.6 MiB/1.6 MiB (838.4 KiB/s) with 12 file(s) remaining\r",
      "download: s3://nrel-dsgrid-registry/configs/projects/dsgrid_conus_2022/1.2.0/scenario__sector.csv to ../.dsgrid-registry/configs/projects/dsgrid_conus_2022/1.2.0/scenario__sector.csv\n",
      "Completed 1.6 MiB/1.6 MiB (838.4 KiB/s) with 11 file(s) remaining\r",
      "download: s3://nrel-dsgrid-registry/configs/projects/dsgrid_conus_2022/1.2.0/subsector__metric.csv to ../.dsgrid-registry/configs/projects/dsgrid_conus_2022/1.2.0/subsector__metric.csv\n",
      "Completed 1.6 MiB/1.6 MiB (838.4 KiB/s) with 10 file(s) remaining\r",
      "Completed 1.6 MiB/1.6 MiB (834.4 KiB/s) with 10 file(s) remaining\r",
      "Completed 1.6 MiB/1.6 MiB (834.6 KiB/s) with 10 file(s) remaining\r",
      "Completed 1.6 MiB/1.6 MiB (834.5 KiB/s) with 10 file(s) remaining\r",
      "download: s3://nrel-dsgrid-registry/configs/projects/dsgrid_conus_2022/1.3.0/data_source__sector.csv to ../.dsgrid-registry/configs/projects/dsgrid_conus_2022/1.3.0/data_source__sector.csv\n",
      "Completed 1.6 MiB/1.6 MiB (834.5 KiB/s) with 9 file(s) remaining\r",
      "download: s3://nrel-dsgrid-registry/configs/projects/dsgrid_conus_2022/1.2.0/scenario__subsector.csv to ../.dsgrid-registry/configs/projects/dsgrid_conus_2022/1.2.0/scenario__subsector.csv\n",
      "Completed 1.6 MiB/1.6 MiB (834.5 KiB/s) with 8 file(s) remaining\r",
      "download: s3://nrel-dsgrid-registry/configs/projects/dsgrid_conus_2022/1.2.0/sector__model_year.csv to ../.dsgrid-registry/configs/projects/dsgrid_conus_2022/1.2.0/sector__model_year.csv\n",
      "Completed 1.6 MiB/1.6 MiB (834.5 KiB/s) with 7 file(s) remaining\r",
      "Completed 1.6 MiB/1.6 MiB (827.6 KiB/s) with 7 file(s) remaining\r",
      "download: s3://nrel-dsgrid-registry/configs/projects/dsgrid_conus_2022/1.2.0/sector__metric.csv to ../.dsgrid-registry/configs/projects/dsgrid_conus_2022/1.2.0/sector__metric.csv\n",
      "Completed 1.6 MiB/1.6 MiB (827.6 KiB/s) with 6 file(s) remaining\r",
      "Completed 1.6 MiB/1.6 MiB (826.7 KiB/s) with 6 file(s) remaining\r",
      "download: s3://nrel-dsgrid-registry/configs/projects/dsgrid_conus_2022/1.2.0/sector__subsector.csv to ../.dsgrid-registry/configs/projects/dsgrid_conus_2022/1.2.0/sector__subsector.csv\n",
      "Completed 1.6 MiB/1.6 MiB (826.7 KiB/s) with 5 file(s) remaining\r",
      "Completed 1.6 MiB/1.6 MiB (825.0 KiB/s) with 5 file(s) remaining\r",
      "download: s3://nrel-dsgrid-registry/configs/projects/dsgrid_conus_2022/1.3.0/data_source__metric.csv to ../.dsgrid-registry/configs/projects/dsgrid_conus_2022/1.3.0/data_source__metric.csv\n",
      "Completed 1.6 MiB/1.6 MiB (825.0 KiB/s) with 4 file(s) remaining\r",
      "Completed 1.6 MiB/1.6 MiB (824.1 KiB/s) with 4 file(s) remaining\r",
      "download: s3://nrel-dsgrid-registry/configs/projects/dsgrid_conus_2022/1.3.0/data_source__subsector.csv to ../.dsgrid-registry/configs/projects/dsgrid_conus_2022/1.3.0/data_source__subsector.csv\n",
      "Completed 1.6 MiB/1.6 MiB (824.1 KiB/s) with 3 file(s) remaining\r",
      "Completed 1.6 MiB/1.6 MiB (821.1 KiB/s) with 3 file(s) remaining\r",
      "download: s3://nrel-dsgrid-registry/configs/projects/dsgrid_conus_2022/registry.toml to ../.dsgrid-registry/configs/projects/dsgrid_conus_2022/registry.toml\n"
     ]
    },
    {
     "name": "stdout",
     "output_type": "stream",
     "text": [
      "Completed 1.6 MiB/1.6 MiB (821.1 KiB/s) with 2 file(s) remaining\r",
      "Completed 1.6 MiB/1.6 MiB (824.2 KiB/s) with 2 file(s) remaining\r",
      "download: s3://nrel-dsgrid-registry/configs/projects/dsgrid_conus_2022/1.3.0/project.toml to ../.dsgrid-registry/configs/projects/dsgrid_conus_2022/1.3.0/project.toml\n",
      "Completed 1.6 MiB/1.6 MiB (824.2 KiB/s) with 1 file(s) remaining\r",
      "Completed 1.6 MiB/1.6 MiB (819.4 KiB/s) with 1 file(s) remaining\r",
      "download: s3://nrel-dsgrid-registry/configs/projects/dsgrid_conus_2022/1.2.0/scenario__data_source.csv to ../.dsgrid-registry/configs/projects/dsgrid_conus_2022/1.2.0/scenario__data_source.csv\n"
     ]
    }
   ],
   "source": [
    "sync_and_pull = True # <--- registry config only\n",
    "if sync_and_pull:\n",
    "    print(f\"syncing registry: {registry_path}\")\n",
    "    RegistryManager.load(registry_path, offline_mode=False)"
   ]
  },
  {
   "cell_type": "code",
   "execution_count": 10,
   "id": "bd2c937c",
   "metadata": {
    "ExecuteTime": {
     "end_time": "2022-06-18T01:50:59.185112Z",
     "start_time": "2022-06-18T01:50:58.503242Z"
    }
   },
   "outputs": [
    {
     "name": "stdout",
     "output_type": "stream",
     "text": [
      "Loaded dsgrid registry at: /home/hadoop/.dsgrid-registry\n"
     ]
    }
   ],
   "source": [
    "# ETH@Review: Were you intending to write something to the right of the arrow?\n",
    "offline_mode = True # <---\n",
    "\n",
    "registry_mgr = RegistryManager.load(registry_path, offline_mode=offline_mode)\n",
    "project_mgr = registry_mgr.project_manager\n",
    "dataset_mgr = registry_mgr.dataset_manager\n",
    "dim_map_mgr = registry_mgr.dimension_mapping_manager\n",
    "dim_mgr = registry_mgr.dimension_manager\n",
    "# ETH@Review: This line seems out of place. Or change \"Loading\" to \"Loaded\"?\n",
    "print(f\"Loaded dsgrid registry at: {registry_path}\")"
   ]
  },
  {
   "cell_type": "code",
   "execution_count": 11,
   "id": "23c1b83f",
   "metadata": {
    "ExecuteTime": {
     "end_time": "2022-06-18T01:51:06.625520Z",
     "start_time": "2022-06-18T01:50:59.186775Z"
    }
   },
   "outputs": [
    {
     "name": "stderr",
     "output_type": "stream",
     "text": [
      "                                                                                \r"
     ]
    },
    {
     "data": {
      "text/html": [
       "<table>\n",
       "    <caption>Projects</caption>\n",
       "    <thead>\n",
       "        <tr>\n",
       "            <th>ID</th>\n",
       "            <th>Version</th>\n",
       "            <th>Status</th>\n",
       "            <th>Datasets</th>\n",
       "            <th>Description</th>\n",
       "        </tr>\n",
       "    </thead>\n",
       "    <tbody>\n",
       "        <tr>\n",
       "            <td>dsgrid_conus_2022</td>\n",
       "            <td>1.3.0</td>\n",
       "            <td>Complete</td>\n",
       "            <td>tempo_conus_2022: Registered,<br>conus_2022_reference_resstock: Registered,<br>conus_2022_reference_comstock: Registered</td>\n",
       "            <td>Dataset created for the FY21 dsgrid Load Profile Tool for Grid Modeling project</td>\n",
       "        </tr>\n",
       "    </tbody>\n",
       "</table>"
      ],
      "text/plain": [
       "<IPython.core.display.HTML object>"
      ]
     },
     "metadata": {},
     "output_type": "display_data"
    }
   ],
   "source": [
    "project_mgr.show(max_width=30, drop_fields=[\"Date\", \"Submitter\"])"
   ]
  },
  {
   "cell_type": "code",
   "execution_count": null,
   "id": "37b93d4f",
   "metadata": {},
   "outputs": [],
   "source": []
  },
  {
   "cell_type": "code",
   "execution_count": 12,
   "id": "d4815918",
   "metadata": {
    "ExecuteTime": {
     "end_time": "2022-06-18T01:51:06.629410Z",
     "start_time": "2022-06-18T01:51:06.627155Z"
    }
   },
   "outputs": [],
   "source": [
    "# %%timeit\n",
    "# ## Dan's test\n",
    "# from dsgrid.config.time_dimension_base_config import TimeDimensionBaseConfig\n",
    "\n",
    "# i = 0\n",
    "# for d_id in registry_mgr.dimension_manager._id_to_type:\n",
    "#     config = registry_mgr.dimension_manager.get_by_id(d_id)\n",
    "#     if not isinstance(config, TimeDimensionBaseConfig):\n",
    "#         config.get_records_dataframe().count()\n",
    "#         i += 1\n",
    "        \n",
    "# print(i)"
   ]
  },
  {
   "cell_type": "markdown",
   "id": "484d7f4c",
   "metadata": {},
   "source": [
    "## 3.2. Load Project\n",
    "This section is mostly exploratory (For *Section 4. Queries*, only need to load project) \n",
    "\n",
    "####  Some user criteria:\n",
    "At the projects, I want to be able to:\n",
    "- Examine what's available in the project:\n",
    "    * Show project dimensions by type, show resolution by type - I don't care: base/supplemental, mappings, id\n",
    "    * Get unique records by dimension/resolution\n",
    "    * Get unique records by selected dimension sets\n",
    "    * Show mapped dataset\n",
    "    * Show unit (or select a unit of analysis) and fuel types\n",
    "- Make queries using:\n",
    "    * Project dimensions + fuel types + time resolutions\n",
    "    * Get all types of statistics (max, mean, min, percentiles, count, sum)\n",
    "    \n",
    "- dataset level: never mapped, think TEMPO,\n",
    "- interface to allow for query optimization\n",
    "    \n",
    "#### Notes:\n",
    " * Project_manager has access to all other managers.\n",
    " * Each manager has the responsiblity to retrieve configs\n",
    " * Access ConfigModel from configs"
   ]
  },
  {
   "cell_type": "code",
   "execution_count": 13,
   "id": "8083ad86",
   "metadata": {
    "ExecuteTime": {
     "end_time": "2022-06-18T01:51:08.162466Z",
     "start_time": "2022-06-18T01:51:06.631419Z"
    }
   },
   "outputs": [
    {
     "name": "stdout",
     "output_type": "stream",
     "text": [
      "project loaded\n"
     ]
    }
   ],
   "source": [
    "# load projct\n",
    "project_id = \"dsgrid_conus_2022\" # <---\n",
    "project = Project.load(project_id, offline_mode=offline_mode)\n",
    "\n",
    "print(\"project loaded\")"
   ]
  },
  {
   "cell_type": "markdown",
   "id": "cd51fbba",
   "metadata": {},
   "source": [
    "## 3.3. Load Project Datasets"
   ]
  },
  {
   "cell_type": "markdown",
   "id": "89660b28",
   "metadata": {},
   "source": [
    "### 3.3.3. TEMPO\n",
    "\n",
    "load and check tempo dataset here"
   ]
  },
  {
   "cell_type": "code",
   "execution_count": 14,
   "id": "13295901",
   "metadata": {
    "ExecuteTime": {
     "end_time": "2022-06-18T01:51:13.121796Z",
     "start_time": "2022-06-18T01:51:08.166523Z"
    }
   },
   "outputs": [
    {
     "name": "stderr",
     "output_type": "stream",
     "text": [
      "22/06/18 01:51:09 WARN BasicProfileConfigFileLoader: Unable to load config file /home/hadoop/.aws/config\n",
      "java.lang.IllegalArgumentException: Invalid property format: no '=' character is found on line 1\n",
      "\tat com.amazon.ws.emr.hadoop.fs.shaded.com.amazonaws.auth.profile.internal.AbstractProfilesConfigFileScanner.parsePropertyLine(AbstractProfilesConfigFileScanner.java:162)\n",
      "\tat com.amazon.ws.emr.hadoop.fs.shaded.com.amazonaws.auth.profile.internal.AbstractProfilesConfigFileScanner.run(AbstractProfilesConfigFileScanner.java:119)\n",
      "\tat com.amazon.ws.emr.hadoop.fs.shaded.com.amazonaws.auth.profile.internal.BasicProfileConfigLoader$ProfilesConfigFileLoaderHelper.parseProfileProperties(BasicProfileConfigLoader.java:130)\n",
      "\tat com.amazon.ws.emr.hadoop.fs.shaded.com.amazonaws.auth.profile.internal.BasicProfileConfigLoader.loadProfiles(BasicProfileConfigLoader.java:83)\n",
      "\tat com.amazon.ws.emr.hadoop.fs.shaded.com.amazonaws.auth.profile.internal.BasicProfileConfigLoader.loadProfiles(BasicProfileConfigLoader.java:60)\n",
      "\tat com.amazon.ws.emr.hadoop.fs.shaded.com.amazonaws.auth.profile.ProfilesConfigFile.loadProfiles(ProfilesConfigFile.java:208)\n",
      "\tat com.amazon.ws.emr.hadoop.fs.shaded.com.amazonaws.auth.profile.ProfilesConfigFile.<init>(ProfilesConfigFile.java:145)\n",
      "\tat com.amazon.ws.emr.hadoop.fs.shaded.com.amazonaws.auth.profile.ProfilesConfigFile.<init>(ProfilesConfigFile.java:133)\n",
      "\tat com.amazon.ws.emr.hadoop.fs.shaded.com.amazonaws.auth.profile.internal.BasicProfileConfigFileLoader.getProfilesConfigFile(BasicProfileConfigFileLoader.java:71)\n",
      "\tat com.amazon.ws.emr.hadoop.fs.shaded.com.amazonaws.auth.profile.internal.BasicProfileConfigFileLoader.getProfile(BasicProfileConfigFileLoader.java:55)\n",
      "\tat com.amazon.ws.emr.hadoop.fs.shaded.com.amazonaws.retry.internal.RetryModeResolver.profile(RetryModeResolver.java:103)\n",
      "\tat com.amazon.ws.emr.hadoop.fs.shaded.com.amazonaws.retry.internal.RetryModeResolver.resolveRetryMode(RetryModeResolver.java:89)\n",
      "\tat com.amazon.ws.emr.hadoop.fs.shaded.com.amazonaws.retry.internal.RetryModeResolver.<init>(RetryModeResolver.java:55)\n",
      "\tat com.amazon.ws.emr.hadoop.fs.shaded.com.amazonaws.retry.internal.RetryModeResolver.<init>(RetryModeResolver.java:48)\n",
      "\tat com.amazon.ws.emr.hadoop.fs.shaded.com.amazonaws.retry.RetryPolicy.<clinit>(RetryPolicy.java:35)\n",
      "\tat com.amazon.ws.emr.hadoop.fs.shaded.com.amazonaws.retry.PredefinedRetryPolicies.<clinit>(PredefinedRetryPolicies.java:32)\n",
      "\tat com.amazon.ws.emr.hadoop.fs.shaded.com.amazonaws.ClientConfiguration.<clinit>(ClientConfiguration.java:89)\n",
      "\tat com.amazon.ws.emr.hadoop.fs.util.ClientConfigurationFactory.getDefaultClientConfiguration(ClientConfigurationFactory.java:117)\n",
      "\tat com.amazon.ws.emr.hadoop.fs.util.ClientConfigurationFactory.getClientConfiguration(ClientConfigurationFactory.java:49)\n",
      "\tat com.amazon.ws.emr.hadoop.fs.guice.EmrFSProdModule.createS3Configuration(EmrFSProdModule.java:112)\n",
      "\tat com.amazon.ws.emr.hadoop.fs.guice.EmrFSProdModule.createAmazonS3LiteClient(EmrFSProdModule.java:96)\n",
      "\tat com.amazon.ws.emr.hadoop.fs.guice.EmrFSProdModule.createAmazonS3Lite(EmrFSProdModule.java:266)\n",
      "\tat com.amazon.ws.emr.hadoop.fs.guice.EmrFSBaseModule.provideAmazonS3Lite(EmrFSBaseModule.java:112)\n",
      "\tat com.amazon.ws.emr.hadoop.fs.guice.EmrFSBaseModule$$FastClassByGuice$$4b786f72.invoke(<generated>)\n",
      "\tat com.amazon.ws.emr.hadoop.fs.shaded.com.google.inject.internal.ProviderMethod$FastClassProviderMethod.doProvision(ProviderMethod.java:264)\n",
      "\tat com.amazon.ws.emr.hadoop.fs.shaded.com.google.inject.internal.ProviderMethod$Factory.provision(ProviderMethod.java:401)\n",
      "\tat com.amazon.ws.emr.hadoop.fs.shaded.com.google.inject.internal.ProviderMethod$Factory.get(ProviderMethod.java:376)\n",
      "\tat com.amazon.ws.emr.hadoop.fs.shaded.com.google.inject.internal.ProviderToInternalFactoryAdapter$1.call(ProviderToInternalFactoryAdapter.java:46)\n",
      "\tat com.amazon.ws.emr.hadoop.fs.shaded.com.google.inject.internal.InjectorImpl.callInContext(InjectorImpl.java:1092)\n",
      "\tat com.amazon.ws.emr.hadoop.fs.shaded.com.google.inject.internal.ProviderToInternalFactoryAdapter.get(ProviderToInternalFactoryAdapter.java:40)\n",
      "\tat com.amazon.ws.emr.hadoop.fs.shaded.com.google.inject.internal.SingletonScope$1.get(SingletonScope.java:194)\n",
      "\tat com.amazon.ws.emr.hadoop.fs.shaded.com.google.inject.internal.InternalFactoryToProviderAdapter.get(InternalFactoryToProviderAdapter.java:41)\n",
      "\tat com.amazon.ws.emr.hadoop.fs.shaded.com.google.inject.internal.SingleFieldInjector.inject(SingleFieldInjector.java:54)\n",
      "\tat com.amazon.ws.emr.hadoop.fs.shaded.com.google.inject.internal.MembersInjectorImpl.injectMembers(MembersInjectorImpl.java:132)\n",
      "\tat com.amazon.ws.emr.hadoop.fs.shaded.com.google.inject.internal.ConstructorInjector.provision(ConstructorInjector.java:120)\n",
      "\tat com.amazon.ws.emr.hadoop.fs.shaded.com.google.inject.internal.ConstructorInjector.construct(ConstructorInjector.java:90)\n",
      "\tat com.amazon.ws.emr.hadoop.fs.shaded.com.google.inject.internal.ConstructorBindingImpl$Factory.get(ConstructorBindingImpl.java:268)\n",
      "\tat com.amazon.ws.emr.hadoop.fs.shaded.com.google.inject.internal.FactoryProxy.get(FactoryProxy.java:56)\n",
      "\tat com.amazon.ws.emr.hadoop.fs.shaded.com.google.inject.internal.InjectorImpl$2$1.call(InjectorImpl.java:1019)\n",
      "\tat com.amazon.ws.emr.hadoop.fs.shaded.com.google.inject.internal.InjectorImpl.callInContext(InjectorImpl.java:1085)\n",
      "\tat com.amazon.ws.emr.hadoop.fs.shaded.com.google.inject.internal.InjectorImpl$2.get(InjectorImpl.java:1015)\n",
      "\tat com.amazon.ws.emr.hadoop.fs.shaded.com.google.inject.internal.InjectorImpl.getInstance(InjectorImpl.java:1050)\n",
      "\tat com.amazon.ws.emr.hadoop.fs.EmrFileSystem.initialize(EmrFileSystem.java:92)\n",
      "\tat org.apache.hadoop.fs.FileSystem.createFileSystem(FileSystem.java:3364)\n",
      "\tat org.apache.hadoop.fs.FileSystem.access$200(FileSystem.java:123)\n",
      "\tat org.apache.hadoop.fs.FileSystem$Cache.getInternal(FileSystem.java:3413)\n",
      "\tat org.apache.hadoop.fs.FileSystem$Cache.get(FileSystem.java:3381)\n",
      "\tat org.apache.hadoop.fs.FileSystem.get(FileSystem.java:486)\n",
      "\tat org.apache.hadoop.fs.Path.getFileSystem(Path.java:365)\n",
      "\tat org.apache.spark.sql.execution.streaming.FileStreamSink$.hasMetadata(FileStreamSink.scala:53)\n",
      "\tat org.apache.spark.sql.execution.datasources.DataSource.resolveRelation(DataSource.scala:370)\n",
      "\tat org.apache.spark.sql.DataFrameReader.loadV1Source(DataFrameReader.scala:274)\n",
      "\tat org.apache.spark.sql.DataFrameReader.$anonfun$load$3(DataFrameReader.scala:245)\n",
      "\tat scala.Option.getOrElse(Option.scala:189)\n",
      "\tat org.apache.spark.sql.DataFrameReader.load(DataFrameReader.scala:245)\n",
      "\tat org.apache.spark.sql.DataFrameReader.parquet(DataFrameReader.scala:596)\n",
      "\tat sun.reflect.NativeMethodAccessorImpl.invoke0(Native Method)\n",
      "\tat sun.reflect.NativeMethodAccessorImpl.invoke(NativeMethodAccessorImpl.java:62)\n",
      "\tat sun.reflect.DelegatingMethodAccessorImpl.invoke(DelegatingMethodAccessorImpl.java:43)\n",
      "\tat java.lang.reflect.Method.invoke(Method.java:498)\n",
      "\tat py4j.reflection.MethodInvoker.invoke(MethodInvoker.java:244)\n",
      "\tat py4j.reflection.ReflectionEngine.invoke(ReflectionEngine.java:357)\n",
      "\tat py4j.Gateway.invoke(Gateway.java:282)\n",
      "\tat py4j.commands.AbstractCommand.invokeMethod(AbstractCommand.java:132)\n",
      "\tat py4j.commands.CallCommand.execute(CallCommand.java:79)\n",
      "\tat py4j.ClientServerConnection.waitForCommands(ClientServerConnection.java:182)\n",
      "\tat py4j.ClientServerConnection.run(ClientServerConnection.java:106)\n",
      "\tat java.lang.Thread.run(Thread.java:750)\n",
      "22/06/18 01:51:09 WARN UseArnRegionResolver: Unable to load config file /home/hadoop/.aws/config\n",
      "java.lang.IllegalArgumentException: Invalid property format: no '=' character is found on line 1\n",
      "\tat com.amazon.ws.emr.hadoop.fs.shaded.com.amazonaws.auth.profile.internal.AbstractProfilesConfigFileScanner.parsePropertyLine(AbstractProfilesConfigFileScanner.java:162)\n",
      "\tat com.amazon.ws.emr.hadoop.fs.shaded.com.amazonaws.auth.profile.internal.AbstractProfilesConfigFileScanner.run(AbstractProfilesConfigFileScanner.java:119)\n",
      "\tat com.amazon.ws.emr.hadoop.fs.shaded.com.amazonaws.auth.profile.internal.BasicProfileConfigLoader$ProfilesConfigFileLoaderHelper.parseProfileProperties(BasicProfileConfigLoader.java:130)\n",
      "\tat com.amazon.ws.emr.hadoop.fs.shaded.com.amazonaws.auth.profile.internal.BasicProfileConfigLoader.loadProfiles(BasicProfileConfigLoader.java:83)\n",
      "\tat com.amazon.ws.emr.hadoop.fs.shaded.com.amazonaws.auth.profile.internal.BasicProfileConfigLoader.loadProfiles(BasicProfileConfigLoader.java:60)\n",
      "\tat com.amazon.ws.emr.hadoop.fs.shaded.com.amazonaws.auth.profile.ProfilesConfigFile.loadProfiles(ProfilesConfigFile.java:208)\n",
      "\tat com.amazon.ws.emr.hadoop.fs.shaded.com.amazonaws.auth.profile.ProfilesConfigFile.<init>(ProfilesConfigFile.java:145)\n",
      "\tat com.amazon.ws.emr.hadoop.fs.shaded.com.amazonaws.auth.profile.ProfilesConfigFile.<init>(ProfilesConfigFile.java:133)\n",
      "\tat com.amazon.ws.emr.hadoop.fs.shaded.com.amazonaws.services.s3.internal.UseArnRegionResolver.getProfilesConfigFile(UseArnRegionResolver.java:112)\n",
      "\tat com.amazon.ws.emr.hadoop.fs.shaded.com.amazonaws.services.s3.internal.UseArnRegionResolver.getProfile(UseArnRegionResolver.java:96)\n",
      "\tat com.amazon.ws.emr.hadoop.fs.shaded.com.amazonaws.services.s3.internal.UseArnRegionResolver.profile(UseArnRegionResolver.java:76)\n",
      "\tat com.amazon.ws.emr.hadoop.fs.shaded.com.amazonaws.services.s3.internal.UseArnRegionResolver.resolveUseArnRegion(UseArnRegionResolver.java:64)\n",
      "\tat com.amazon.ws.emr.hadoop.fs.shaded.com.amazonaws.services.s3.internal.UseArnRegionResolver.<init>(UseArnRegionResolver.java:53)\n",
      "\tat com.amazon.ws.emr.hadoop.fs.shaded.com.amazonaws.services.s3.internal.UseArnRegionResolver.<init>(UseArnRegionResolver.java:48)\n",
      "\tat com.amazon.ws.emr.hadoop.fs.shaded.com.amazonaws.services.s3.AmazonS3Client.<clinit>(AmazonS3Client.java:464)\n",
      "\tat com.amazon.ws.emr.hadoop.fs.shaded.com.amazonaws.services.s3.AmazonS3Builder$1.apply(AmazonS3Builder.java:35)\n",
      "\tat com.amazon.ws.emr.hadoop.fs.shaded.com.amazonaws.services.s3.AmazonS3Builder$1.apply(AmazonS3Builder.java:32)\n",
      "\tat com.amazon.ws.emr.hadoop.fs.shaded.com.amazonaws.services.s3.AmazonS3ClientBuilder.build(AmazonS3ClientBuilder.java:64)\n",
      "\tat com.amazon.ws.emr.hadoop.fs.shaded.com.amazonaws.services.s3.AmazonS3ClientBuilder.build(AmazonS3ClientBuilder.java:28)\n",
      "\tat com.amazon.ws.emr.hadoop.fs.shaded.com.amazonaws.client.builder.AwsSyncClientBuilder.build(AwsSyncClientBuilder.java:46)\n",
      "\tat com.amazon.ws.emr.hadoop.fs.s3.lite.factory.DefaultS3ClientFactory.newS3(DefaultS3ClientFactory.java:51)\n",
      "\tat com.amazon.ws.emr.hadoop.fs.s3.lite.factory.DefaultS3ClientFactory.newS3(DefaultS3ClientFactory.java:21)\n",
      "\tat com.amazon.ws.emr.hadoop.fs.s3.lite.provider.DefaultS3Provider$S3CacheLoader.load(DefaultS3Provider.java:93)\n",
      "\tat com.amazon.ws.emr.hadoop.fs.s3.lite.provider.DefaultS3Provider$S3CacheLoader.load(DefaultS3Provider.java:84)\n",
      "\tat com.amazon.ws.emr.hadoop.fs.shaded.com.google.common.cache.LocalCache$LoadingValueReference.loadFuture(LocalCache.java:3527)\n",
      "\tat com.amazon.ws.emr.hadoop.fs.shaded.com.google.common.cache.LocalCache$Segment.loadSync(LocalCache.java:2319)\n",
      "\tat com.amazon.ws.emr.hadoop.fs.shaded.com.google.common.cache.LocalCache$Segment.lockedGetOrLoad(LocalCache.java:2282)\n",
      "\tat com.amazon.ws.emr.hadoop.fs.shaded.com.google.common.cache.LocalCache$Segment.get(LocalCache.java:2197)\n",
      "\tat com.amazon.ws.emr.hadoop.fs.shaded.com.google.common.cache.LocalCache.get(LocalCache.java:3937)\n",
      "\tat com.amazon.ws.emr.hadoop.fs.shaded.com.google.common.cache.LocalCache.getOrLoad(LocalCache.java:3941)\n",
      "\tat com.amazon.ws.emr.hadoop.fs.shaded.com.google.common.cache.LocalCache$LocalLoadingCache.get(LocalCache.java:4824)\n",
      "\tat com.amazon.ws.emr.hadoop.fs.shaded.com.google.common.cache.LocalCache$LocalLoadingCache.getUnchecked(LocalCache.java:4830)\n",
      "\tat com.amazon.ws.emr.hadoop.fs.s3.lite.provider.DefaultS3Provider.getS3(DefaultS3Provider.java:69)\n",
      "\tat com.amazon.ws.emr.hadoop.fs.s3.lite.provider.DefaultS3Provider.getS3(DefaultS3Provider.java:24)\n",
      "\tat com.amazon.ws.emr.hadoop.fs.s3.lite.executor.GlobalS3Executor.getClient(GlobalS3Executor.java:208)\n",
      "\tat com.amazon.ws.emr.hadoop.fs.s3.lite.executor.GlobalS3Executor.execute(GlobalS3Executor.java:133)\n",
      "\tat com.amazon.ws.emr.hadoop.fs.s3.lite.AmazonS3LiteClient.invoke(AmazonS3LiteClient.java:191)\n",
      "\tat com.amazon.ws.emr.hadoop.fs.s3.lite.AmazonS3LiteClient.invoke(AmazonS3LiteClient.java:186)\n",
      "\tat com.amazon.ws.emr.hadoop.fs.s3.lite.AmazonS3LiteClient.getObjectMetadata(AmazonS3LiteClient.java:96)\n",
      "\tat com.amazon.ws.emr.hadoop.fs.s3.lite.AbstractAmazonS3Lite.getObjectMetadata(AbstractAmazonS3Lite.java:43)\n",
      "\tat com.amazon.ws.emr.hadoop.fs.s3n.Jets3tNativeFileSystemStore.getFileMetadataFromCacheOrS3(Jets3tNativeFileSystemStore.java:636)\n",
      "\tat com.amazon.ws.emr.hadoop.fs.s3n.Jets3tNativeFileSystemStore.retrieveMetadata(Jets3tNativeFileSystemStore.java:320)\n",
      "\tat com.amazon.ws.emr.hadoop.fs.s3n.S3NativeFileSystem.getFileStatus(S3NativeFileSystem.java:509)\n",
      "\tat org.apache.hadoop.fs.FileSystem.isDirectory(FileSystem.java:1707)\n",
      "\tat com.amazon.ws.emr.hadoop.fs.EmrFileSystem.isDirectory(EmrFileSystem.java:404)\n",
      "\tat org.apache.spark.sql.execution.streaming.FileStreamSink$.hasMetadata(FileStreamSink.scala:54)\n",
      "\tat org.apache.spark.sql.execution.datasources.DataSource.resolveRelation(DataSource.scala:370)\n",
      "\tat org.apache.spark.sql.DataFrameReader.loadV1Source(DataFrameReader.scala:274)\n",
      "\tat org.apache.spark.sql.DataFrameReader.$anonfun$load$3(DataFrameReader.scala:245)\n",
      "\tat scala.Option.getOrElse(Option.scala:189)\n",
      "\tat org.apache.spark.sql.DataFrameReader.load(DataFrameReader.scala:245)\n",
      "\tat org.apache.spark.sql.DataFrameReader.parquet(DataFrameReader.scala:596)\n",
      "\tat sun.reflect.NativeMethodAccessorImpl.invoke0(Native Method)\n",
      "\tat sun.reflect.NativeMethodAccessorImpl.invoke(NativeMethodAccessorImpl.java:62)\n",
      "\tat sun.reflect.DelegatingMethodAccessorImpl.invoke(DelegatingMethodAccessorImpl.java:43)\n",
      "\tat java.lang.reflect.Method.invoke(Method.java:498)\n",
      "\tat py4j.reflection.MethodInvoker.invoke(MethodInvoker.java:244)\n",
      "\tat py4j.reflection.ReflectionEngine.invoke(ReflectionEngine.java:357)\n",
      "\tat py4j.Gateway.invoke(Gateway.java:282)\n",
      "\tat py4j.commands.AbstractCommand.invokeMethod(AbstractCommand.java:132)\n",
      "\tat py4j.commands.CallCommand.execute(CallCommand.java:79)\n",
      "\tat py4j.ClientServerConnection.waitForCommands(ClientServerConnection.java:182)\n",
      "\tat py4j.ClientServerConnection.run(ClientServerConnection.java:106)\n",
      "\tat java.lang.Thread.run(Thread.java:750)\n"
     ]
    },
    {
     "name": "stderr",
     "output_type": "stream",
     "text": [
      "[Stage 23:>                                                         (0 + 1) / 1]\r"
     ]
    },
    {
     "name": "stdout",
     "output_type": "stream",
     "text": [
      "tempo dataset loaded\n"
     ]
    },
    {
     "name": "stderr",
     "output_type": "stream",
     "text": [
      "\r",
      "                                                                                \r"
     ]
    }
   ],
   "source": [
    "dataset_id = \"tempo_conus_2022\" # <----\n",
    "project.load_dataset(dataset_id)\n",
    "tempo = project.get_dataset(dataset_id)\n",
    "print(\"tempo dataset loaded\")"
   ]
  },
  {
   "cell_type": "code",
   "execution_count": 15,
   "id": "fbce31e1",
   "metadata": {
    "ExecuteTime": {
     "end_time": "2022-06-18T01:51:13.126258Z",
     "start_time": "2022-06-18T01:51:13.123686Z"
    }
   },
   "outputs": [],
   "source": [
    "### TO BE DELETED ###\n",
    "tempo_load_data_lookup = tempo.load_data_lookup\n",
    "tempo_load_data = tempo.load_data\n",
    "\n",
    "# file = \"/scratch/dthom/tempo_load_data3.parquet\" # <---\n",
    "# tempo_load_data = spark.read.parquet(file)"
   ]
  },
  {
   "cell_type": "code",
   "execution_count": 16,
   "id": "9211fdc6",
   "metadata": {
    "ExecuteTime": {
     "end_time": "2022-06-18T01:51:13.697017Z",
     "start_time": "2022-06-18T01:51:13.128635Z"
    }
   },
   "outputs": [],
   "source": [
    "tempo_mapped_load_data_lookup = tempo._handler._remap_dimension_columns(tempo_load_data_lookup)\n",
    "tempo_mapped_load_data = tempo._handler._remap_dimension_columns(tempo_load_data)"
   ]
  },
  {
   "cell_type": "code",
   "execution_count": 17,
   "id": "8037d63a",
   "metadata": {
    "ExecuteTime": {
     "end_time": "2022-06-18T01:51:13.701676Z",
     "start_time": "2022-06-18T01:51:13.699034Z"
    }
   },
   "outputs": [],
   "source": [
    "del tempo_load_data_lookup\n",
    "del tempo_load_data"
   ]
  },
  {
   "cell_type": "markdown",
   "id": "2719ca95",
   "metadata": {},
   "source": [
    "## 4. Queries\n",
    "### Query util functions"
   ]
  },
  {
   "cell_type": "markdown",
   "id": "3a58e461",
   "metadata": {},
   "source": [
    "### 4.1. Hourly electricity consumption by *scenario, model_year, and ReEDS PCA*"
   ]
  },
  {
   "cell_type": "code",
   "execution_count": 18,
   "id": "95324872",
   "metadata": {
    "ExecuteTime": {
     "end_time": "2022-06-18T01:51:14.175522Z",
     "start_time": "2022-06-18T01:51:13.703388Z"
    }
   },
   "outputs": [
    {
     "data": {
      "text/plain": [
       "['district_cooling_cooling',\n",
       " 'electricity_cooling',\n",
       " 'electricity_exterior_lighting',\n",
       " 'electricity_fans',\n",
       " 'electricity_heat_recovery',\n",
       " 'electricity_heat_rejection',\n",
       " 'electricity_heating',\n",
       " 'electricity_interior_equipment',\n",
       " 'electricity_interior_lighting',\n",
       " 'electricity_pumps',\n",
       " 'electricity_refrigeration',\n",
       " 'electricity_water_systems',\n",
       " 'electricity_bath_fan',\n",
       " 'electricity_ceiling_fan',\n",
       " 'electricity_clothes_dryer',\n",
       " 'electricity_clothes_washer',\n",
       " 'electricity_cooking_range',\n",
       " 'electricity_dishwasher',\n",
       " 'electricity_exterior_holiday_lighting',\n",
       " 'electricity_extra_refrigerator',\n",
       " 'electricity_fans_cooling',\n",
       " 'electricity_fans_heating',\n",
       " 'electricity_freezer',\n",
       " 'electricity_garage_lighting',\n",
       " 'electricity_heating_supplemental',\n",
       " 'electricity_hot_tub_heater',\n",
       " 'electricity_hot_tub_pump',\n",
       " 'electricity_house_fan',\n",
       " 'electricity_plug_loads',\n",
       " 'electricity_pool_heater',\n",
       " 'electricity_pool_pump',\n",
       " 'electricity_pumps_cooling',\n",
       " 'electricity_pumps_heating',\n",
       " 'electricity_range_fan',\n",
       " 'electricity_recirc_pump',\n",
       " 'electricity_refrigerator',\n",
       " 'electricity_well_pump',\n",
       " 'electricity_ev_l1l2',\n",
       " 'electricity_ev_dcfc']"
      ]
     },
     "execution_count": 18,
     "metadata": {},
     "output_type": "execute_result"
    }
   ],
   "source": [
    "### all_enduses-totelectric_enduses map\n",
    "\n",
    "dim_map_id = \"conus-2022-detailed-end-uses-kwh__all-electric-end-uses__c4149547-1209-4ce3-bb4c-3ab292067e8a\" # <---\n",
    "electric_enduses_map = dim_map_mgr.get_by_id(dim_map_id).get_records_dataframe()\n",
    "\n",
    "### get all project electric end uses\n",
    "electric_enduses = electric_enduses_map.filter(\"to_id is not NULL\").select(\"from_id\").toPandas()[\"from_id\"].to_list()\n",
    "electric_enduses"
   ]
  },
  {
   "cell_type": "code",
   "execution_count": 19,
   "id": "fc6700c0",
   "metadata": {
    "ExecuteTime": {
     "end_time": "2022-06-18T01:51:14.483047Z",
     "start_time": "2022-06-18T01:51:14.177069Z"
    }
   },
   "outputs": [
    {
     "name": "stdout",
     "output_type": "stream",
     "text": [
      "+-------+-----+-------------+\n",
      "|from_id|to_id|from_fraction|\n",
      "+-------+-----+-------------+\n",
      "|  01001|  p90|          1.0|\n",
      "|  01003|  p90|          1.0|\n",
      "|  01005|  p90|          1.0|\n",
      "|  01007|  p89|          1.0|\n",
      "|  01009|  p90|          1.0|\n",
      "|  01011|  p90|          1.0|\n",
      "|  01013|  p90|          1.0|\n",
      "|  01015|  p90|          1.0|\n",
      "|  01017|  p90|          1.0|\n",
      "|  01019|  p90|          1.0|\n",
      "|  01021|  p90|          1.0|\n",
      "|  01023|  p89|          1.0|\n",
      "|  01025|  p90|          1.0|\n",
      "|  01027|  p90|          1.0|\n",
      "|  01029|  p90|          1.0|\n",
      "|  01031|  p90|          1.0|\n",
      "|  01033|  p89|          1.0|\n",
      "|  01035|  p90|          1.0|\n",
      "|  01037|  p90|          1.0|\n",
      "|  01039|  p90|          1.0|\n",
      "+-------+-----+-------------+\n",
      "only showing top 20 rows\n",
      "\n"
     ]
    }
   ],
   "source": [
    "### county-to-PCA map\n",
    "dim_map_id = \"us_counties_2020_l48__reeds_pca__fcc554e1-87c9-483f-89e3-a0df9563cf89\" # <---\n",
    "county_to_pca_map = dim_map_mgr.get_by_id(dim_map_id).get_records_dataframe()\n",
    "county_to_pca_map.show()\n"
   ]
  },
  {
   "cell_type": "markdown",
   "id": "16a76b85",
   "metadata": {},
   "source": [
    "### 4.1.3. TEMPO\n",
    "query TEMPO data here"
   ]
  },
  {
   "cell_type": "code",
   "execution_count": 20,
   "id": "c590dc5e",
   "metadata": {
    "ExecuteTime": {
     "end_time": "2022-06-18T01:51:15.726162Z",
     "start_time": "2022-06-18T01:51:14.485411Z"
    }
   },
   "outputs": [
    {
     "name": "stdout",
     "output_type": "stream",
     "text": [
      "+-------+-----------------+-------------+\n",
      "|from_id|            to_id|from_fraction|\n",
      "+-------+-----------------+-------------+\n",
      "|  01001|CentralPrevailing|            1|\n",
      "|  01003|CentralPrevailing|            1|\n",
      "|  01005|CentralPrevailing|            1|\n",
      "|  01007|CentralPrevailing|            1|\n",
      "|  01009|CentralPrevailing|            1|\n",
      "|  01011|CentralPrevailing|            1|\n",
      "|  01013|CentralPrevailing|            1|\n",
      "|  01015|CentralPrevailing|            1|\n",
      "|  01017|CentralPrevailing|            1|\n",
      "|  01019|CentralPrevailing|            1|\n",
      "|  01021|CentralPrevailing|            1|\n",
      "|  01023|CentralPrevailing|            1|\n",
      "|  01025|CentralPrevailing|            1|\n",
      "|  01027|CentralPrevailing|            1|\n",
      "|  01029|CentralPrevailing|            1|\n",
      "|  01031|CentralPrevailing|            1|\n",
      "|  01033|CentralPrevailing|            1|\n",
      "|  01035|CentralPrevailing|            1|\n",
      "|  01037|CentralPrevailing|            1|\n",
      "|  01039|CentralPrevailing|            1|\n",
      "+-------+-----------------+-------------+\n",
      "only showing top 20 rows\n",
      "\n"
     ]
    }
   ],
   "source": [
    "## Load timezone map (not registered)\n",
    "timezone_file = \"s3://nrel-dsgrid-int-scratch/scratch-lliu2/county_fip_to_local_prevailing_time.csv\" # \"/scratch/lliu2/project_county_timezone/county_fip_to_local_prevailing_time.csv\"\n",
    "tz_map = spark.read.csv(timezone_file, header=True)\n",
    "tz_map = tz_map.withColumn(\"from_fraction\", F.lit(1))\n",
    "tz_map.show()"
   ]
  },
  {
   "cell_type": "code",
   "execution_count": 21,
   "id": "87a88b0c",
   "metadata": {
    "ExecuteTime": {
     "end_time": "2022-06-18T01:51:15.733246Z",
     "start_time": "2022-06-18T01:51:15.728420Z"
    }
   },
   "outputs": [
    {
     "data": {
      "text/plain": [
       "['electricity_ev_dcfc', 'electricity_ev_l1l2']"
      ]
     },
     "execution_count": 21,
     "metadata": {},
     "output_type": "execute_result"
    }
   ],
   "source": [
    "### get electric end uses for transportation\n",
    "tra_elec_enduses = [col for col in tempo_mapped_load_data.columns if col in electric_enduses]\n",
    "tra_elec_enduses"
   ]
  },
  {
   "cell_type": "code",
   "execution_count": 22,
   "id": "4970e36b",
   "metadata": {
    "ExecuteTime": {
     "end_time": "2022-06-18T01:51:15.737460Z",
     "start_time": "2022-06-18T01:51:15.735225Z"
    }
   },
   "outputs": [],
   "source": [
    "### TO BE DELETED\n",
    "# tempo_mapped_load_data_lookup = tempo_mapped_load_data_lookup.filter(\"id in ('1621180393', '770011011', '1058530452')\")\n",
    "# tempo_mapped_load_data = tempo_mapped_load_data.filter(\"id in ('1621180393', '770011011', '1058530452')\")"
   ]
  },
  {
   "cell_type": "code",
   "execution_count": 23,
   "id": "54adf133",
   "metadata": {
    "ExecuteTime": {
     "end_time": "2022-06-18T01:51:15.762916Z",
     "start_time": "2022-06-18T01:51:15.739144Z"
    }
   },
   "outputs": [
    {
     "name": "stdout",
     "output_type": "stream",
     "text": [
      "CPU times: user 3.15 ms, sys: 401 µs, total: 3.55 ms\n",
      "Wall time: 19.9 ms\n"
     ]
    }
   ],
   "source": [
    "%%time\n",
    "## 0. consolidate load_data: get total hourly electricity consumption by id\n",
    "# make get_time_cols accessible at dataset level\n",
    "tra_elec_kwh = tempo_mapped_load_data.select(\n",
    "    \"id\",\n",
    "    \"day_of_week\",\n",
    "    \"hour\",\n",
    "    \"month\",\n",
    "    sum([F.col(col) for col in tra_elec_enduses]).alias(\"electricity\")\n",
    ")\n",
    "# tra_elec_kwh.show()"
   ]
  },
  {
   "cell_type": "code",
   "execution_count": 24,
   "id": "14e42de4",
   "metadata": {
    "ExecuteTime": {
     "end_time": "2022-06-18T01:51:15.831343Z",
     "start_time": "2022-06-18T01:51:15.765116Z"
    }
   },
   "outputs": [
    {
     "name": "stdout",
     "output_type": "stream",
     "text": [
      "CPU times: user 0 ns, sys: 7.13 ms, total: 7.13 ms\n",
      "Wall time: 60.9 ms\n"
     ]
    }
   ],
   "source": [
    "%%time\n",
    "## 1. map load_data_lookup to timezone\n",
    "load_data_lookup = tempo_mapped_load_data_lookup.filter(\"id is not NULL\")\\\n",
    ".select(\"sector\", \"scenario\", \"model_year\", \"geography\", \"id\", \"fraction\").join(\n",
    "    tz_map,\n",
    "    on = F.col(\"geography\")==tz_map.from_id,\n",
    "    how = \"left\",\n",
    ").drop(\"from_id\").withColumnRenamed(\"to_id\", \"timezone\")\n",
    "\n",
    "## combine fraction\n",
    "nonfraction_cols = [x for x in load_data_lookup.columns if x not in {\"fraction\", \"from_fraction\"}]\n",
    "load_data_lookup = load_data_lookup.fillna(1, subset=[\"from_fraction\"]).selectExpr(\n",
    "    *nonfraction_cols, \"fraction*from_fraction AS fraction\"\n",
    ")\n",
    "# load_data_lookup.show()"
   ]
  },
  {
   "cell_type": "code",
   "execution_count": 25,
   "id": "b1edc12e",
   "metadata": {
    "ExecuteTime": {
     "end_time": "2022-06-18T01:51:15.897261Z",
     "start_time": "2022-06-18T01:51:15.833472Z"
    }
   },
   "outputs": [
    {
     "name": "stdout",
     "output_type": "stream",
     "text": [
      "CPU times: user 6.1 ms, sys: 0 ns, total: 6.1 ms\n",
      "Wall time: 58.9 ms\n"
     ]
    }
   ],
   "source": [
    "%%time\n",
    "## 2. join load_data and lookup\n",
    "tra_elec_kwh = load_data_lookup.join(\n",
    "    tra_elec_kwh,\n",
    "    on=\"id\",\n",
    "    how=\"left\",\n",
    ").drop(\"id\")\n",
    "\n",
    "tra_elec_kwh = tra_elec_kwh.groupBy(\n",
    "    \"sector\",\n",
    "    \"scenario\", \n",
    "    \"geography\",\n",
    "    \"model_year\",\n",
    "    \"timezone\",\n",
    "    \"day_of_week\",\n",
    "    \"month\",\n",
    "    \"hour\",\n",
    ").agg(F.sum(\n",
    "    F.col(\"fraction\")*F.col(\"electricity\")\n",
    ").alias(\"electricity\")\n",
    "    )\n",
    "\n",
    "## cache df\n",
    "# tra_elec_kwh = tra_elec_kwh.cache()\n",
    "# tra_elec_kwh.show()"
   ]
  },
  {
   "cell_type": "code",
   "execution_count": 26,
   "id": "3b9756a8",
   "metadata": {
    "ExecuteTime": {
     "end_time": "2022-06-18T01:51:17.848803Z",
     "start_time": "2022-06-18T01:51:15.899510Z"
    }
   },
   "outputs": [
    {
     "name": "stdout",
     "output_type": "stream",
     "text": [
      "                 timestamp           timezone day_of_week month hour\n",
      "0      2012-01-01 00:00:00  EasternPrevailing           6     1    0\n",
      "1      2012-01-01 01:00:00  EasternPrevailing           6     1    1\n",
      "2      2012-01-01 02:00:00  EasternPrevailing           6     1    2\n",
      "3      2012-01-01 03:00:00  EasternPrevailing           6     1    3\n",
      "4      2012-01-01 04:00:00  EasternPrevailing           6     1    4\n",
      "...                    ...                ...         ...   ...  ...\n",
      "35131  2012-12-31 22:00:00  PacificPrevailing           0    12   19\n",
      "35132  2012-12-31 23:00:00  PacificPrevailing           0    12   20\n",
      "35133  2012-01-01 00:00:00  PacificPrevailing           0    12   21\n",
      "35134  2012-01-01 01:00:00  PacificPrevailing           0    12   22\n",
      "35135  2012-01-01 02:00:00  PacificPrevailing           0    12   23\n",
      "\n",
      "[35136 rows x 5 columns]\n",
      "root\n",
      " |-- timestamp: timestamp (nullable = true)\n",
      " |-- timezone: string (nullable = false)\n",
      " |-- day_of_week: string (nullable = false)\n",
      " |-- month: string (nullable = false)\n",
      " |-- hour: string (nullable = false)\n",
      "\n",
      "None\n",
      "35136\n",
      "+-------------------+-----------------+-----------+-----+----+\n",
      "|          timestamp|         timezone|day_of_week|month|hour|\n",
      "+-------------------+-----------------+-----------+-----+----+\n",
      "|2012-01-01 00:00:00|EasternPrevailing|          6|    1|   0|\n",
      "|2012-01-01 01:00:00|EasternPrevailing|          6|    1|   1|\n",
      "|2012-01-01 02:00:00|EasternPrevailing|          6|    1|   2|\n",
      "|2012-01-01 03:00:00|EasternPrevailing|          6|    1|   3|\n",
      "|2012-01-01 04:00:00|EasternPrevailing|          6|    1|   4|\n",
      "|2012-01-01 05:00:00|EasternPrevailing|          6|    1|   5|\n",
      "|2012-01-01 06:00:00|EasternPrevailing|          6|    1|   6|\n",
      "|2012-01-01 07:00:00|EasternPrevailing|          6|    1|   7|\n",
      "|2012-01-01 08:00:00|EasternPrevailing|          6|    1|   8|\n",
      "|2012-01-01 09:00:00|EasternPrevailing|          6|    1|   9|\n",
      "|2012-01-01 10:00:00|EasternPrevailing|          6|    1|  10|\n",
      "|2012-01-01 11:00:00|EasternPrevailing|          6|    1|  11|\n",
      "|2012-01-01 12:00:00|EasternPrevailing|          6|    1|  12|\n",
      "|2012-01-01 13:00:00|EasternPrevailing|          6|    1|  13|\n",
      "|2012-01-01 14:00:00|EasternPrevailing|          6|    1|  14|\n",
      "|2012-01-01 15:00:00|EasternPrevailing|          6|    1|  15|\n",
      "|2012-01-01 16:00:00|EasternPrevailing|          6|    1|  16|\n",
      "|2012-01-01 17:00:00|EasternPrevailing|          6|    1|  17|\n",
      "|2012-01-01 18:00:00|EasternPrevailing|          6|    1|  18|\n",
      "|2012-01-01 19:00:00|EasternPrevailing|          6|    1|  19|\n",
      "+-------------------+-----------------+-----------+-----+----+\n",
      "only showing top 20 rows\n",
      "\n",
      "CPU times: user 1.25 s, sys: 43.5 ms, total: 1.3 s\n",
      "Wall time: 1.94 s\n"
     ]
    }
   ],
   "source": [
    "%%time\n",
    "year = 2012 # <--- weather year\n",
    "sys_tz = TimeZone.EST.tz\n",
    "timezones_local = [TimeZone.EPT, TimeZone.CPT, TimeZone.MPT, TimeZone.PPT]\n",
    "\n",
    "## 3. create range of model_year\n",
    "model_time_pd = []\n",
    "for tz in timezones_local:\n",
    "    model_time_df = pd.DataFrame()\n",
    "    # create time range in local time\n",
    "    model_time_df[\"timestamp\"] = pd.date_range(\n",
    "        start=datetime(year=int(year), month=1, day=1, hour=0),\n",
    "        end=datetime(year=int(year), month=12, day=31, hour=23),\n",
    "        tz=tz.tz,\n",
    "        freq=\"H\")\n",
    "    model_time_df[\"timezone\"] = tz.value\n",
    "    model_time_df[\"day_of_week\"] = model_time_df[\"timestamp\"].dt.day_of_week.astype(str)\n",
    "    model_time_df[\"month\"] = model_time_df[\"timestamp\"].dt.month.astype(str)\n",
    "    model_time_df[\"hour\"] = model_time_df[\"timestamp\"].dt.hour.astype(str)\n",
    "    \n",
    "    # convert to main timezone\n",
    "    model_time_df[\"timestamp\"] = model_time_df[\"timestamp\"].dt.tz_convert(sys_tz)\n",
    "    # wrap time to year\n",
    "    model_time_df[\"timestamp\"] = model_time_df[\"timestamp\"].apply(lambda x: x.replace(year=year))\n",
    "    \n",
    "    model_time_pd.append(model_time_df)\n",
    "    \n",
    "model_time_pd = pd.concat(model_time_pd, axis=0, ignore_index=True)\n",
    "model_time_pd[\"timestamp\"] = model_time_pd[\"timestamp\"].dt.tz_localize(None).astype(str) # conver timestamp to str, this is important!\n",
    "print(model_time_pd)\n",
    "\n",
    "# convert to spark df\n",
    "schema = sparktypes.StructType([\n",
    "    sparktypes.StructField(\"timestamp\", sparktypes.StringType(), False), \\\n",
    "    sparktypes.StructField(\"timezone\", sparktypes.StringType(), False), \\\n",
    "    sparktypes.StructField(\"day_of_week\", sparktypes.StringType(), False), \\\n",
    "    sparktypes.StructField(\"month\", sparktypes.StringType(), False), \\\n",
    "    sparktypes.StructField(\"hour\", sparktypes.StringType(), False), \\\n",
    "])\n",
    "model_time =spark.createDataFrame(model_time_pd, schema=schema)\n",
    "\n",
    "## covert timestamp from str to timestamp\n",
    "model_time = model_time.withColumn(\"timestamp\", F.from_unixtime(\n",
    "    F.unix_timestamp(\n",
    "        F.col(\"timestamp\"), \"yyyy-MM-dd HH:mm:ss\"\n",
    "    ), \"yyyy-MM-dd HH:mm:ss\"\n",
    "))\n",
    "model_time = model_time.withColumn(\"timestamp\", F.to_timestamp(\"timestamp\"))\n",
    "model_time = model_time.cache()\n",
    "\n",
    "print(model_time.printSchema())\n",
    "print(model_time.count())\n",
    "model_time.show()"
   ]
  },
  {
   "cell_type": "code",
   "execution_count": 27,
   "id": "554bc22f",
   "metadata": {
    "ExecuteTime": {
     "end_time": "2022-06-18T01:51:17.875693Z",
     "start_time": "2022-06-18T01:51:17.851121Z"
    }
   },
   "outputs": [
    {
     "name": "stdout",
     "output_type": "stream",
     "text": [
      "CPU times: user 25 µs, sys: 3.57 ms, total: 3.59 ms\n",
      "Wall time: 20.6 ms\n"
     ]
    }
   ],
   "source": [
    "%%time\n",
    "## 4. expand to model_years\n",
    "tra_elec_kwh = model_time.join(\n",
    "    tra_elec_kwh,\n",
    "    on=[\"timezone\", \"day_of_week\", \"month\", \"hour\"], \n",
    "    how=\"right\"\n",
    ").drop(\"day_of_week\", \"month\", \"hour\")\n",
    "\n",
    "## cache df\n",
    "# tra_elec_kwh = tra_elec_kwh.cache()\n",
    "# tra_elec_kwh.show()"
   ]
  },
  {
   "cell_type": "code",
   "execution_count": 28,
   "id": "734e3970",
   "metadata": {
    "ExecuteTime": {
     "end_time": "2022-06-18T01:51:17.915745Z",
     "start_time": "2022-06-18T01:51:17.878004Z"
    }
   },
   "outputs": [
    {
     "name": "stdout",
     "output_type": "stream",
     "text": [
      "CPU times: user 4.04 ms, sys: 329 µs, total: 4.37 ms\n",
      "Wall time: 33.1 ms\n"
     ]
    }
   ],
   "source": [
    "%%time\n",
    "# 5. map load_data_lookup to PCA\n",
    "tra_elec_kwh = tra_elec_kwh.join(\n",
    "    county_to_pca_map,\n",
    "    on = F.col(\"geography\")==county_to_pca_map.from_id,\n",
    "    how = \"left\").drop(\"from_id\").drop(\"geography\").withColumnRenamed(\"to_id\", \"geography\").groupBy(\n",
    "    \"sector\",\n",
    "    \"scenario\", \n",
    "    \"geography\",\n",
    "    \"model_year\",\n",
    "    \"timestamp\"\n",
    ").agg(F.sum(\"electricity\").alias(\"electricity\"))\n",
    "\n",
    "# tra_elec_kwh.show()"
   ]
  },
  {
   "cell_type": "code",
   "execution_count": 29,
   "id": "13233566",
   "metadata": {
    "ExecuteTime": {
     "end_time": "2022-06-18T03:28:13.295454Z",
     "start_time": "2022-06-18T01:51:17.917568Z"
    }
   },
   "outputs": [
    {
     "name": "stderr",
     "output_type": "stream",
     "text": [
      "                                                                                \r"
     ]
    },
    {
     "name": "stdout",
     "output_type": "stream",
     "text": [
      "tra_elec_kwh saved\n",
      "CPU times: user 2.28 s, sys: 529 ms, total: 2.81 s\n",
      "Wall time: 1h 36min 55s\n"
     ]
    }
   ],
   "source": [
    "%%time\n",
    "### 6. save as partitions\n",
    "tra_output_file = \"s3://nrel-dsgrid-int-scratch/scratch-lliu2/tempo_projections.parquet\" #Path(f\"/scratch/{getpass.getuser()}/tempo_projections.parquet\")\n",
    "\n",
    "# # refresh file dir\n",
    "if Path(tra_output_file).exists():\n",
    "    shutil.rmtree(tra_output_file)\n",
    "\n",
    "if Path(tra_output_file).exists():\n",
    "    raise ValueError(f\"file: {tra_output_file} already exist. `shutile.rmtree(tra_output_file)` to override.\")\n",
    "\n",
    "tra_elec_kwh.sort(\"scenario\", \"model_year\", \"geography\", \"timestamp\")\\\n",
    "    .repartition(\"scenario\", \"model_year\").write\\\n",
    "    .partitionBy(\"scenario\", \"model_year\")\\\n",
    "    .option(\"path\", tra_output_file)\\\n",
    "    .saveAsTable(\"tra_elec_kwh\", format='parquet')\n",
    "\n",
    "print(\"tra_elec_kwh saved\")"
   ]
  },
  {
   "cell_type": "code",
   "execution_count": 30,
   "id": "853ffc6d",
   "metadata": {
    "ExecuteTime": {
     "end_time": "2022-06-18T03:28:13.301224Z",
     "start_time": "2022-06-18T03:28:13.297395Z"
    }
   },
   "outputs": [],
   "source": [
    "# %%time\n",
    "# ########## load transportation projection data ###########\n",
    "# tra_output_file = \"s3://nrel-dsgrid-int-scratch/scratch-lliu2/tempo_projections.parquet\" #Path(f\"/scratch/{getpass.getuser()}/tempo_projections.parquet\")\n",
    "\n",
    "# if Path(tra_output_file).exists():\n",
    "#     tra_elec_kwh = read_dataframe(tra_output_file)\n",
    "#     print(\"tra_elec_kwh loaded\")\n",
    "# else:\n",
    "#     print(f\"tra_output_file={tra_output_file} does not exist\")"
   ]
  },
  {
   "cell_type": "code",
   "execution_count": 32,
   "id": "28f6277a",
   "metadata": {
    "ExecuteTime": {
     "end_time": "2022-06-18T05:24:12.421483Z",
     "start_time": "2022-06-18T04:03:24.836808Z"
    }
   },
   "outputs": [
    {
     "name": "stderr",
     "output_type": "stream",
     "text": [
      "22/06/18 04:04:09 WARN TaskSetManager: Lost task 86.0 in stage 109.0 (TID 6830) (ip-172-18-27-14.us-west-2.compute.internal executor 1): org.apache.spark.memory.SparkOutOfMemoryError: Unable to acquire 32768 bytes of memory, got 0\n",
      "\tat org.apache.spark.memory.MemoryConsumer.throwOom(MemoryConsumer.java:158)\n",
      "\tat org.apache.spark.memory.MemoryConsumer.allocateArray(MemoryConsumer.java:97)\n",
      "\tat org.apache.spark.shuffle.sort.ShuffleInMemorySorter.reset(ShuffleInMemorySorter.java:109)\n",
      "\tat org.apache.spark.shuffle.sort.ShuffleExternalSorter.spill(ShuffleExternalSorter.java:318)\n",
      "\tat org.apache.spark.memory.TaskMemoryManager.acquireExecutionMemory(TaskMemoryManager.java:213)\n",
      "\tat org.apache.spark.memory.TaskMemoryManager.allocatePage(TaskMemoryManager.java:297)\n",
      "\tat org.apache.spark.memory.MemoryConsumer.allocateArray(MemoryConsumer.java:95)\n",
      "\tat org.apache.spark.shuffle.sort.ShuffleExternalSorter.growPointerArrayIfNecessary(ShuffleExternalSorter.java:390)\n",
      "\tat org.apache.spark.shuffle.sort.ShuffleExternalSorter.insertRecord(ShuffleExternalSorter.java:445)\n",
      "\tat org.apache.spark.shuffle.sort.ShuffleExternalSorter.appendSerializedRecord(ShuffleExternalSorter.java:481)\n",
      "\tat org.apache.spark.sql.execution.UnsafeRowSerializedRecordAppender.process(UnsafeRowSerializedRecordAppender.scala:40)\n",
      "\tat org.apache.spark.shuffle.sort.UnsafeShuffleWriter.insertRecordIntoSorter(UnsafeShuffleWriter.java:242)\n",
      "\tat org.apache.spark.shuffle.sort.UnsafeShuffleWriter.write(UnsafeShuffleWriter.java:184)\n",
      "\tat org.apache.spark.shuffle.ShuffleWriteProcessor.write(ShuffleWriteProcessor.scala:59)\n",
      "\tat org.apache.spark.scheduler.ShuffleMapTask.runTask(ShuffleMapTask.scala:99)\n",
      "\tat org.apache.spark.scheduler.ShuffleMapTask.runTask(ShuffleMapTask.scala:52)\n",
      "\tat org.apache.spark.scheduler.Task.run(Task.scala:133)\n",
      "\tat org.apache.spark.executor.Executor$TaskRunner.$anonfun$run$3(Executor.scala:506)\n",
      "\tat org.apache.spark.util.Utils$.tryWithSafeFinally(Utils.scala:1474)\n",
      "\tat org.apache.spark.executor.Executor$TaskRunner.run(Executor.scala:509)\n",
      "\tat java.util.concurrent.ThreadPoolExecutor.runWorker(ThreadPoolExecutor.java:1149)\n",
      "\tat java.util.concurrent.ThreadPoolExecutor$Worker.run(ThreadPoolExecutor.java:624)\n",
      "\tat java.lang.Thread.run(Thread.java:750)\n",
      "\n",
      "                                                                                \r"
     ]
    },
    {
     "data": {
      "text/html": [
       "<div>\n",
       "<style scoped>\n",
       "    .dataframe tbody tr th:only-of-type {\n",
       "        vertical-align: middle;\n",
       "    }\n",
       "\n",
       "    .dataframe tbody tr th {\n",
       "        vertical-align: top;\n",
       "    }\n",
       "\n",
       "    .dataframe thead th {\n",
       "        text-align: right;\n",
       "    }\n",
       "</style>\n",
       "<table border=\"1\" class=\"dataframe\">\n",
       "  <thead>\n",
       "    <tr style=\"text-align: right;\">\n",
       "      <th></th>\n",
       "      <th>timestamp</th>\n",
       "      <th>count</th>\n",
       "    </tr>\n",
       "  </thead>\n",
       "  <tbody>\n",
       "    <tr>\n",
       "      <th>0</th>\n",
       "      <td>2012-01-01 00:00:00</td>\n",
       "      <td>16340</td>\n",
       "    </tr>\n",
       "    <tr>\n",
       "      <th>1</th>\n",
       "      <td>2012-01-01 01:00:00</td>\n",
       "      <td>16340</td>\n",
       "    </tr>\n",
       "    <tr>\n",
       "      <th>2</th>\n",
       "      <td>2012-01-01 02:00:00</td>\n",
       "      <td>16340</td>\n",
       "    </tr>\n",
       "    <tr>\n",
       "      <th>3</th>\n",
       "      <td>2012-01-01 03:00:00</td>\n",
       "      <td>16340</td>\n",
       "    </tr>\n",
       "    <tr>\n",
       "      <th>4</th>\n",
       "      <td>2012-01-01 04:00:00</td>\n",
       "      <td>16340</td>\n",
       "    </tr>\n",
       "    <tr>\n",
       "      <th>...</th>\n",
       "      <td>...</td>\n",
       "      <td>...</td>\n",
       "    </tr>\n",
       "    <tr>\n",
       "      <th>8779</th>\n",
       "      <td>2012-12-31 19:00:00</td>\n",
       "      <td>16340</td>\n",
       "    </tr>\n",
       "    <tr>\n",
       "      <th>8780</th>\n",
       "      <td>2012-12-31 20:00:00</td>\n",
       "      <td>16340</td>\n",
       "    </tr>\n",
       "    <tr>\n",
       "      <th>8781</th>\n",
       "      <td>2012-12-31 21:00:00</td>\n",
       "      <td>16340</td>\n",
       "    </tr>\n",
       "    <tr>\n",
       "      <th>8782</th>\n",
       "      <td>2012-12-31 22:00:00</td>\n",
       "      <td>16340</td>\n",
       "    </tr>\n",
       "    <tr>\n",
       "      <th>8783</th>\n",
       "      <td>2012-12-31 23:00:00</td>\n",
       "      <td>16340</td>\n",
       "    </tr>\n",
       "  </tbody>\n",
       "</table>\n",
       "<p>8784 rows × 2 columns</p>\n",
       "</div>"
      ],
      "text/plain": [
       "               timestamp  count\n",
       "0    2012-01-01 00:00:00  16340\n",
       "1    2012-01-01 01:00:00  16340\n",
       "2    2012-01-01 02:00:00  16340\n",
       "3    2012-01-01 03:00:00  16340\n",
       "4    2012-01-01 04:00:00  16340\n",
       "...                  ...    ...\n",
       "8779 2012-12-31 19:00:00  16340\n",
       "8780 2012-12-31 20:00:00  16340\n",
       "8781 2012-12-31 21:00:00  16340\n",
       "8782 2012-12-31 22:00:00  16340\n",
       "8783 2012-12-31 23:00:00  16340\n",
       "\n",
       "[8784 rows x 2 columns]"
      ]
     },
     "execution_count": 32,
     "metadata": {},
     "output_type": "execute_result"
    }
   ],
   "source": [
    "%%time\n",
    "ts = tra_elec_kwh.groupBy(\"timestamp\").count().orderBy(\"timestamp\").toPandas()\n",
    "ts"
   ]
  },
  {
   "cell_type": "code",
   "execution_count": null,
   "id": "87d8b42a",
   "metadata": {},
   "outputs": [],
   "source": []
  }
 ],
 "metadata": {
  "kernelspec": {
   "display_name": "Python 3 (ipykernel)",
   "language": "python",
   "name": "python3"
  },
  "language_info": {
   "codemirror_mode": {
    "name": "ipython",
    "version": 3
   },
   "file_extension": ".py",
   "mimetype": "text/x-python",
   "name": "python",
   "nbconvert_exporter": "python",
   "pygments_lexer": "ipython3",
   "version": "3.7.13"
  }
 },
 "nbformat": 4,
 "nbformat_minor": 5
}
